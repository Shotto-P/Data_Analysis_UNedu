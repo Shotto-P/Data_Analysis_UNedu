{
  "nbformat": 4,
  "nbformat_minor": 0,
  "metadata": {
    "colab": {
      "provenance": [],
      "collapsed_sections": []
    },
    "kernelspec": {
      "name": "python3",
      "display_name": "Python 3"
    },
    "language_info": {
      "name": "python"
    }
  },
  "cells": [
    {
      "cell_type": "markdown",
      "source": [
        "Target 4.2"
      ],
      "metadata": {
        "id": "bBhl-abZKCtm"
      }
    },
    {
      "cell_type": "code",
      "execution_count": 42,
      "metadata": {
        "id": "7SBv8CMKfThw"
      },
      "outputs": [],
      "source": [
        "import pandas as pd;\n",
        "import numpy as np;\n",
        "\n",
        "#read the file and remove countries with less than 3 values.\n",
        "df_42 = pd.read_excel(\"Target4.2.xlsx\", sheet_name=\"Data\").copy();\n",
        "#print(df_42.isnull().sum(axis=1));\n",
        "temp = df_42.isnull().sum(axis=1);\n",
        "row_to_delete = temp[temp > 15].index;\n",
        "df_42_data = df_42.drop(labels=row_to_delete);\n",
        "#print(df_42_new.info());\n",
        "#print(df_42_new);\n",
        "\n",
        "df_meta = pd.read_excel(\"Target4.2.xlsx\", sheet_name=\"Country - Metadata\")[['Code', \"Income Group\"]].copy();\n",
        "df_meta[\"Income Group\"] = df_meta[\"Income Group\"].fillna(\"Unknown income\");\n",
        "#print(df_meta);\n",
        "df_meta.rename(columns={\"Code\":\"Country Code\"}, inplace=True);\n",
        "df_42_new = pd.merge(df_42_data, df_meta, how=\"left\", on=\"Country Code\");\n",
        "#print(df_42_new);"
      ]
    },
    {
      "cell_type": "markdown",
      "source": [
        "Impute Method: \n",
        "\n",
        "1.Constant value (median)"
      ],
      "metadata": {
        "id": "7bUDvaDNKQ_V"
      }
    },
    {
      "cell_type": "code",
      "source": [
        "#manipulate the dataframe before imputation\n",
        "temp = df_42_new.copy();\n",
        "countryNames = temp['Country Code'].values.tolist();\n",
        "\n",
        "temp = temp.drop(['Series Name', 'Series Code', 'Country Name', 'Country Code'], axis=1);\n",
        "\n",
        "temp_T = temp.T;\n",
        "temp_T.columns = countryNames;\n",
        "temp_T.index = list(range(2004,2023));\n",
        "temp_T.rename(index={2022:\"Income Group\"}, inplace=True);\n",
        "#print(temp_T);"
      ],
      "metadata": {
        "id": "ESeBXw6U7dmG"
      },
      "execution_count": 43,
      "outputs": []
    },
    {
      "cell_type": "code",
      "source": [
        "#method to calculate median\n",
        "temp_median = temp_T.copy();\n",
        "\n",
        "for x in temp_median.columns:\n",
        "  #remove the last row temporary\n",
        "  res = temp_median[x][:-1];\n",
        "  temp_median[x] = temp_median[x].fillna(res.median());\n",
        "print(temp_median.T);\n",
        "\n",
        "temp_median.T.to_csv(\"Target4.2_median.csv\");"
      ],
      "metadata": {
        "colab": {
          "base_uri": "https://localhost:8080/"
        },
        "id": "NZp2OtF7Udjc",
        "outputId": "29a4ab5e-2aa1-4f3c-cfde-df9f0d5c61de"
      },
      "execution_count": 44,
      "outputs": [
        {
          "output_type": "stream",
          "name": "stdout",
          "text": [
            "          2004       2005       2006        2007       2008       2009  \\\n",
            "ALB  49.662521  51.289982  53.768742   54.838661  58.609558   61.71825   \n",
            "DZA    4.72231    6.17514  29.035191    30.09886  36.259281  80.292717   \n",
            "AGO  89.285824  89.285824  89.285824  135.918228  99.419777  92.734177   \n",
            "ATG  88.406715  88.406715  88.406715   82.726624  84.778702  88.406715   \n",
            "ARG  62.300331  63.747009  63.676048   64.637627  66.605003  68.051041   \n",
            "..         ...        ...        ...         ...        ...        ...   \n",
            "SSF  19.188101   19.84598   21.30093    19.85103  19.666889   21.02854   \n",
            "SSA  19.184151   19.84218    21.2973   19.847309   19.66313   21.02491   \n",
            "TSS  19.188101   19.84598   21.30093    19.85103  19.666889   21.02854   \n",
            "UMC  44.511639   45.50843     47.479   49.347462  51.551609  53.461449   \n",
            "WLD  35.686111  37.536839  39.554859   40.974258  42.602951   44.19175   \n",
            "\n",
            "          2010       2011       2012       2013       2014       2015  \\\n",
            "ALB  65.038551  70.003304  77.326881  81.558342  83.350052  86.418251   \n",
            "DZA  83.930862  79.073997   33.17907   33.17907   33.17907   33.17907   \n",
            "AGO  85.837471  73.328979  89.285824  89.285824  89.285824  89.285824   \n",
            "ATG  93.696381  92.034729  95.864113  93.549553  92.745934  88.406715   \n",
            "ARG   68.89225  68.874046  70.589653  72.249573  73.249199  74.693161   \n",
            "..         ...        ...        ...        ...        ...        ...   \n",
            "SSF  21.125759   22.97526  26.265791  28.822281    23.6612  25.543341   \n",
            "SSA  21.122181   22.97191  26.262569   28.81938  23.658051    25.5404   \n",
            "TSS  21.125759   22.97526  26.265791  28.822281    23.6612  25.543341   \n",
            "UMC   56.73196   60.60482  65.611069  66.687119  69.100456  70.812279   \n",
            "WLD  46.240681  49.016159  52.130409   54.05941  54.143341   56.10601   \n",
            "\n",
            "          2016       2017       2018       2019       2020       2021  \\\n",
            "ALB  87.682266  83.820084  80.498734   75.75499  75.140182  75.140182   \n",
            "DZA   33.17907   33.17907   33.17907   33.17907   33.17907   33.17907   \n",
            "AGO  39.611019  89.285824  89.285824  89.285824  89.285824  89.285824   \n",
            "ATG  74.856941   72.65406  70.253601  88.406715  88.406715  88.406715   \n",
            "ARG  75.331192  76.084732   77.20121  77.778831  69.740952  69.740952   \n",
            "..         ...        ...        ...        ...        ...        ...   \n",
            "SSF  26.686041  27.195589  27.118019   27.36454   28.01552    23.6612   \n",
            "SSA  26.683109   27.19273   27.11524   27.36182   28.01276  23.658051   \n",
            "TSS  26.686041  27.195589  27.118019   27.36454   28.01552    23.6612   \n",
            "UMC  73.308502  75.107307  77.112343  77.677544    78.4226  65.611069   \n",
            "WLD  57.754681   59.38232  60.175461  60.844799   60.98555  52.130409   \n",
            "\n",
            "            Income Group  \n",
            "ALB  Upper middle income  \n",
            "DZA  Lower middle income  \n",
            "AGO  Lower middle income  \n",
            "ATG          High income  \n",
            "ARG  Upper middle income  \n",
            "..                   ...  \n",
            "SSF       Unknown income  \n",
            "SSA       Unknown income  \n",
            "TSS       Unknown income  \n",
            "UMC       Unknown income  \n",
            "WLD       Unknown income  \n",
            "\n",
            "[231 rows x 19 columns]\n"
          ]
        }
      ]
    },
    {
      "cell_type": "markdown",
      "source": [
        "2.Constant value (mean)"
      ],
      "metadata": {
        "id": "YcWmd3J7Kfne"
      }
    },
    {
      "cell_type": "code",
      "source": [
        "#method to calculate mean\n",
        "temp_mean = temp_T.copy();\n",
        "\n",
        "for x in temp_mean.columns:\n",
        "  #remove the last row temporary\n",
        "  res = temp_mean[x][:-1];\n",
        "  temp_mean[x] = temp_mean[x].fillna(res.mean());\n",
        "print(temp_mean.T);\n",
        "\n",
        "temp_mean.T.to_csv(\"Target4.2_mean.csv\");"
      ],
      "metadata": {
        "colab": {
          "base_uri": "https://localhost:8080/"
        },
        "id": "1EBVHfEy09ci",
        "outputId": "09340c94-4ae1-41a7-bfd8-25d3d171cc03"
      },
      "execution_count": 45,
      "outputs": [
        {
          "output_type": "stream",
          "name": "stdout",
          "text": [
            "          2004       2005       2006        2007       2008       2009  \\\n",
            "ALB  49.662521  51.289982  53.768742   54.838661  58.609558   61.71825   \n",
            "DZA    4.72231    6.17514  29.035191    30.09886  36.259281  80.292717   \n",
            "AGO  87.808275  87.808275  87.808275  135.918228  99.419777  92.734177   \n",
            "ATG  85.316064  85.316064  85.316064   82.726624  84.778702  85.316064   \n",
            "ARG  62.300331  63.747009  63.676048   64.637627  66.605003  68.051041   \n",
            "..         ...        ...        ...         ...        ...        ...   \n",
            "SSF  19.188101   19.84598   21.30093    19.85103  19.666889   21.02854   \n",
            "SSA  19.184151   19.84218    21.2973   19.847309   19.66313   21.02491   \n",
            "TSS  19.188101   19.84598   21.30093    19.85103  19.666889   21.02854   \n",
            "UMC  44.511639   45.50843     47.479   49.347462  51.551609  53.461449   \n",
            "WLD  35.686111  37.536839  39.554859   40.974258  42.602951   44.19175   \n",
            "\n",
            "          2010       2011       2012       2013       2014       2015  \\\n",
            "ALB  65.038551  70.003304  77.326881  81.558342  83.350052  86.418251   \n",
            "DZA  83.930862  79.073997  43.698545  43.698545  43.698545  43.698545   \n",
            "AGO  85.837471  73.328979  87.808275  87.808275  87.808275  87.808275   \n",
            "ATG  93.696381  92.034729  95.864113  93.549553  92.745934  85.316064   \n",
            "ARG   68.89225  68.874046  70.589653  72.249573  73.249199  74.693161   \n",
            "..         ...        ...        ...        ...        ...        ...   \n",
            "SSF  21.125759   22.97526  26.265791  28.822281    23.6612  25.543341   \n",
            "SSA  21.122181   22.97191  26.262569   28.81938  23.658051    25.5404   \n",
            "TSS  21.125759   22.97526  26.265791  28.822281    23.6612  25.543341   \n",
            "UMC   56.73196   60.60482  65.611069  66.687119  69.100456  70.812279   \n",
            "WLD  46.240681  49.016159  52.130409   54.05941  54.143341   56.10601   \n",
            "\n",
            "          2016       2017       2018       2019       2020       2021  \\\n",
            "ALB  87.682266  83.820084  80.498734   75.75499  75.140182  70.381138   \n",
            "DZA  43.698545  43.698545  43.698545  43.698545  43.698545  43.698545   \n",
            "AGO  39.611019  87.808275  87.808275  87.808275  87.808275  87.808275   \n",
            "ATG  74.856941   72.65406  70.253601  85.316064  85.316064  85.316064   \n",
            "ARG  75.331192  76.084732   77.20121  77.778831  70.247557  70.247557   \n",
            "..         ...        ...        ...        ...        ...        ...   \n",
            "SSF  26.686041  27.195589  27.118019   27.36454   28.01552  23.862048   \n",
            "SSA  26.683109   27.19273   27.11524   27.36182   28.01276  23.858772   \n",
            "TSS  26.686041  27.195589  27.118019   27.36454   28.01552  23.862048   \n",
            "UMC  73.308502  75.107307  77.112343  77.677544    78.4226  62.531505   \n",
            "WLD  57.754681   59.38232  60.175461  60.844799   60.98555  50.081505   \n",
            "\n",
            "            Income Group  \n",
            "ALB  Upper middle income  \n",
            "DZA  Lower middle income  \n",
            "AGO  Lower middle income  \n",
            "ATG          High income  \n",
            "ARG  Upper middle income  \n",
            "..                   ...  \n",
            "SSF       Unknown income  \n",
            "SSA       Unknown income  \n",
            "TSS       Unknown income  \n",
            "UMC       Unknown income  \n",
            "WLD       Unknown income  \n",
            "\n",
            "[231 rows x 19 columns]\n"
          ]
        }
      ]
    },
    {
      "cell_type": "markdown",
      "source": [
        "3.Time series based (forward fill)"
      ],
      "metadata": {
        "id": "3f0UmP-HKi5X"
      }
    },
    {
      "cell_type": "code",
      "source": [
        "temp_ffill = temp_T.copy();\n",
        "\n",
        "for x in temp_ffill.columns:\n",
        "  temp_ffill[x] = temp_ffill[x].fillna(method=\"ffill\");\n",
        "\n",
        "temp_ffill = temp_ffill.fillna(0);\n",
        "print(temp_ffill.T);\n",
        "temp_ffill.T.to_csv(\"Target4.2_ffill.csv\");"
      ],
      "metadata": {
        "colab": {
          "base_uri": "https://localhost:8080/"
        },
        "id": "yCNuJLA_7rkZ",
        "outputId": "35b77c9f-761a-4c6a-b13a-1ac9b02d4ea6"
      },
      "execution_count": 46,
      "outputs": [
        {
          "output_type": "stream",
          "name": "stdout",
          "text": [
            "          2004       2005       2006        2007       2008       2009  \\\n",
            "ALB  49.662521  51.289982  53.768742   54.838661  58.609558   61.71825   \n",
            "DZA    4.72231    6.17514  29.035191    30.09886  36.259281  80.292717   \n",
            "AGO          0          0          0  135.918228  99.419777  92.734177   \n",
            "ATG          0          0          0   82.726624  84.778702  84.778702   \n",
            "ARG  62.300331  63.747009  63.676048   64.637627  66.605003  68.051041   \n",
            "..         ...        ...        ...         ...        ...        ...   \n",
            "SSF  19.188101   19.84598   21.30093    19.85103  19.666889   21.02854   \n",
            "SSA  19.184151   19.84218    21.2973   19.847309   19.66313   21.02491   \n",
            "TSS  19.188101   19.84598   21.30093    19.85103  19.666889   21.02854   \n",
            "UMC  44.511639   45.50843     47.479   49.347462  51.551609  53.461449   \n",
            "WLD  35.686111  37.536839  39.554859   40.974258  42.602951   44.19175   \n",
            "\n",
            "          2010       2011       2012       2013       2014       2015  \\\n",
            "ALB  65.038551  70.003304  77.326881  81.558342  83.350052  86.418251   \n",
            "DZA  83.930862  79.073997  79.073997  79.073997  79.073997  79.073997   \n",
            "AGO  85.837471  73.328979  73.328979  73.328979  73.328979  73.328979   \n",
            "ATG  93.696381  92.034729  95.864113  93.549553  92.745934  92.745934   \n",
            "ARG   68.89225  68.874046  70.589653  72.249573  73.249199  74.693161   \n",
            "..         ...        ...        ...        ...        ...        ...   \n",
            "SSF  21.125759   22.97526  26.265791  28.822281    23.6612  25.543341   \n",
            "SSA  21.122181   22.97191  26.262569   28.81938  23.658051    25.5404   \n",
            "TSS  21.125759   22.97526  26.265791  28.822281    23.6612  25.543341   \n",
            "UMC   56.73196   60.60482  65.611069  66.687119  69.100456  70.812279   \n",
            "WLD  46.240681  49.016159  52.130409   54.05941  54.143341   56.10601   \n",
            "\n",
            "          2016       2017       2018       2019       2020       2021  \\\n",
            "ALB  87.682266  83.820084  80.498734   75.75499  75.140182  75.140182   \n",
            "DZA  79.073997  79.073997  79.073997  79.073997  79.073997  79.073997   \n",
            "AGO  39.611019  39.611019  39.611019  39.611019  39.611019  39.611019   \n",
            "ATG  74.856941   72.65406  70.253601  70.253601  70.253601  70.253601   \n",
            "ARG  75.331192  76.084732   77.20121  77.778831  77.778831  77.778831   \n",
            "..         ...        ...        ...        ...        ...        ...   \n",
            "SSF  26.686041  27.195589  27.118019   27.36454   28.01552   28.01552   \n",
            "SSA  26.683109   27.19273   27.11524   27.36182   28.01276   28.01276   \n",
            "TSS  26.686041  27.195589  27.118019   27.36454   28.01552   28.01552   \n",
            "UMC  73.308502  75.107307  77.112343  77.677544    78.4226    78.4226   \n",
            "WLD  57.754681   59.38232  60.175461  60.844799   60.98555   60.98555   \n",
            "\n",
            "            Income Group  \n",
            "ALB  Upper middle income  \n",
            "DZA  Lower middle income  \n",
            "AGO  Lower middle income  \n",
            "ATG          High income  \n",
            "ARG  Upper middle income  \n",
            "..                   ...  \n",
            "SSF       Unknown income  \n",
            "SSA       Unknown income  \n",
            "TSS       Unknown income  \n",
            "UMC       Unknown income  \n",
            "WLD       Unknown income  \n",
            "\n",
            "[231 rows x 19 columns]\n"
          ]
        }
      ]
    },
    {
      "cell_type": "markdown",
      "source": [
        "4.Time series based (backward fill)"
      ],
      "metadata": {
        "id": "SUBfmxU3KuFu"
      }
    },
    {
      "cell_type": "code",
      "source": [
        "temp_bfill = temp_T.copy();\n",
        "lastRow = temp_bfill.copy().iloc[-1:];\n",
        "temp_bfill = temp_bfill[:-1];\n",
        "\n",
        "for x in temp_bfill.columns:\n",
        "  temp_bfill[x] = temp_bfill[x].fillna(method=\"bfill\");\n",
        "\n",
        "temp_bfill = temp_bfill.fillna(0);\n",
        "temp_bfill = temp_bfill.append(lastRow);\n",
        "print(temp_bfill.T);\n",
        "temp_bfill.T.to_csv(\"Target4.2_bfill.csv\");"
      ],
      "metadata": {
        "colab": {
          "base_uri": "https://localhost:8080/"
        },
        "id": "TKOEPg2Z8Pa1",
        "outputId": "9bdef608-2d05-4e1d-9aeb-c873121386ba"
      },
      "execution_count": 47,
      "outputs": [
        {
          "output_type": "stream",
          "name": "stdout",
          "text": [
            "           2004        2005        2006        2007       2008       2009  \\\n",
            "ALB   49.662521   51.289982   53.768742   54.838661  58.609558   61.71825   \n",
            "DZA     4.72231     6.17514   29.035191    30.09886  36.259281  80.292717   \n",
            "AGO  135.918228  135.918228  135.918228  135.918228  99.419777  92.734177   \n",
            "ATG   82.726624   82.726624   82.726624   82.726624  84.778702  93.696381   \n",
            "ARG   62.300331   63.747009   63.676048   64.637627  66.605003  68.051041   \n",
            "..          ...         ...         ...         ...        ...        ...   \n",
            "SSF   19.188101    19.84598    21.30093    19.85103  19.666889   21.02854   \n",
            "SSA   19.184151    19.84218     21.2973   19.847309   19.66313   21.02491   \n",
            "TSS   19.188101    19.84598    21.30093    19.85103  19.666889   21.02854   \n",
            "UMC   44.511639    45.50843      47.479   49.347462  51.551609  53.461449   \n",
            "WLD   35.686111   37.536839   39.554859   40.974258  42.602951   44.19175   \n",
            "\n",
            "          2010       2011       2012       2013       2014       2015  \\\n",
            "ALB  65.038551  70.003304  77.326881  81.558342  83.350052  86.418251   \n",
            "DZA  83.930862  79.073997        0.0        0.0        0.0        0.0   \n",
            "AGO  85.837471  73.328979  39.611019  39.611019  39.611019  39.611019   \n",
            "ATG  93.696381  92.034729  95.864113  93.549553  92.745934  74.856941   \n",
            "ARG   68.89225  68.874046  70.589653  72.249573  73.249199  74.693161   \n",
            "..         ...        ...        ...        ...        ...        ...   \n",
            "SSF  21.125759   22.97526  26.265791  28.822281    23.6612  25.543341   \n",
            "SSA  21.122181   22.97191  26.262569   28.81938  23.658051    25.5404   \n",
            "TSS  21.125759   22.97526  26.265791  28.822281    23.6612  25.543341   \n",
            "UMC   56.73196   60.60482  65.611069  66.687119  69.100456  70.812279   \n",
            "WLD  46.240681  49.016159  52.130409   54.05941  54.143341   56.10601   \n",
            "\n",
            "          2016       2017       2018       2019       2020 2021  \\\n",
            "ALB  87.682266  83.820084  80.498734   75.75499  75.140182  0.0   \n",
            "DZA        0.0        0.0        0.0        0.0        0.0  0.0   \n",
            "AGO  39.611019        0.0        0.0        0.0        0.0  0.0   \n",
            "ATG  74.856941   72.65406  70.253601        0.0        0.0  0.0   \n",
            "ARG  75.331192  76.084732   77.20121  77.778831        0.0  0.0   \n",
            "..         ...        ...        ...        ...        ...  ...   \n",
            "SSF  26.686041  27.195589  27.118019   27.36454   28.01552  0.0   \n",
            "SSA  26.683109   27.19273   27.11524   27.36182   28.01276  0.0   \n",
            "TSS  26.686041  27.195589  27.118019   27.36454   28.01552  0.0   \n",
            "UMC  73.308502  75.107307  77.112343  77.677544    78.4226  0.0   \n",
            "WLD  57.754681   59.38232  60.175461  60.844799   60.98555  0.0   \n",
            "\n",
            "            Income Group  \n",
            "ALB  Upper middle income  \n",
            "DZA  Lower middle income  \n",
            "AGO  Lower middle income  \n",
            "ATG          High income  \n",
            "ARG  Upper middle income  \n",
            "..                   ...  \n",
            "SSF       Unknown income  \n",
            "SSA       Unknown income  \n",
            "TSS       Unknown income  \n",
            "UMC       Unknown income  \n",
            "WLD       Unknown income  \n",
            "\n",
            "[231 rows x 19 columns]\n"
          ]
        }
      ]
    },
    {
      "cell_type": "markdown",
      "source": [
        "5.Advanced method (linear regression)"
      ],
      "metadata": {
        "id": "VkWGxW7XKyoE"
      }
    },
    {
      "cell_type": "code",
      "source": [
        "from sklearn.linear_model import LinearRegression;\n",
        "regression = LinearRegression();\n",
        "\n",
        "temp_regr = temp_T.copy();\n",
        "lastRow = temp_regr.copy().iloc[-1:];\n",
        "temp_regr = temp_regr.iloc[:-1];\n",
        "\n",
        "for x in temp_regr.columns:\n",
        "  temp = temp_regr[x].copy();\n",
        "  X_test = temp[temp.isnull()==True];\n",
        "\n",
        "  if(len(X_test.index)>0):\n",
        "    train = temp[temp.isnull()==False];\n",
        "    regression.fit(np.array(train.index).reshape(-1,1), np.array(train.values).reshape(-1,1));\n",
        "    y_predict = regression.predict(np.array(X_test.index).reshape(-1,1));\n",
        "    temp[temp.isnull()==True] = y_predict;\n",
        "    temp_regr[x] = temp;\n",
        "\n",
        "temp_regr = temp_regr.append(lastRow);\n",
        "print(temp_regr.T)\n",
        "\n",
        "temp_regr.T.to_csv(\"Target4.2_regr.csv\");"
      ],
      "metadata": {
        "colab": {
          "base_uri": "https://localhost:8080/"
        },
        "id": "GjQLkbQo8npo",
        "outputId": "04e2e91e-82f2-4ff0-a36b-d9ed731a89ba"
      },
      "execution_count": 48,
      "outputs": [
        {
          "output_type": "stream",
          "name": "stdout",
          "text": [
            "           2004        2005        2006        2007       2008       2009  \\\n",
            "ALB   49.662521   51.289982   53.768742   54.838661  58.609558   61.71825   \n",
            "DZA     4.72231     6.17514   29.035191    30.09886  36.259281  80.292717   \n",
            "AGO  145.569715  136.202995  126.836275  135.918228  99.419777  92.734177   \n",
            "ATG   97.815839   96.362377   94.908915   82.726624  84.778702  76.013905   \n",
            "ARG   62.300331   63.747009   63.676048   64.637627  66.605003  68.051041   \n",
            "..          ...         ...         ...         ...        ...        ...   \n",
            "SSF   19.188101    19.84598    21.30093    19.85103  19.666889   21.02854   \n",
            "SSA   19.184151    19.84218     21.2973   19.847309   19.66313   21.02491   \n",
            "TSS   19.188101    19.84598    21.30093    19.85103  19.666889   21.02854   \n",
            "UMC   44.511639    45.50843      47.479   49.347462  51.551609  53.461449   \n",
            "WLD   35.686111   37.536839   39.554859   40.974258  42.602951   44.19175   \n",
            "\n",
            "          2010       2011        2012        2013        2014        2015  \\\n",
            "ALB  65.038551  70.003304   77.326881   81.558342   83.350052   86.418251   \n",
            "DZA  83.930862  79.073997  202.801733  215.529988  100.975693  113.703948   \n",
            "AGO  85.837471  73.328979   14.435636    5.068916   -4.297804  -13.664524   \n",
            "ATG  93.696381  92.034729   95.864113   93.549553   92.745934   90.548528   \n",
            "ARG   68.89225  68.874046   70.589653   72.249573   73.249199   74.693161   \n",
            "..         ...        ...         ...         ...         ...         ...   \n",
            "SSF  21.125759   22.97526   26.265791   28.822281     23.6612   25.543341   \n",
            "SSA  21.122181   22.97191   26.262569    28.81938   23.658051     25.5404   \n",
            "TSS  21.125759   22.97526   26.265791   28.822281     23.6612   25.543341   \n",
            "UMC   56.73196   60.60482   65.611069   66.687119   69.100456   70.812279   \n",
            "WLD  46.240681  49.016159   52.130409    54.05941   54.143341    56.10601   \n",
            "\n",
            "           2016        2017        2018        2019        2020        2021  \\\n",
            "ALB   87.682266   83.820084   80.498734    75.75499   75.140182   90.651703   \n",
            "DZA  126.432203  139.160458  151.888713  164.616968  177.345223  190.073478   \n",
            "AGO   39.611019  136.202995  126.836275   70.635955   61.269235   51.902516   \n",
            "ATG   74.856941    72.65406   70.253601   73.106981   97.815839   96.362377   \n",
            "ARG   75.331192   76.084732    77.20121   77.778831   79.425247   80.504975   \n",
            "..          ...         ...         ...         ...         ...         ...   \n",
            "SSF   26.686041   27.195589   27.118019    27.36454    28.01552   29.319699   \n",
            "SSA   26.683109    27.19273    27.11524    27.36182    28.01276   29.317155   \n",
            "TSS   26.686041   27.195589   27.118019    27.36454    28.01552   29.319699   \n",
            "UMC   73.308502   75.107307   77.112343   77.677544     78.4226   83.994081   \n",
            "WLD   57.754681    59.38232   60.175461   60.844799    60.98555    65.48989   \n",
            "\n",
            "            Income Group  \n",
            "ALB  Upper middle income  \n",
            "DZA  Lower middle income  \n",
            "AGO  Lower middle income  \n",
            "ATG          High income  \n",
            "ARG  Upper middle income  \n",
            "..                   ...  \n",
            "SSF       Unknown income  \n",
            "SSA       Unknown income  \n",
            "TSS       Unknown income  \n",
            "UMC       Unknown income  \n",
            "WLD       Unknown income  \n",
            "\n",
            "[231 rows x 19 columns]\n"
          ]
        }
      ]
    },
    {
      "cell_type": "markdown",
      "source": [
        "Clustering:\n",
        "\n",
        "KMEAN:"
      ],
      "metadata": {
        "id": "6Z3gb7mOzRd9"
      }
    },
    {
      "cell_type": "code",
      "source": [
        "from sklearn.cluster import KMeans;\n",
        "import matplotlib.pyplot as plt;\n",
        "\n",
        "%env OMP_NUM_THREADS = 1\n",
        "\n",
        "for filename in (\"Target4.2_mean.csv\", \"Target4.2_median.csv\", \"Target4.2_ffill.csv\", \"Target4.2_bfill.csv\", \"Target4.2_regr.csv\"):\n",
        "  df = pd.read_csv(filename);\n",
        "  #remove the country code and income group columns before doing elbow\n",
        "  df = df.iloc[:, :-1];\n",
        "  df = df.iloc[:, 1:];\n",
        "  #print(df);\n",
        "\n",
        "  inertia = [];\n",
        "  cluster_range = range(1, 11);\n",
        "\n",
        "  for num_cluster in cluster_range:\n",
        "    km = KMeans(num_cluster);\n",
        "    km.fit(df);\n",
        "    inertia.append(km.inertia_);\n",
        "  plt.xlabel(\"Number of Cluster\");\n",
        "  plt.ylabel(\"disortion/inertia\");\n",
        "  plt.title(filename);\n",
        "  plt.plot(cluster_range, inertia);\n",
        "  plt.scatter(cluster_range, inertia);\n",
        "  plt.show();"
      ],
      "metadata": {
        "colab": {
          "base_uri": "https://localhost:8080/",
          "height": 1000
        },
        "id": "o7HI10FG9ic3",
        "outputId": "0096187f-b089-4a28-b400-8ebf5f24dc3f"
      },
      "execution_count": 49,
      "outputs": [
        {
          "output_type": "stream",
          "name": "stdout",
          "text": [
            "env: OMP_NUM_THREADS=1\n"
          ]
        },
        {
          "output_type": "display_data",
          "data": {
            "text/plain": [
              "<Figure size 432x288 with 1 Axes>"
            ],
            "image/png": "[encoded data removed]"
          },
          "metadata": {
            "needs_background": "light"
          }
        },
        {
          "output_type": "display_data",
          "data": {
            "text/plain": [
              "<Figure size 432x288 with 1 Axes>"
            ],
            "image/png": "[encoded data removed]"
          },
          "metadata": {
            "needs_background": "light"
          }
        },
        {
          "output_type": "display_data",
          "data": {
            "text/plain": [
              "<Figure size 432x288 with 1 Axes>"
            ],
            "image/png": "[encoded data removed]"
          },
          "metadata": {
            "needs_background": "light"
          }
        },
        {
          "output_type": "display_data",
          "data": {
            "text/plain": [
              "<Figure size 432x288 with 1 Axes>"
            ],
            "image/png": "[encoded data removed]"
          },
          "metadata": {
            "needs_background": "light"
          }
        },
        {
          "output_type": "display_data",
          "data": {
            "text/plain": [
              "<Figure size 432x288 with 1 Axes>"
            ],
            "image/png": "[encoded data removed]"
          },
          "metadata": {
            "needs_background": "light"
          }
        }
      ]
    },
    {
      "cell_type": "markdown",
      "source": [
        "Therefore, for the best number of clusters:\n",
        "\n",
        "mean: 3\n",
        "\n",
        "median: 3\n",
        "\n",
        "ffill: 4\n",
        "\n",
        "bfill: 4\n",
        "\n",
        "regr: 4"
      ],
      "metadata": {
        "id": "7M0Sdx_MMauk"
      }
    },
    {
      "cell_type": "code",
      "source": [
        "#dictionary to store corresponding k values\n",
        "K_values = {\n",
        "    \"Target4.2_mean.csv\": 3,\n",
        "    \"Target4.2_median.csv\": 3,\n",
        "    \"Target4.2_ffill.csv\": 4,\n",
        "    \"Target4.2_bfill.csv\": 4,\n",
        "    \"Target4.2_regr.csv\": 4,\n",
        "};"
      ],
      "metadata": {
        "id": "c9P-QNaxL7qP"
      },
      "execution_count": 50,
      "outputs": []
    },
    {
      "cell_type": "code",
      "source": [
        "from sklearn import metrics;\n",
        "\n",
        "for key, value in K_values.items():\n",
        "  KMClustering = KMeans(n_clusters=value);\n",
        "  df_km = pd.read_csv(key);\n",
        "  km_data = df_km.copy().iloc[:, 1:-1];\n",
        "  #print(km_data);\n",
        "  km_target = df_km.copy().iloc[:, -1:];\n",
        "  target = km_target[\"Income Group\"].to_list();\n",
        "  #print(target);\n",
        "  KMClustering.fit(km_data);\n",
        "\n",
        "  #evaluation without labels ----- Silhouette Coefficient\n",
        "  print(\n",
        "    key,\n",
        "    \": Silhouette Coefficient for KMeans: %0.3f\"\n",
        "    % metrics.silhouette_score(km_data, KMClustering.labels_, metric='euclidean')\n",
        "  );\n",
        "\n",
        "  #evaluation with labels (country income group) ------ Adjusted Rand Index\n",
        "  #print(KMClustering.labels_);\n",
        "  print(\n",
        "      key,\n",
        "      \": Adjusted Rand Index for KMeans:\",\n",
        "      metrics.adjusted_rand_score(target, KMClustering.labels_)\n",
        "  )"
      ],
      "metadata": {
        "colab": {
          "base_uri": "https://localhost:8080/"
        },
        "id": "ZK1HQnheWfC5",
        "outputId": "ebcc7db8-8af8-4f71-83a2-075269130a16"
      },
      "execution_count": 51,
      "outputs": [
        {
          "output_type": "stream",
          "name": "stdout",
          "text": [
            "Target4.2_mean.csv : Silhouette Coefficient for KMeans: 0.509\n",
            "Target4.2_mean.csv : Adjusted Rand Index for KMeans: 0.1521490466676321\n",
            "Target4.2_median.csv : Silhouette Coefficient for KMeans: 0.506\n",
            "Target4.2_median.csv : Adjusted Rand Index for KMeans: 0.152949643245343\n",
            "Target4.2_ffill.csv : Silhouette Coefficient for KMeans: 0.474\n",
            "Target4.2_ffill.csv : Adjusted Rand Index for KMeans: 0.11249917028281031\n",
            "Target4.2_bfill.csv : Silhouette Coefficient for KMeans: 0.388\n",
            "Target4.2_bfill.csv : Adjusted Rand Index for KMeans: 0.1571827945187613\n",
            "Target4.2_regr.csv : Silhouette Coefficient for KMeans: 0.483\n",
            "Target4.2_regr.csv : Adjusted Rand Index for KMeans: 0.1439081278995332\n"
          ]
        }
      ]
    },
    {
      "cell_type": "markdown",
      "source": [
        "Hierarchical Clustering"
      ],
      "metadata": {
        "id": "v2J-sjut1ABo"
      }
    },
    {
      "cell_type": "code",
      "source": [
        "from sklearn.cluster import AgglomerativeClustering;\n",
        "\n",
        "for key, value in K_values.items():\n",
        "  df_hc = pd.read_csv(key);\n",
        "  hc_data = df_hc.copy().iloc[:, 1:-1];\n",
        "  hc_target = df_hc.copy().iloc[:, -1:];\n",
        "  target = hc_target[\"Income Group\"].to_list();\n",
        "\n",
        "  for linkage in ( \"average\", \"complete\", \"single\"):\n",
        "    HClustering = AgglomerativeClustering(linkage=linkage, n_clusters=value);\n",
        "    HClustering.fit(hc_data);\n",
        "\n",
        "    #evaluation without labels ----- Silhouette Coefficient\n",
        "    print(\n",
        "      key,\n",
        "      \": Silhouette Coefficient for Hierarchical Clustering - \",\n",
        "      linkage,\n",
        "      \" : %0.3f\"\n",
        "      % metrics.silhouette_score(hc_data, HClustering.labels_, metric='euclidean')\n",
        "    );\n",
        "\n",
        "    #evaluation with labels (country income group) ------ Adjusted Rand Index\n",
        "    print(\n",
        "      key,\n",
        "      \": Adjusted Rand Index for Hierachical Clustering - \",\n",
        "      linkage,\n",
        "      \" : \",\n",
        "      metrics.adjusted_rand_score(target, KMClustering.labels_)\n",
        "    );"
      ],
      "metadata": {
        "colab": {
          "base_uri": "https://localhost:8080/"
        },
        "id": "oHkd4g_WObPH",
        "outputId": "b87482e1-2447-4a51-9ba2-a2c5eaea5103"
      },
      "execution_count": 52,
      "outputs": [
        {
          "output_type": "stream",
          "name": "stdout",
          "text": [
            "Target4.2_mean.csv : Silhouette Coefficient for Hierarchical Clustering -  average  : 0.533\n",
            "Target4.2_mean.csv : Adjusted Rand Index for Hierachical Clustering -  average  :  0.1439081278995332\n",
            "Target4.2_mean.csv : Silhouette Coefficient for Hierarchical Clustering -  complete  : 0.443\n",
            "Target4.2_mean.csv : Adjusted Rand Index for Hierachical Clustering -  complete  :  0.1439081278995332\n",
            "Target4.2_mean.csv : Silhouette Coefficient for Hierarchical Clustering -  single  : 0.350\n",
            "Target4.2_mean.csv : Adjusted Rand Index for Hierachical Clustering -  single  :  0.1439081278995332\n",
            "Target4.2_median.csv : Silhouette Coefficient for Hierarchical Clustering -  average  : 0.536\n",
            "Target4.2_median.csv : Adjusted Rand Index for Hierachical Clustering -  average  :  0.1439081278995332\n",
            "Target4.2_median.csv : Silhouette Coefficient for Hierarchical Clustering -  complete  : 0.416\n",
            "Target4.2_median.csv : Adjusted Rand Index for Hierachical Clustering -  complete  :  0.1439081278995332\n",
            "Target4.2_median.csv : Silhouette Coefficient for Hierarchical Clustering -  single  : 0.346\n",
            "Target4.2_median.csv : Adjusted Rand Index for Hierachical Clustering -  single  :  0.1439081278995332\n",
            "Target4.2_ffill.csv : Silhouette Coefficient for Hierarchical Clustering -  average  : 0.366\n",
            "Target4.2_ffill.csv : Adjusted Rand Index for Hierachical Clustering -  average  :  0.1439081278995332\n",
            "Target4.2_ffill.csv : Silhouette Coefficient for Hierarchical Clustering -  complete  : 0.449\n",
            "Target4.2_ffill.csv : Adjusted Rand Index for Hierachical Clustering -  complete  :  0.1439081278995332\n",
            "Target4.2_ffill.csv : Silhouette Coefficient for Hierarchical Clustering -  single  : 0.091\n",
            "Target4.2_ffill.csv : Adjusted Rand Index for Hierachical Clustering -  single  :  0.1439081278995332\n",
            "Target4.2_bfill.csv : Silhouette Coefficient for Hierarchical Clustering -  average  : 0.356\n",
            "Target4.2_bfill.csv : Adjusted Rand Index for Hierachical Clustering -  average  :  0.1439081278995332\n",
            "Target4.2_bfill.csv : Silhouette Coefficient for Hierarchical Clustering -  complete  : 0.452\n",
            "Target4.2_bfill.csv : Adjusted Rand Index for Hierachical Clustering -  complete  :  0.1439081278995332\n",
            "Target4.2_bfill.csv : Silhouette Coefficient for Hierarchical Clustering -  single  : 0.245\n",
            "Target4.2_bfill.csv : Adjusted Rand Index for Hierachical Clustering -  single  :  0.1439081278995332\n",
            "Target4.2_regr.csv : Silhouette Coefficient for Hierarchical Clustering -  average  : 0.498\n",
            "Target4.2_regr.csv : Adjusted Rand Index for Hierachical Clustering -  average  :  0.1439081278995332\n",
            "Target4.2_regr.csv : Silhouette Coefficient for Hierarchical Clustering -  complete  : 0.545\n",
            "Target4.2_regr.csv : Adjusted Rand Index for Hierachical Clustering -  complete  :  0.1439081278995332\n",
            "Target4.2_regr.csv : Silhouette Coefficient for Hierarchical Clustering -  single  : 0.498\n",
            "Target4.2_regr.csv : Adjusted Rand Index for Hierachical Clustering -  single  :  0.1439081278995332\n"
          ]
        }
      ]
    },
    {
      "cell_type": "markdown",
      "source": [
        "As we can learn from the performance metrics above, in terms of the performance of using Hierarchical Clustering, the best linkage for each of the imputation method are :\n",
        "\n",
        "Imputation Method:\n",
        "\n",
        "Mean: average ------ Silhouette Coefficient: 0.533\n",
        "\n",
        "Median: average ------ Silhouette Coefficient: 0.536\n",
        "\n",
        "Ffill: complete ------ Silhouette Coefficient: 0.449\n",
        "\n",
        "Bfill: complete ------ Silhouette Coefficient: 0.452\n",
        "\n",
        "Regression: complete ------ Silhouette Coefficient: 0.545"
      ],
      "metadata": {
        "id": "Ksthm6Q2VbB4"
      }
    },
    {
      "cell_type": "markdown",
      "source": [
        "Birch Clustering"
      ],
      "metadata": {
        "id": "qmukHyrl4EoE"
      }
    },
    {
      "cell_type": "code",
      "source": [
        "from sklearn.cluster import Birch;\n",
        "\n",
        "for key, value in K_values.items():\n",
        "  df_bir = pd.read_csv(key);\n",
        "  bir_data = df_bir.copy().iloc[:, 1:-1];\n",
        "  bir_target = df_bir.copy().iloc[:, -1:];\n",
        "  target = bir_target[\"Income Group\"].to_list();\n",
        "\n",
        "  BClustering = Birch(n_clusters=value);\n",
        "  BClustering.fit(bir_data);\n",
        "\n",
        "  #evaluation without labels ----- Silhouette Coefficient\n",
        "  print(\n",
        "    key,\n",
        "    \": Silhouette Coefficient for Birch: %0.3f\"\n",
        "    % metrics.silhouette_score(bir_data, BClustering.predict(bir_data), metric='euclidean')\n",
        "  );\n",
        "\n",
        "  #evaluation with labels (country income group) ------ Adjusted Rand Index\n",
        "  print(\n",
        "      key,\n",
        "      \": Adjusted Rand Index for Birch:\",\n",
        "      metrics.adjusted_rand_score(target, BClustering.predict(bir_data))\n",
        "  );"
      ],
      "metadata": {
        "colab": {
          "base_uri": "https://localhost:8080/"
        },
        "id": "9zjtqhhh4Jt7",
        "outputId": "2c951978-f1b5-4146-c2c0-fbb81c318293"
      },
      "execution_count": 53,
      "outputs": [
        {
          "output_type": "stream",
          "name": "stdout",
          "text": [
            "Target4.2_mean.csv : Silhouette Coefficient for Birch: 0.505\n",
            "Target4.2_mean.csv : Adjusted Rand Index for Birch: 0.14291536855133388\n",
            "Target4.2_median.csv : Silhouette Coefficient for Birch: 0.477\n",
            "Target4.2_median.csv : Adjusted Rand Index for Birch: 0.13321776569604268\n",
            "Target4.2_ffill.csv : Silhouette Coefficient for Birch: 0.311\n",
            "Target4.2_ffill.csv : Adjusted Rand Index for Birch: 0.09325374089112667\n",
            "Target4.2_bfill.csv : Silhouette Coefficient for Birch: 0.366\n",
            "Target4.2_bfill.csv : Adjusted Rand Index for Birch: 0.15469634152358347\n",
            "Target4.2_regr.csv : Silhouette Coefficient for Birch: 0.435\n",
            "Target4.2_regr.csv : Adjusted Rand Index for Birch: 0.13996129714602068\n"
          ]
        }
      ]
    },
    {
      "cell_type": "markdown",
      "source": [
        "Because the bigger Silhouette Coefficient is, the better the clustering model is, and so does the Adjusted Rand Index, the closer it is to 1, the better the clustering model is. \n",
        "\n",
        "Therefore, according to the calculation above, we can learn that the best clustering methods for each of the imputation method are:\n",
        "\n",
        "Mean: Hierarchical Clustering ---- average linkage ------ Silhouette Coefficient: 0.533\n",
        "\n",
        "Median: Hierarchical Clustering ---- average linkage ------ Silhouette Coefficient: 0.536\n",
        "\n",
        "Ffill: KMeans Clustering ----- Silhouette Coefficient: 0.474\n",
        "\n",
        "Bfill: Hierarchical Clustering ---- complete linkage ------ Silhouette Coefficient: 0.452\n",
        "\n",
        "Regression: Hierarchical Clustering ----- complete linkage ---- Silhouette Coefficient: 0.545\n",
        "\n",
        "\n",
        "Because, 0.545 > 0.536 > 0.533 > 0.474 > 0.452, the best imputation method for clustering is Linear Regression using Hierarchical Clustering with complete linkage."
      ],
      "metadata": {
        "id": "vbaVrlsMUfr5"
      }
    }
  ]
}
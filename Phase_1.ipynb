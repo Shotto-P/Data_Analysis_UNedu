{
  "cells": [
    {
      "cell_type": "markdown",
      "metadata": {
        "id": "eYsrSmdyKbjD"
      },
      "source": [
        "# Step 1: Data Selection\n",
        "\n",
        "## Select Targets, indicators and sub-indicators"
      ]
    },
    {
      "cell_type": "markdown",
      "metadata": {
        "id": "o6zWZr8lKcwC"
      },
      "source": [
        "### **Target 4.1**\n",
        "\n",
        "By 2030, ensure that all girls and boys complete free, equitable and quality primary and secondary education leading to relevant and effective learning outcomes\n",
        "\n",
        "#### **Indicator 4.1.1**\n",
        "\n",
        "Proportion of children and young people (a) in grades 2/3; (b) at the end of primary; and (c) at the end of lower secondary achieving at least a minimum proficiency level in (i) reading and (ii) mathematics, by sex\n",
        "\n",
        "**Sub-indicator:**\n",
        "\n",
        "Female pupils below minimum reading proficiency at end of primary (%). Low GAML threshold\n",
        "\n",
        "Male pupils below minimum reading proficiency at end of primary (%). Low GAML threshold"
      ]
    },
    {
      "cell_type": "code",
      "execution_count": 1,
      "metadata": {
        "id": "Ua0A_7F1KiTx"
      },
      "outputs": [],
      "source": [
        "sub_1_1 = [\"Female pupils below minimum reading proficiency at end of primary (%). Low GAML threshold\",\n",
        "           \"Male pupils below minimum reading proficiency at end of primary (%). Low GAML threshold\"]"
      ]
    },
    {
      "cell_type": "markdown",
      "metadata": {
        "id": "8vMt9n5ZNUHP"
      },
      "source": [
        "#### **Indicator 4.1.2**\n",
        "\n",
        "Completion rate (primary education, lower secondary education, upper secondary education)\n",
        "\n",
        "**Sub-indicator:**\n",
        "\n",
        "Educational attainment, at least completed primary, population 25+ years, total (%) (cumulative)\n",
        "\n",
        "Educational attainment, at least completed lower secondary, population 25+, total (%) (cumulative)\n",
        "\n",
        "Educational attainment, at least completed upper secondary, population 25+, total (%) (cumulative)"
      ]
    },
    {
      "cell_type": "code",
      "execution_count": 2,
      "metadata": {
        "id": "ynZxy5vXKYXb"
      },
      "outputs": [],
      "source": [
        "sub_1_2 = [\"Educational attainment, at least completed primary, population 25+ years, total (%) (cumulative)\",\n",
        "           \"Educational attainment, at least completed lower secondary, population 25+, total (%) (cumulative)\",\n",
        "           \"Educational attainment, at least completed upper secondary, population 25+, total (%) (cumulative)\"]"
      ]
    },
    {
      "cell_type": "markdown",
      "metadata": {
        "id": "GczmoNUVKpOD"
      },
      "source": [
        "### **Target 4.2**\n",
        "\n",
        "By 2030, ensure that all girls and boys have access to quality early childhood development, care and pre-primary education so that they are ready for primary education\n",
        "\n",
        "#### **Indicator 4.2.2**\n",
        "\n",
        "Participation rate in organized learning (one year before the official primary entry age), by sex\n",
        "\n",
        "**Sub-indicator:**\n",
        "\n",
        "School enrollment, preprimary, female (% gross)\n",
        "\n",
        "School enrollment, preprimary, male (% gross)"
      ]
    },
    {
      "cell_type": "code",
      "execution_count": 3,
      "metadata": {
        "id": "rwIeGs2AKqgD"
      },
      "outputs": [],
      "source": [
        "sub_2_2 = [\"School enrollment, preprimary, female (% gross)\",\n",
        "           \"School enrollment, preprimary, male (% gross)\"]"
      ]
    },
    {
      "cell_type": "markdown",
      "metadata": {
        "id": "a0dy_Uu7Kqoz"
      },
      "source": [
        "### **Target 4.3** \n",
        "\n",
        "By 2030, ensure equal access for all women and men to affordable and quality technical, vocational and tertiary education, including university \n",
        "\n",
        "#### **Indicator 4.3.1** \n",
        "\n",
        "Participation rate of youth and adults in formal and non-formal education and training in the previous 12 months, by sex\n",
        "\n",
        "**Sub-indicator**\n",
        "\n",
        "School enrollment, tertiary, male (% gross)\n",
        "\n",
        "School enrollment, tertiary, female (% gross)\n"
      ]
    },
    {
      "cell_type": "code",
      "execution_count": 4,
      "metadata": {
        "id": "L0y2tV4HLKLU"
      },
      "outputs": [],
      "source": [
        "sub_3 = [\"School enrollment, tertiary, male (% gross)\",\n",
        "         \"School enrollment, tertiary, female (% gross)\"]"
      ]
    },
    {
      "cell_type": "markdown",
      "metadata": {
        "id": "IOrgRYOOe9qR"
      },
      "source": [
        "### **Target 4.4** \n",
        "\n",
        "(Based on the understanding of this target, our group believes that the two sub-indicators that we selected are considered as ICT skills).\n",
        "\n",
        "By 2030, substantially increase the number of youth and adults who have relevant skills, including technical and vocational skills, for employment, decent jobs and entrepreneurship\n",
        "\n",
        "#### **Indicator 4.4.1** \n",
        "\n",
        "Proportion of youth and adults with information and communications technology (ICT) skills, by type of skill\n",
        "\n",
        "**Sub-indicator**\n",
        "\n",
        "Percentage of graduates from tertiary education graduating from Natural Sciences, Mathematics and Statistics programmes, both sexes (%)\n",
        "\n",
        "Percentage of graduates from tertiary education graduating from Social Sciences, Journalism and Information programmes, both sexes (%)"
      ]
    },
    {
      "cell_type": "code",
      "execution_count": 5,
      "metadata": {
        "id": "7x8RqFuxe73q"
      },
      "outputs": [],
      "source": [
        "sub_4 = [\"Percentage of graduates from tertiary education graduating from Natural Sciences, Mathematics and Statistics programmes, both sexes (%)\",\n",
        "         \"Percentage of graduates from tertiary education graduating from Social Sciences, Journalism and Information programmes, both sexes (%)\"]"
      ]
    },
    {
      "cell_type": "markdown",
      "metadata": {
        "id": "OFvrO6DjLKbU"
      },
      "source": [
        "### **Target 4.5** \n",
        "\n",
        "By 2030, eliminate gender disparities in education and ensure equal access to all levels of education and vocational training for vulnerable, including persons with disabilities, indigenous peoples and children in vulnerable situations\n",
        "\n",
        "#### **Indicator 4.5.1** \n",
        "\n",
        "Parity indices for all education indicators on this list that can be disaggregated\n",
        "\n",
        "**Sub-indicator**\n",
        "\n",
        "School enrollment, primary (gross), gender parity index (GPI)\n",
        "\n",
        "School enrollment, secondary (gross), gender parity index (GPI)\n",
        "\n",
        "School enrollment, tertiary (gross), gender parity index (GPI)"
      ]
    },
    {
      "cell_type": "code",
      "execution_count": 6,
      "metadata": {
        "id": "hVupYEpKLKkM"
      },
      "outputs": [],
      "source": [
        "sub_5 = [\"School enrollment, primary (gross), gender parity index (GPI)\", \n",
        "         \"School enrollment, secondary (gross), gender parity index (GPI)\",\n",
        "         \"School enrollment, tertiary (gross), gender parity index (GPI)\"]"
      ]
    },
    {
      "cell_type": "code",
      "execution_count": 7,
      "metadata": {
        "id": "PNnEigoiQxTs"
      },
      "outputs": [],
      "source": [
        "sub_indicators = sub_1_1 + sub_1_2 + sub_2_2 + sub_3 + sub_4 + sub_5"
      ]
    },
    {
      "cell_type": "markdown",
      "metadata": {
        "id": "2muq-2WPL2Tc"
      },
      "source": [
        "## Select Year range and Countries\n",
        "\n",
        "The overall year range from 1970 to 2020, and the year range selection would change depend on the data availability and the target.\n",
        "\n",
        "**Australia** (aus), **France** (fra) and **United States** (usa) are the countries to study in this project.\n",
        "\n",
        "## Problem Formulation\n",
        "\n",
        "### Descriptive\n",
        "1.1.1 What is the trend of Proportion of children at the end of primary achieving at least a minimum proficiency level in reading by sex in the selected time period?\n",
        "\n",
        "1.1.2 Are there any gender difference for Proportion of children at the end of primary achieving at least a minimum reading proficiency level?\n",
        "\n",
        "1.2.1 Are completion rate of primary education, lower secondary education, upper secondary education all increase over time?\n",
        "\n",
        "1.2.2 Which country has the highest completion rate?\n",
        "\n",
        "2.1 By 2020, what is the trend of the participation rate that all boys and girls have access to pre-primary education in France, Australia, and the United States(USA)? Which country has the higher participation rate overall?\n",
        "\n",
        "3.1 Have France, Australia, and the USA ensured equal access for all women and men in terms of tertiary education before 2020?\n",
        "\n",
        "4.1 Is there an increase in the number of people who have technical skills in France, Australia and United States(USA)?\n",
        "\n",
        "5.1 How is the gender disparities in all level of education these years in France, Australia and United States(USA)?\n",
        "\n",
        "### Predictive\n",
        "1.1.3 By 2030, what would be the Proportion of children at the end of primary achieving at least a minimum reading proficiency level by sex?\n",
        "\n",
        "1.2.3 By 2030, will all population complete at least lower secondary education (100% completion rate for primary and lower secondary education)?\n",
        "\n",
        "1.2.4 By 2030, what would be the upper secondary education completion rate?\n",
        "\n",
        "2.2 How will the French, Australian, and American pre-primary participation rate of all boys and girls grow in the future?\n",
        "\n",
        "3.2 Have France, Australia, and the USA ensured equal access for all women and men in terms of tertiary education by 2030?\n",
        "\n",
        "4.2 Are there substantially increasing number of people who have technical skills in France, Australia and United States(USA) by 2030?\n",
        "\n",
        "5.2 Will it be possible for them to eliminate the gender disparities by 2030?"
      ]
    },
    {
      "cell_type": "markdown",
      "metadata": {
        "id": "VAwikROGNYZm"
      },
      "source": [
        "# Step 2: Data Preparation\n",
        "\n",
        "## Read data\n",
        "\n",
        "1. Acquire data from the given dataset."
      ]
    },
    {
      "cell_type": "code",
      "execution_count": 8,
      "metadata": {
        "id": "xdpOEWK4Nuqu"
      },
      "outputs": [],
      "source": [
        "import pandas as pd\n",
        "df_aus = pd.read_csv('education_aus.csv')[['Country Name','Indicator Name','Year','Value']].copy().iloc[1: , :];\n",
        "df_fra = pd.read_csv('education_fra.csv')[['Country Name','Indicator Name','Year','Value']].copy().iloc[1: , :];\n",
        "df_usa = pd.read_csv('education_usa.csv')[['Country Name','Indicator Name','Year','Value']].copy().iloc[1: , :];"
      ]
    },
    {
      "cell_type": "markdown",
      "metadata": {
        "id": "5c5bxsoCQOpi"
      },
      "source": [
        "2. Filter the data with selected sub-indicators"
      ]
    },
    {
      "cell_type": "code",
      "execution_count": 9,
      "metadata": {
        "id": "O7lYJrbEN2NH"
      },
      "outputs": [],
      "source": [
        "aus = df_aus[df_aus['Indicator Name'].isin(sub_indicators)]\n",
        "fra = df_fra[df_fra['Indicator Name'].isin(sub_indicators)]\n",
        "usa = df_usa[df_usa['Indicator Name'].isin(sub_indicators)]"
      ]
    },
    {
      "cell_type": "markdown",
      "metadata": {
        "id": "6pG5CfPCVBTZ"
      },
      "source": [
        "3. Check Datatypes"
      ]
    },
    {
      "cell_type": "code",
      "execution_count": 10,
      "metadata": {
        "colab": {
          "base_uri": "https://localhost:8080/"
        },
        "id": "nCwI_CQcU8uq",
        "outputId": "e5a82447-3a16-484a-9be3-a8dd4611e846"
      },
      "outputs": [
        {
          "name": "stdout",
          "output_type": "stream",
          "text": [
            "<class 'pandas.core.frame.DataFrame'>\n",
            "Int64Index: 315 entries, 2882 to 12437\n",
            "Data columns (total 4 columns):\n",
            " #   Column          Non-Null Count  Dtype \n",
            "---  ------          --------------  ----- \n",
            " 0   Country Name    315 non-null    object\n",
            " 1   Indicator Name  315 non-null    object\n",
            " 2   Year            315 non-null    object\n",
            " 3   Value           315 non-null    object\n",
            "dtypes: object(4)\n",
            "memory usage: 12.3+ KB\n"
          ]
        }
      ],
      "source": [
        "aus.info()"
      ]
    },
    {
      "cell_type": "markdown",
      "metadata": {
        "id": "-Qw75CRNVTFh"
      },
      "source": [
        "The datatypes for columns **Year** and **Value** are **object**, which should be **integer** and **float**."
      ]
    },
    {
      "cell_type": "code",
      "execution_count": 11,
      "metadata": {
        "colab": {
          "base_uri": "https://localhost:8080/"
        },
        "id": "fco2RJwQVSj4",
        "outputId": "23fa9569-3594-4cde-c2ab-e9a48077f80e"
      },
      "outputs": [
        {
          "name": "stdout",
          "output_type": "stream",
          "text": [
            "<class 'pandas.core.frame.DataFrame'>\n",
            "Int64Index: 315 entries, 2882 to 12437\n",
            "Data columns (total 4 columns):\n",
            " #   Column          Non-Null Count  Dtype  \n",
            "---  ------          --------------  -----  \n",
            " 0   Country Name    315 non-null    object \n",
            " 1   Indicator Name  315 non-null    object \n",
            " 2   Year            315 non-null    int64  \n",
            " 3   Value           315 non-null    float64\n",
            "dtypes: float64(1), int64(1), object(2)\n",
            "memory usage: 12.3+ KB\n"
          ]
        },
        {
          "name": "stderr",
          "output_type": "stream",
          "text": [
            "/usr/local/lib/python3.7/dist-packages/ipykernel_launcher.py:2: SettingWithCopyWarning: \n",
            "A value is trying to be set on a copy of a slice from a DataFrame.\n",
            "Try using .loc[row_indexer,col_indexer] = value instead\n",
            "\n",
            "See the caveats in the documentation: https://pandas.pydata.org/pandas-docs/stable/user_guide/indexing.html#returning-a-view-versus-a-copy\n",
            "  \n",
            "/usr/local/lib/python3.7/dist-packages/ipykernel_launcher.py:3: SettingWithCopyWarning: \n",
            "A value is trying to be set on a copy of a slice from a DataFrame.\n",
            "Try using .loc[row_indexer,col_indexer] = value instead\n",
            "\n",
            "See the caveats in the documentation: https://pandas.pydata.org/pandas-docs/stable/user_guide/indexing.html#returning-a-view-versus-a-copy\n",
            "  This is separate from the ipykernel package so we can avoid doing imports until\n"
          ]
        }
      ],
      "source": [
        "# change datatypes for 'year' and 'Value'\n",
        "aus['Year']=aus['Year'].astype(int)\n",
        "aus['Value']=aus['Value'].astype(float)\n",
        "aus.info()"
      ]
    },
    {
      "cell_type": "code",
      "execution_count": 12,
      "metadata": {
        "colab": {
          "base_uri": "https://localhost:8080/"
        },
        "id": "rZU3rk_1WA_M",
        "outputId": "32937a08-fbd8-4682-e2cf-411c75c0bd35"
      },
      "outputs": [
        {
          "name": "stderr",
          "output_type": "stream",
          "text": [
            "/usr/local/lib/python3.7/dist-packages/ipykernel_launcher.py:2: SettingWithCopyWarning: \n",
            "A value is trying to be set on a copy of a slice from a DataFrame.\n",
            "Try using .loc[row_indexer,col_indexer] = value instead\n",
            "\n",
            "See the caveats in the documentation: https://pandas.pydata.org/pandas-docs/stable/user_guide/indexing.html#returning-a-view-versus-a-copy\n",
            "  \n",
            "/usr/local/lib/python3.7/dist-packages/ipykernel_launcher.py:3: SettingWithCopyWarning: \n",
            "A value is trying to be set on a copy of a slice from a DataFrame.\n",
            "Try using .loc[row_indexer,col_indexer] = value instead\n",
            "\n",
            "See the caveats in the documentation: https://pandas.pydata.org/pandas-docs/stable/user_guide/indexing.html#returning-a-view-versus-a-copy\n",
            "  This is separate from the ipykernel package so we can avoid doing imports until\n",
            "/usr/local/lib/python3.7/dist-packages/ipykernel_launcher.py:5: SettingWithCopyWarning: \n",
            "A value is trying to be set on a copy of a slice from a DataFrame.\n",
            "Try using .loc[row_indexer,col_indexer] = value instead\n",
            "\n",
            "See the caveats in the documentation: https://pandas.pydata.org/pandas-docs/stable/user_guide/indexing.html#returning-a-view-versus-a-copy\n",
            "  \"\"\"\n",
            "/usr/local/lib/python3.7/dist-packages/ipykernel_launcher.py:6: SettingWithCopyWarning: \n",
            "A value is trying to be set on a copy of a slice from a DataFrame.\n",
            "Try using .loc[row_indexer,col_indexer] = value instead\n",
            "\n",
            "See the caveats in the documentation: https://pandas.pydata.org/pandas-docs/stable/user_guide/indexing.html#returning-a-view-versus-a-copy\n",
            "  \n"
          ]
        }
      ],
      "source": [
        "# repeat for fra and usa\n",
        "fra['Year']=fra['Year'].astype(int)\n",
        "fra['Value']=fra['Value'].astype(float)\n",
        "\n",
        "usa['Year']=usa['Year'].astype(int)\n",
        "usa['Value']=usa['Value'].astype(float)"
      ]
    },
    {
      "cell_type": "markdown",
      "metadata": {
        "id": "1p3cXRgdju9_"
      },
      "source": [
        "# Step 3: Transform data, handle missing values and EDA for each target and indicator"
      ]
    },
    {
      "cell_type": "markdown",
      "metadata": {
        "id": "DGt17aLWjikp"
      },
      "source": [
        "### Target 4.1"
      ]
    },
    {
      "cell_type": "markdown",
      "metadata": {
        "id": "gwKQp8VHjodJ"
      },
      "source": [
        "#### Indicator 4.1.1"
      ]
    },
    {
      "cell_type": "markdown",
      "metadata": {
        "id": "aBDjc2MB8i90"
      },
      "source": [
        "##### **Data Filtering and Reshaping**"
      ]
    },
    {
      "cell_type": "code",
      "execution_count": 13,
      "metadata": {
        "colab": {
          "base_uri": "https://localhost:8080/",
          "height": 205
        },
        "id": "QfahLA-XkHus",
        "outputId": "a22760fa-9604-42f9-d367-0fdabd90dc2b"
      },
      "outputs": [
        {
          "data": {
            "text/html": [
              "\n",
              "  <div id=\"df-38898358-1e5e-4a87-8911-6baaef3cb41f\">\n",
              "    <div class=\"colab-df-container\">\n",
              "      <div>\n",
              "<style scoped>\n",
              "    .dataframe tbody tr th:only-of-type {\n",
              "        vertical-align: middle;\n",
              "    }\n",
              "\n",
              "    .dataframe tbody tr th {\n",
              "        vertical-align: top;\n",
              "    }\n",
              "\n",
              "    .dataframe thead th {\n",
              "        text-align: right;\n",
              "    }\n",
              "</style>\n",
              "<table border=\"1\" class=\"dataframe\">\n",
              "  <thead>\n",
              "    <tr style=\"text-align: right;\">\n",
              "      <th>Indicator Name</th>\n",
              "      <th>Female pupils below minimum reading proficiency at end of primary (%). Low GAML threshold</th>\n",
              "      <th>Male pupils below minimum reading proficiency at end of primary (%). Low GAML threshold</th>\n",
              "    </tr>\n",
              "    <tr>\n",
              "      <th>Year</th>\n",
              "      <th></th>\n",
              "      <th></th>\n",
              "    </tr>\n",
              "  </thead>\n",
              "  <tbody>\n",
              "    <tr>\n",
              "      <th>2011</th>\n",
              "      <td>5.164474</td>\n",
              "      <td>8.914793</td>\n",
              "    </tr>\n",
              "    <tr>\n",
              "      <th>2016</th>\n",
              "      <td>3.770781</td>\n",
              "      <td>7.266063</td>\n",
              "    </tr>\n",
              "  </tbody>\n",
              "</table>\n",
              "</div>\n",
              "      <button class=\"colab-df-convert\" onclick=\"convertToInteractive('df-38898358-1e5e-4a87-8911-6baaef3cb41f')\"\n",
              "              title=\"Convert this dataframe to an interactive table.\"\n",
              "              style=\"display:none;\">\n",
              "        \n",
              "  <svg xmlns=\"http://www.w3.org/2000/svg\" height=\"24px\"viewBox=\"0 0 24 24\"\n",
              "       width=\"24px\">\n",
              "    <path d=\"M0 0h24v24H0V0z\" fill=\"none\"/>\n",
              "    <path d=\"M18.56 5.44l.94 2.06.94-2.06 2.06-.94-2.06-.94-.94-2.06-.94 2.06-2.06.94zm-11 1L8.5 8.5l.94-2.06 2.06-.94-2.06-.94L8.5 2.5l-.94 2.06-2.06.94zm10 10l.94 2.06.94-2.06 2.06-.94-2.06-.94-.94-2.06-.94 2.06-2.06.94z\"/><path d=\"M17.41 7.96l-1.37-1.37c-.4-.4-.92-.59-1.43-.59-.52 0-1.04.2-1.43.59L10.3 9.45l-7.72 7.72c-.78.78-.78 2.05 0 2.83L4 21.41c.39.39.9.59 1.41.59.51 0 1.02-.2 1.41-.59l7.78-7.78 2.81-2.81c.8-.78.8-2.07 0-2.86zM5.41 20L4 18.59l7.72-7.72 1.47 1.35L5.41 20z\"/>\n",
              "  </svg>\n",
              "      </button>\n",
              "      \n",
              "  <style>\n",
              "    .colab-df-container {\n",
              "      display:flex;\n",
              "      flex-wrap:wrap;\n",
              "      gap: 12px;\n",
              "    }\n",
              "\n",
              "    .colab-df-convert {\n",
              "      background-color: #E8F0FE;\n",
              "      border: none;\n",
              "      border-radius: 50%;\n",
              "      cursor: pointer;\n",
              "      display: none;\n",
              "      fill: #1967D2;\n",
              "      height: 32px;\n",
              "      padding: 0 0 0 0;\n",
              "      width: 32px;\n",
              "    }\n",
              "\n",
              "    .colab-df-convert:hover {\n",
              "      background-color: #E2EBFA;\n",
              "      box-shadow: 0px 1px 2px rgba(60, 64, 67, 0.3), 0px 1px 3px 1px rgba(60, 64, 67, 0.15);\n",
              "      fill: #174EA6;\n",
              "    }\n",
              "\n",
              "    [theme=dark] .colab-df-convert {\n",
              "      background-color: #3B4455;\n",
              "      fill: #D2E3FC;\n",
              "    }\n",
              "\n",
              "    [theme=dark] .colab-df-convert:hover {\n",
              "      background-color: #434B5C;\n",
              "      box-shadow: 0px 1px 3px 1px rgba(0, 0, 0, 0.15);\n",
              "      filter: drop-shadow(0px 1px 2px rgba(0, 0, 0, 0.3));\n",
              "      fill: #FFFFFF;\n",
              "    }\n",
              "  </style>\n",
              "\n",
              "      <script>\n",
              "        const buttonEl =\n",
              "          document.querySelector('#df-38898358-1e5e-4a87-8911-6baaef3cb41f button.colab-df-convert');\n",
              "        buttonEl.style.display =\n",
              "          google.colab.kernel.accessAllowed ? 'block' : 'none';\n",
              "\n",
              "        async function convertToInteractive(key) {\n",
              "          const element = document.querySelector('#df-38898358-1e5e-4a87-8911-6baaef3cb41f');\n",
              "          const dataTable =\n",
              "            await google.colab.kernel.invokeFunction('convertToInteractive',\n",
              "                                                     [key], {});\n",
              "          if (!dataTable) return;\n",
              "\n",
              "          const docLinkHtml = 'Like what you see? Visit the ' +\n",
              "            '<a target=\"_blank\" href=https://colab.research.google.com/notebooks/data_table.ipynb>data table notebook</a>'\n",
              "            + ' to learn more about interactive tables.';\n",
              "          element.innerHTML = '';\n",
              "          dataTable['output_type'] = 'display_data';\n",
              "          await google.colab.output.renderOutput(dataTable, element);\n",
              "          const docLink = document.createElement('div');\n",
              "          docLink.innerHTML = docLinkHtml;\n",
              "          element.appendChild(docLink);\n",
              "        }\n",
              "      </script>\n",
              "    </div>\n",
              "  </div>\n",
              "  "
            ],
            "text/plain": [
              "Indicator Name  Female pupils below minimum reading proficiency at end of primary (%). Low GAML threshold  \\\n",
              "Year                                                                                                        \n",
              "2011                                                     5.164474                                           \n",
              "2016                                                     3.770781                                           \n",
              "\n",
              "Indicator Name  Male pupils below minimum reading proficiency at end of primary (%). Low GAML threshold  \n",
              "Year                                                                                                     \n",
              "2011                                                     8.914793                                        \n",
              "2016                                                     7.266063                                        "
            ]
          },
          "execution_count": 13,
          "metadata": {},
          "output_type": "execute_result"
        }
      ],
      "source": [
        "# Filter with sub-indicators for 4.1.1\n",
        "aus_sub1 = aus[aus['Indicator Name'].isin(sub_1_1)]\n",
        "# Reshape dataframe from ling format to wide format and each sub-indicator become a column\n",
        "aus1_1 = aus_sub1.pivot(index='Year', columns='Indicator Name', values='Value')\n",
        "aus1_1"
      ]
    },
    {
      "cell_type": "code",
      "execution_count": 14,
      "metadata": {
        "colab": {
          "base_uri": "https://localhost:8080/",
          "height": 268
        },
        "id": "3IHfM1ihmZ-A",
        "outputId": "120e553b-7e9e-4c54-aff0-093d5f8648f0"
      },
      "outputs": [
        {
          "data": {
            "text/html": [
              "\n",
              "  <div id=\"df-403e3cc2-ec89-4d05-81b6-d4b9a6bc3a5b\">\n",
              "    <div class=\"colab-df-container\">\n",
              "      <div>\n",
              "<style scoped>\n",
              "    .dataframe tbody tr th:only-of-type {\n",
              "        vertical-align: middle;\n",
              "    }\n",
              "\n",
              "    .dataframe tbody tr th {\n",
              "        vertical-align: top;\n",
              "    }\n",
              "\n",
              "    .dataframe thead th {\n",
              "        text-align: right;\n",
              "    }\n",
              "</style>\n",
              "<table border=\"1\" class=\"dataframe\">\n",
              "  <thead>\n",
              "    <tr style=\"text-align: right;\">\n",
              "      <th>Indicator Name</th>\n",
              "      <th>Female pupils below minimum reading proficiency at end of primary (%). Low GAML threshold</th>\n",
              "      <th>Male pupils below minimum reading proficiency at end of primary (%). Low GAML threshold</th>\n",
              "    </tr>\n",
              "    <tr>\n",
              "      <th>Year</th>\n",
              "      <th></th>\n",
              "      <th></th>\n",
              "    </tr>\n",
              "  </thead>\n",
              "  <tbody>\n",
              "    <tr>\n",
              "      <th>2001</th>\n",
              "      <td>3.341371</td>\n",
              "      <td>5.853778</td>\n",
              "    </tr>\n",
              "    <tr>\n",
              "      <th>2006</th>\n",
              "      <td>3.066373</td>\n",
              "      <td>5.057514</td>\n",
              "    </tr>\n",
              "    <tr>\n",
              "      <th>2011</th>\n",
              "      <td>4.821783</td>\n",
              "      <td>4.642093</td>\n",
              "    </tr>\n",
              "    <tr>\n",
              "      <th>2016</th>\n",
              "      <td>5.298662</td>\n",
              "      <td>7.282019</td>\n",
              "    </tr>\n",
              "  </tbody>\n",
              "</table>\n",
              "</div>\n",
              "      <button class=\"colab-df-convert\" onclick=\"convertToInteractive('df-403e3cc2-ec89-4d05-81b6-d4b9a6bc3a5b')\"\n",
              "              title=\"Convert this dataframe to an interactive table.\"\n",
              "              style=\"display:none;\">\n",
              "        \n",
              "  <svg xmlns=\"http://www.w3.org/2000/svg\" height=\"24px\"viewBox=\"0 0 24 24\"\n",
              "       width=\"24px\">\n",
              "    <path d=\"M0 0h24v24H0V0z\" fill=\"none\"/>\n",
              "    <path d=\"M18.56 5.44l.94 2.06.94-2.06 2.06-.94-2.06-.94-.94-2.06-.94 2.06-2.06.94zm-11 1L8.5 8.5l.94-2.06 2.06-.94-2.06-.94L8.5 2.5l-.94 2.06-2.06.94zm10 10l.94 2.06.94-2.06 2.06-.94-2.06-.94-.94-2.06-.94 2.06-2.06.94z\"/><path d=\"M17.41 7.96l-1.37-1.37c-.4-.4-.92-.59-1.43-.59-.52 0-1.04.2-1.43.59L10.3 9.45l-7.72 7.72c-.78.78-.78 2.05 0 2.83L4 21.41c.39.39.9.59 1.41.59.51 0 1.02-.2 1.41-.59l7.78-7.78 2.81-2.81c.8-.78.8-2.07 0-2.86zM5.41 20L4 18.59l7.72-7.72 1.47 1.35L5.41 20z\"/>\n",
              "  </svg>\n",
              "      </button>\n",
              "      \n",
              "  <style>\n",
              "    .colab-df-container {\n",
              "      display:flex;\n",
              "      flex-wrap:wrap;\n",
              "      gap: 12px;\n",
              "    }\n",
              "\n",
              "    .colab-df-convert {\n",
              "      background-color: #E8F0FE;\n",
              "      border: none;\n",
              "      border-radius: 50%;\n",
              "      cursor: pointer;\n",
              "      display: none;\n",
              "      fill: #1967D2;\n",
              "      height: 32px;\n",
              "      padding: 0 0 0 0;\n",
              "      width: 32px;\n",
              "    }\n",
              "\n",
              "    .colab-df-convert:hover {\n",
              "      background-color: #E2EBFA;\n",
              "      box-shadow: 0px 1px 2px rgba(60, 64, 67, 0.3), 0px 1px 3px 1px rgba(60, 64, 67, 0.15);\n",
              "      fill: #174EA6;\n",
              "    }\n",
              "\n",
              "    [theme=dark] .colab-df-convert {\n",
              "      background-color: #3B4455;\n",
              "      fill: #D2E3FC;\n",
              "    }\n",
              "\n",
              "    [theme=dark] .colab-df-convert:hover {\n",
              "      background-color: #434B5C;\n",
              "      box-shadow: 0px 1px 3px 1px rgba(0, 0, 0, 0.15);\n",
              "      filter: drop-shadow(0px 1px 2px rgba(0, 0, 0, 0.3));\n",
              "      fill: #FFFFFF;\n",
              "    }\n",
              "  </style>\n",
              "\n",
              "      <script>\n",
              "        const buttonEl =\n",
              "          document.querySelector('#df-403e3cc2-ec89-4d05-81b6-d4b9a6bc3a5b button.colab-df-convert');\n",
              "        buttonEl.style.display =\n",
              "          google.colab.kernel.accessAllowed ? 'block' : 'none';\n",
              "\n",
              "        async function convertToInteractive(key) {\n",
              "          const element = document.querySelector('#df-403e3cc2-ec89-4d05-81b6-d4b9a6bc3a5b');\n",
              "          const dataTable =\n",
              "            await google.colab.kernel.invokeFunction('convertToInteractive',\n",
              "                                                     [key], {});\n",
              "          if (!dataTable) return;\n",
              "\n",
              "          const docLinkHtml = 'Like what you see? Visit the ' +\n",
              "            '<a target=\"_blank\" href=https://colab.research.google.com/notebooks/data_table.ipynb>data table notebook</a>'\n",
              "            + ' to learn more about interactive tables.';\n",
              "          element.innerHTML = '';\n",
              "          dataTable['output_type'] = 'display_data';\n",
              "          await google.colab.output.renderOutput(dataTable, element);\n",
              "          const docLink = document.createElement('div');\n",
              "          docLink.innerHTML = docLinkHtml;\n",
              "          element.appendChild(docLink);\n",
              "        }\n",
              "      </script>\n",
              "    </div>\n",
              "  </div>\n",
              "  "
            ],
            "text/plain": [
              "Indicator Name  Female pupils below minimum reading proficiency at end of primary (%). Low GAML threshold  \\\n",
              "Year                                                                                                        \n",
              "2001                                                     3.341371                                           \n",
              "2006                                                     3.066373                                           \n",
              "2011                                                     4.821783                                           \n",
              "2016                                                     5.298662                                           \n",
              "\n",
              "Indicator Name  Male pupils below minimum reading proficiency at end of primary (%). Low GAML threshold  \n",
              "Year                                                                                                     \n",
              "2001                                                     5.853778                                        \n",
              "2006                                                     5.057514                                        \n",
              "2011                                                     4.642093                                        \n",
              "2016                                                     7.282019                                        "
            ]
          },
          "execution_count": 14,
          "metadata": {},
          "output_type": "execute_result"
        }
      ],
      "source": [
        "# Repeat for fra and usa\n",
        "fra_sub1 = fra[fra['Indicator Name'].isin(sub_1_1)] # filter\n",
        "fra1_1 = fra_sub1.pivot(index='Year', columns='Indicator Name', values='Value') # reshape\n",
        "fra1_1"
      ]
    },
    {
      "cell_type": "code",
      "execution_count": 15,
      "metadata": {
        "colab": {
          "base_uri": "https://localhost:8080/",
          "height": 205
        },
        "id": "5UbhTfQomsBN",
        "outputId": "ad91c489-5a4d-4615-a56b-745f852126f2"
      },
      "outputs": [
        {
          "data": {
            "text/html": [
              "\n",
              "  <div id=\"df-1856b765-eb73-43a5-ba28-cdc37d910918\">\n",
              "    <div class=\"colab-df-container\">\n",
              "      <div>\n",
              "<style scoped>\n",
              "    .dataframe tbody tr th:only-of-type {\n",
              "        vertical-align: middle;\n",
              "    }\n",
              "\n",
              "    .dataframe tbody tr th {\n",
              "        vertical-align: top;\n",
              "    }\n",
              "\n",
              "    .dataframe thead th {\n",
              "        text-align: right;\n",
              "    }\n",
              "</style>\n",
              "<table border=\"1\" class=\"dataframe\">\n",
              "  <thead>\n",
              "    <tr style=\"text-align: right;\">\n",
              "      <th>Indicator Name</th>\n",
              "      <th>Female pupils below minimum reading proficiency at end of primary (%). Low GAML threshold</th>\n",
              "      <th>Male pupils below minimum reading proficiency at end of primary (%). Low GAML threshold</th>\n",
              "    </tr>\n",
              "    <tr>\n",
              "      <th>Year</th>\n",
              "      <th></th>\n",
              "      <th></th>\n",
              "    </tr>\n",
              "  </thead>\n",
              "  <tbody>\n",
              "    <tr>\n",
              "      <th>2011</th>\n",
              "      <td>1.883250</td>\n",
              "      <td>3.100061</td>\n",
              "    </tr>\n",
              "    <tr>\n",
              "      <th>2016</th>\n",
              "      <td>3.212357</td>\n",
              "      <td>4.587269</td>\n",
              "    </tr>\n",
              "  </tbody>\n",
              "</table>\n",
              "</div>\n",
              "      <button class=\"colab-df-convert\" onclick=\"convertToInteractive('df-1856b765-eb73-43a5-ba28-cdc37d910918')\"\n",
              "              title=\"Convert this dataframe to an interactive table.\"\n",
              "              style=\"display:none;\">\n",
              "        \n",
              "  <svg xmlns=\"http://www.w3.org/2000/svg\" height=\"24px\"viewBox=\"0 0 24 24\"\n",
              "       width=\"24px\">\n",
              "    <path d=\"M0 0h24v24H0V0z\" fill=\"none\"/>\n",
              "    <path d=\"M18.56 5.44l.94 2.06.94-2.06 2.06-.94-2.06-.94-.94-2.06-.94 2.06-2.06.94zm-11 1L8.5 8.5l.94-2.06 2.06-.94-2.06-.94L8.5 2.5l-.94 2.06-2.06.94zm10 10l.94 2.06.94-2.06 2.06-.94-2.06-.94-.94-2.06-.94 2.06-2.06.94z\"/><path d=\"M17.41 7.96l-1.37-1.37c-.4-.4-.92-.59-1.43-.59-.52 0-1.04.2-1.43.59L10.3 9.45l-7.72 7.72c-.78.78-.78 2.05 0 2.83L4 21.41c.39.39.9.59 1.41.59.51 0 1.02-.2 1.41-.59l7.78-7.78 2.81-2.81c.8-.78.8-2.07 0-2.86zM5.41 20L4 18.59l7.72-7.72 1.47 1.35L5.41 20z\"/>\n",
              "  </svg>\n",
              "      </button>\n",
              "      \n",
              "  <style>\n",
              "    .colab-df-container {\n",
              "      display:flex;\n",
              "      flex-wrap:wrap;\n",
              "      gap: 12px;\n",
              "    }\n",
              "\n",
              "    .colab-df-convert {\n",
              "      background-color: #E8F0FE;\n",
              "      border: none;\n",
              "      border-radius: 50%;\n",
              "      cursor: pointer;\n",
              "      display: none;\n",
              "      fill: #1967D2;\n",
              "      height: 32px;\n",
              "      padding: 0 0 0 0;\n",
              "      width: 32px;\n",
              "    }\n",
              "\n",
              "    .colab-df-convert:hover {\n",
              "      background-color: #E2EBFA;\n",
              "      box-shadow: 0px 1px 2px rgba(60, 64, 67, 0.3), 0px 1px 3px 1px rgba(60, 64, 67, 0.15);\n",
              "      fill: #174EA6;\n",
              "    }\n",
              "\n",
              "    [theme=dark] .colab-df-convert {\n",
              "      background-color: #3B4455;\n",
              "      fill: #D2E3FC;\n",
              "    }\n",
              "\n",
              "    [theme=dark] .colab-df-convert:hover {\n",
              "      background-color: #434B5C;\n",
              "      box-shadow: 0px 1px 3px 1px rgba(0, 0, 0, 0.15);\n",
              "      filter: drop-shadow(0px 1px 2px rgba(0, 0, 0, 0.3));\n",
              "      fill: #FFFFFF;\n",
              "    }\n",
              "  </style>\n",
              "\n",
              "      <script>\n",
              "        const buttonEl =\n",
              "          document.querySelector('#df-1856b765-eb73-43a5-ba28-cdc37d910918 button.colab-df-convert');\n",
              "        buttonEl.style.display =\n",
              "          google.colab.kernel.accessAllowed ? 'block' : 'none';\n",
              "\n",
              "        async function convertToInteractive(key) {\n",
              "          const element = document.querySelector('#df-1856b765-eb73-43a5-ba28-cdc37d910918');\n",
              "          const dataTable =\n",
              "            await google.colab.kernel.invokeFunction('convertToInteractive',\n",
              "                                                     [key], {});\n",
              "          if (!dataTable) return;\n",
              "\n",
              "          const docLinkHtml = 'Like what you see? Visit the ' +\n",
              "            '<a target=\"_blank\" href=https://colab.research.google.com/notebooks/data_table.ipynb>data table notebook</a>'\n",
              "            + ' to learn more about interactive tables.';\n",
              "          element.innerHTML = '';\n",
              "          dataTable['output_type'] = 'display_data';\n",
              "          await google.colab.output.renderOutput(dataTable, element);\n",
              "          const docLink = document.createElement('div');\n",
              "          docLink.innerHTML = docLinkHtml;\n",
              "          element.appendChild(docLink);\n",
              "        }\n",
              "      </script>\n",
              "    </div>\n",
              "  </div>\n",
              "  "
            ],
            "text/plain": [
              "Indicator Name  Female pupils below minimum reading proficiency at end of primary (%). Low GAML threshold  \\\n",
              "Year                                                                                                        \n",
              "2011                                                     1.883250                                           \n",
              "2016                                                     3.212357                                           \n",
              "\n",
              "Indicator Name  Male pupils below minimum reading proficiency at end of primary (%). Low GAML threshold  \n",
              "Year                                                                                                     \n",
              "2011                                                     3.100061                                        \n",
              "2016                                                     4.587269                                        "
            ]
          },
          "execution_count": 15,
          "metadata": {},
          "output_type": "execute_result"
        }
      ],
      "source": [
        "usa_sub1 = usa[usa['Indicator Name'].isin(sub_1_1)] # filter\n",
        "usa1_1 = usa_sub1.pivot(index='Year', columns='Indicator Name', values='Value') # reshape\n",
        "usa1_1"
      ]
    },
    {
      "cell_type": "markdown",
      "metadata": {
        "id": "CDKZwy0fkmfT"
      },
      "source": [
        "There are only two or four available data for two sub-indicators, therefore choose year range from 2011 to 2016."
      ]
    },
    {
      "cell_type": "code",
      "execution_count": 16,
      "metadata": {
        "colab": {
          "base_uri": "https://localhost:8080/",
          "height": 205
        },
        "id": "ux-FYvNtndWm",
        "outputId": "3722c3a8-7021-4ceb-f21d-350820848d42"
      },
      "outputs": [
        {
          "data": {
            "text/html": [
              "\n",
              "  <div id=\"df-e6e32a5a-8f55-4ee0-8ed4-f4694ce9f7d3\">\n",
              "    <div class=\"colab-df-container\">\n",
              "      <div>\n",
              "<style scoped>\n",
              "    .dataframe tbody tr th:only-of-type {\n",
              "        vertical-align: middle;\n",
              "    }\n",
              "\n",
              "    .dataframe tbody tr th {\n",
              "        vertical-align: top;\n",
              "    }\n",
              "\n",
              "    .dataframe thead th {\n",
              "        text-align: right;\n",
              "    }\n",
              "</style>\n",
              "<table border=\"1\" class=\"dataframe\">\n",
              "  <thead>\n",
              "    <tr style=\"text-align: right;\">\n",
              "      <th>Indicator Name</th>\n",
              "      <th>Female pupils below minimum reading proficiency at end of primary (%). Low GAML threshold</th>\n",
              "      <th>Male pupils below minimum reading proficiency at end of primary (%). Low GAML threshold</th>\n",
              "    </tr>\n",
              "    <tr>\n",
              "      <th>Year</th>\n",
              "      <th></th>\n",
              "      <th></th>\n",
              "    </tr>\n",
              "  </thead>\n",
              "  <tbody>\n",
              "    <tr>\n",
              "      <th>2011</th>\n",
              "      <td>4.821783</td>\n",
              "      <td>4.642093</td>\n",
              "    </tr>\n",
              "    <tr>\n",
              "      <th>2016</th>\n",
              "      <td>5.298662</td>\n",
              "      <td>7.282019</td>\n",
              "    </tr>\n",
              "  </tbody>\n",
              "</table>\n",
              "</div>\n",
              "      <button class=\"colab-df-convert\" onclick=\"convertToInteractive('df-e6e32a5a-8f55-4ee0-8ed4-f4694ce9f7d3')\"\n",
              "              title=\"Convert this dataframe to an interactive table.\"\n",
              "              style=\"display:none;\">\n",
              "        \n",
              "  <svg xmlns=\"http://www.w3.org/2000/svg\" height=\"24px\"viewBox=\"0 0 24 24\"\n",
              "       width=\"24px\">\n",
              "    <path d=\"M0 0h24v24H0V0z\" fill=\"none\"/>\n",
              "    <path d=\"M18.56 5.44l.94 2.06.94-2.06 2.06-.94-2.06-.94-.94-2.06-.94 2.06-2.06.94zm-11 1L8.5 8.5l.94-2.06 2.06-.94-2.06-.94L8.5 2.5l-.94 2.06-2.06.94zm10 10l.94 2.06.94-2.06 2.06-.94-2.06-.94-.94-2.06-.94 2.06-2.06.94z\"/><path d=\"M17.41 7.96l-1.37-1.37c-.4-.4-.92-.59-1.43-.59-.52 0-1.04.2-1.43.59L10.3 9.45l-7.72 7.72c-.78.78-.78 2.05 0 2.83L4 21.41c.39.39.9.59 1.41.59.51 0 1.02-.2 1.41-.59l7.78-7.78 2.81-2.81c.8-.78.8-2.07 0-2.86zM5.41 20L4 18.59l7.72-7.72 1.47 1.35L5.41 20z\"/>\n",
              "  </svg>\n",
              "      </button>\n",
              "      \n",
              "  <style>\n",
              "    .colab-df-container {\n",
              "      display:flex;\n",
              "      flex-wrap:wrap;\n",
              "      gap: 12px;\n",
              "    }\n",
              "\n",
              "    .colab-df-convert {\n",
              "      background-color: #E8F0FE;\n",
              "      border: none;\n",
              "      border-radius: 50%;\n",
              "      cursor: pointer;\n",
              "      display: none;\n",
              "      fill: #1967D2;\n",
              "      height: 32px;\n",
              "      padding: 0 0 0 0;\n",
              "      width: 32px;\n",
              "    }\n",
              "\n",
              "    .colab-df-convert:hover {\n",
              "      background-color: #E2EBFA;\n",
              "      box-shadow: 0px 1px 2px rgba(60, 64, 67, 0.3), 0px 1px 3px 1px rgba(60, 64, 67, 0.15);\n",
              "      fill: #174EA6;\n",
              "    }\n",
              "\n",
              "    [theme=dark] .colab-df-convert {\n",
              "      background-color: #3B4455;\n",
              "      fill: #D2E3FC;\n",
              "    }\n",
              "\n",
              "    [theme=dark] .colab-df-convert:hover {\n",
              "      background-color: #434B5C;\n",
              "      box-shadow: 0px 1px 3px 1px rgba(0, 0, 0, 0.15);\n",
              "      filter: drop-shadow(0px 1px 2px rgba(0, 0, 0, 0.3));\n",
              "      fill: #FFFFFF;\n",
              "    }\n",
              "  </style>\n",
              "\n",
              "      <script>\n",
              "        const buttonEl =\n",
              "          document.querySelector('#df-e6e32a5a-8f55-4ee0-8ed4-f4694ce9f7d3 button.colab-df-convert');\n",
              "        buttonEl.style.display =\n",
              "          google.colab.kernel.accessAllowed ? 'block' : 'none';\n",
              "\n",
              "        async function convertToInteractive(key) {\n",
              "          const element = document.querySelector('#df-e6e32a5a-8f55-4ee0-8ed4-f4694ce9f7d3');\n",
              "          const dataTable =\n",
              "            await google.colab.kernel.invokeFunction('convertToInteractive',\n",
              "                                                     [key], {});\n",
              "          if (!dataTable) return;\n",
              "\n",
              "          const docLinkHtml = 'Like what you see? Visit the ' +\n",
              "            '<a target=\"_blank\" href=https://colab.research.google.com/notebooks/data_table.ipynb>data table notebook</a>'\n",
              "            + ' to learn more about interactive tables.';\n",
              "          element.innerHTML = '';\n",
              "          dataTable['output_type'] = 'display_data';\n",
              "          await google.colab.output.renderOutput(dataTable, element);\n",
              "          const docLink = document.createElement('div');\n",
              "          docLink.innerHTML = docLinkHtml;\n",
              "          element.appendChild(docLink);\n",
              "        }\n",
              "      </script>\n",
              "    </div>\n",
              "  </div>\n",
              "  "
            ],
            "text/plain": [
              "Indicator Name  Female pupils below minimum reading proficiency at end of primary (%). Low GAML threshold  \\\n",
              "Year                                                                                                        \n",
              "2011                                                     4.821783                                           \n",
              "2016                                                     5.298662                                           \n",
              "\n",
              "Indicator Name  Male pupils below minimum reading proficiency at end of primary (%). Low GAML threshold  \n",
              "Year                                                                                                     \n",
              "2011                                                     4.642093                                        \n",
              "2016                                                     7.282019                                        "
            ]
          },
          "execution_count": 16,
          "metadata": {},
          "output_type": "execute_result"
        }
      ],
      "source": [
        "fra1_1 = fra_sub1[fra_sub1['Year']>=2011].pivot(index='Year', columns='Indicator Name', values='Value')\n",
        "fra1_1"
      ]
    },
    {
      "cell_type": "markdown",
      "metadata": {
        "id": "KAUeUJ22otwv"
      },
      "source": [
        "Since there are only two values for each sub-indicator, it's very unlikely to have outliers.\n",
        "\n",
        "##### **Exploratory Data Analysis**"
      ]
    },
    {
      "cell_type": "code",
      "execution_count": 17,
      "metadata": {
        "colab": {
          "base_uri": "https://localhost:8080/",
          "height": 281
        },
        "id": "-BinimtbotFO",
        "outputId": "3a27dd81-df48-456b-9b32-0a4fdb9e79bc"
      },
      "outputs": [
        {
          "data": {
            "image/png": "[encoded data removed]",
            "text/plain": [
              "<Figure size 432x288 with 1 Axes>"
            ]
          },
          "metadata": {
            "needs_background": "light"
          },
          "output_type": "display_data"
        }
      ],
      "source": [
        "import matplotlib.pyplot as plt\n",
        "year = [2011, 2016]\n",
        "plt.plot(year, aus1_1['Female pupils below minimum reading proficiency at end of primary (%). Low GAML threshold'], 'gold', label='AUS_female');\n",
        "plt.plot(year, aus1_1['Male pupils below minimum reading proficiency at end of primary (%). Low GAML threshold'], 'orange', label='AUS_male');\n",
        "\n",
        "plt.plot(year, fra1_1['Female pupils below minimum reading proficiency at end of primary (%). Low GAML threshold'], 'lightgreen', label='FRA_female');\n",
        "plt.plot(year, fra1_1['Male pupils below minimum reading proficiency at end of primary (%). Low GAML threshold'], 'green', label='FRA_male');\n",
        "\n",
        "plt.plot(year, usa1_1['Female pupils below minimum reading proficiency at end of primary (%). Low GAML threshold'], 'lightblue', label='USA_female');\n",
        "plt.plot(year, usa1_1['Male pupils below minimum reading proficiency at end of primary (%). Low GAML threshold'], 'blue', label='USA_male');\n",
        "\n",
        "plt.xlabel='Year';\n",
        "plt.title(\"pupils below minimum reading proficiency at end of primary for AUS, FRA, USA by sex\");\n",
        "plt.legend();\n",
        "plt.show();"
      ]
    },
    {
      "cell_type": "markdown",
      "metadata": {
        "id": "ceDQM66koN22"
      },
      "source": [
        "Since the indicator 4.1.1 ask for proportion of children achieving at least a minimum proficiency level, the **reduction** in the sub-indicator means an **increased** proportion of children at the end of primary achieving at least a minimum proficiency level in reading.\n",
        "\n",
        "**Question 1.1.1** What is the trend of Proportion of children at the end of primary achieving at least a minimum proficiency level in reading by sex in the selected time period?\n",
        "\n",
        "From the line graph above, the Pupils below minimum reading proficiency at end of primary (%) are both decreased by at least 1% for both gender in Australia, indicating that there is an increasing proportion of pupils at end of primary achieving at least a minimum reading proficiency level.\n",
        "\n",
        "However, these two indicators are increased for both gender in France and United States, and female percentage for France didn't change significantly, which means that the female proportion slightly changed in France, and other indicators are decreased by at least 1% for these two countries.\n",
        "\n",
        "**Question 1.1.2** Are there any gender difference for Proportion of children at the end of primary achieving at least a minimum reading proficiency level?\n",
        "\n",
        "Almost all **Female** pupils below minimum reading proficiency at end of primary (%) for Australia, France and United States from 2011 to 2016 are relatively **lower** than the proportion of male pupils, so it can be concluded that the proportion of female pupils at end of primary achieving at least a minimum proficiency level in reading is higher than the proportion of male pupils in these three countries.\n",
        "\n",
        "**Compare three countries**\n",
        "\n",
        "In these three countries, only Australia has an increased proportion while France and United States are decreased during 2011 to 2016.\n",
        "\n",
        "Although United States has a decreasing proportion, the sub-indicators are relatively lower than Australia and France overall."
      ]
    },
    {
      "cell_type": "markdown",
      "metadata": {
        "id": "kbAmV7NNyubo"
      },
      "source": [
        "#### Indicator 4.1.2"
      ]
    },
    {
      "cell_type": "markdown",
      "metadata": {
        "id": "chLpHj1T8od7"
      },
      "source": [
        "##### **Data Filtering and Reshaping**"
      ]
    },
    {
      "cell_type": "code",
      "execution_count": 18,
      "metadata": {
        "colab": {
          "base_uri": "https://localhost:8080/",
          "height": 724
        },
        "id": "yh4tUmZAyzKn",
        "outputId": "ba31362f-fdab-4f63-d277-11a35816d4a9"
      },
      "outputs": [
        {
          "data": {
            "text/html": [
              "\n",
              "  <div id=\"df-dd6a59fa-ce55-4570-91aa-84c38fdc65ba\">\n",
              "    <div class=\"colab-df-container\">\n",
              "      <div>\n",
              "<style scoped>\n",
              "    .dataframe tbody tr th:only-of-type {\n",
              "        vertical-align: middle;\n",
              "    }\n",
              "\n",
              "    .dataframe tbody tr th {\n",
              "        vertical-align: top;\n",
              "    }\n",
              "\n",
              "    .dataframe thead th {\n",
              "        text-align: right;\n",
              "    }\n",
              "</style>\n",
              "<table border=\"1\" class=\"dataframe\">\n",
              "  <thead>\n",
              "    <tr style=\"text-align: right;\">\n",
              "      <th>Indicator Name</th>\n",
              "      <th>Educational attainment, at least completed lower secondary, population 25+, total (%) (cumulative)</th>\n",
              "      <th>Educational attainment, at least completed primary, population 25+ years, total (%) (cumulative)</th>\n",
              "      <th>Educational attainment, at least completed upper secondary, population 25+, total (%) (cumulative)</th>\n",
              "    </tr>\n",
              "    <tr>\n",
              "      <th>Year</th>\n",
              "      <th></th>\n",
              "      <th></th>\n",
              "      <th></th>\n",
              "    </tr>\n",
              "  </thead>\n",
              "  <tbody>\n",
              "    <tr>\n",
              "      <th>1971</th>\n",
              "      <td>69.800003</td>\n",
              "      <td>NaN</td>\n",
              "      <td>21.500000</td>\n",
              "    </tr>\n",
              "    <tr>\n",
              "      <th>2004</th>\n",
              "      <td>89.737602</td>\n",
              "      <td>NaN</td>\n",
              "      <td>64.121002</td>\n",
              "    </tr>\n",
              "    <tr>\n",
              "      <th>2005</th>\n",
              "      <td>90.854301</td>\n",
              "      <td>NaN</td>\n",
              "      <td>65.033852</td>\n",
              "    </tr>\n",
              "    <tr>\n",
              "      <th>2006</th>\n",
              "      <td>91.140671</td>\n",
              "      <td>NaN</td>\n",
              "      <td>66.713837</td>\n",
              "    </tr>\n",
              "    <tr>\n",
              "      <th>2007</th>\n",
              "      <td>91.724640</td>\n",
              "      <td>NaN</td>\n",
              "      <td>68.189781</td>\n",
              "    </tr>\n",
              "    <tr>\n",
              "      <th>2008</th>\n",
              "      <td>92.334351</td>\n",
              "      <td>NaN</td>\n",
              "      <td>70.088959</td>\n",
              "    </tr>\n",
              "    <tr>\n",
              "      <th>2009</th>\n",
              "      <td>92.238670</td>\n",
              "      <td>NaN</td>\n",
              "      <td>70.855743</td>\n",
              "    </tr>\n",
              "    <tr>\n",
              "      <th>2010</th>\n",
              "      <td>93.199532</td>\n",
              "      <td>99.868134</td>\n",
              "      <td>72.798973</td>\n",
              "    </tr>\n",
              "    <tr>\n",
              "      <th>2011</th>\n",
              "      <td>93.608101</td>\n",
              "      <td>NaN</td>\n",
              "      <td>74.061668</td>\n",
              "    </tr>\n",
              "    <tr>\n",
              "      <th>2012</th>\n",
              "      <td>94.448936</td>\n",
              "      <td>99.902817</td>\n",
              "      <td>76.483017</td>\n",
              "    </tr>\n",
              "    <tr>\n",
              "      <th>2013</th>\n",
              "      <td>91.081413</td>\n",
              "      <td>NaN</td>\n",
              "      <td>72.037354</td>\n",
              "    </tr>\n",
              "    <tr>\n",
              "      <th>2014</th>\n",
              "      <td>91.827667</td>\n",
              "      <td>NaN</td>\n",
              "      <td>73.595963</td>\n",
              "    </tr>\n",
              "    <tr>\n",
              "      <th>2015</th>\n",
              "      <td>92.648857</td>\n",
              "      <td>NaN</td>\n",
              "      <td>75.547577</td>\n",
              "    </tr>\n",
              "    <tr>\n",
              "      <th>2016</th>\n",
              "      <td>92.763992</td>\n",
              "      <td>NaN</td>\n",
              "      <td>76.418037</td>\n",
              "    </tr>\n",
              "    <tr>\n",
              "      <th>2017</th>\n",
              "      <td>93.005707</td>\n",
              "      <td>NaN</td>\n",
              "      <td>77.261360</td>\n",
              "    </tr>\n",
              "    <tr>\n",
              "      <th>2018</th>\n",
              "      <td>93.439072</td>\n",
              "      <td>NaN</td>\n",
              "      <td>78.325760</td>\n",
              "    </tr>\n",
              "    <tr>\n",
              "      <th>2019</th>\n",
              "      <td>93.945503</td>\n",
              "      <td>NaN</td>\n",
              "      <td>79.047928</td>\n",
              "    </tr>\n",
              "    <tr>\n",
              "      <th>2020</th>\n",
              "      <td>94.506531</td>\n",
              "      <td>NaN</td>\n",
              "      <td>80.053032</td>\n",
              "    </tr>\n",
              "  </tbody>\n",
              "</table>\n",
              "</div>\n",
              "      <button class=\"colab-df-convert\" onclick=\"convertToInteractive('df-dd6a59fa-ce55-4570-91aa-84c38fdc65ba')\"\n",
              "              title=\"Convert this dataframe to an interactive table.\"\n",
              "              style=\"display:none;\">\n",
              "        \n",
              "  <svg xmlns=\"http://www.w3.org/2000/svg\" height=\"24px\"viewBox=\"0 0 24 24\"\n",
              "       width=\"24px\">\n",
              "    <path d=\"M0 0h24v24H0V0z\" fill=\"none\"/>\n",
              "    <path d=\"M18.56 5.44l.94 2.06.94-2.06 2.06-.94-2.06-.94-.94-2.06-.94 2.06-2.06.94zm-11 1L8.5 8.5l.94-2.06 2.06-.94-2.06-.94L8.5 2.5l-.94 2.06-2.06.94zm10 10l.94 2.06.94-2.06 2.06-.94-2.06-.94-.94-2.06-.94 2.06-2.06.94z\"/><path d=\"M17.41 7.96l-1.37-1.37c-.4-.4-.92-.59-1.43-.59-.52 0-1.04.2-1.43.59L10.3 9.45l-7.72 7.72c-.78.78-.78 2.05 0 2.83L4 21.41c.39.39.9.59 1.41.59.51 0 1.02-.2 1.41-.59l7.78-7.78 2.81-2.81c.8-.78.8-2.07 0-2.86zM5.41 20L4 18.59l7.72-7.72 1.47 1.35L5.41 20z\"/>\n",
              "  </svg>\n",
              "      </button>\n",
              "      \n",
              "  <style>\n",
              "    .colab-df-container {\n",
              "      display:flex;\n",
              "      flex-wrap:wrap;\n",
              "      gap: 12px;\n",
              "    }\n",
              "\n",
              "    .colab-df-convert {\n",
              "      background-color: #E8F0FE;\n",
              "      border: none;\n",
              "      border-radius: 50%;\n",
              "      cursor: pointer;\n",
              "      display: none;\n",
              "      fill: #1967D2;\n",
              "      height: 32px;\n",
              "      padding: 0 0 0 0;\n",
              "      width: 32px;\n",
              "    }\n",
              "\n",
              "    .colab-df-convert:hover {\n",
              "      background-color: #E2EBFA;\n",
              "      box-shadow: 0px 1px 2px rgba(60, 64, 67, 0.3), 0px 1px 3px 1px rgba(60, 64, 67, 0.15);\n",
              "      fill: #174EA6;\n",
              "    }\n",
              "\n",
              "    [theme=dark] .colab-df-convert {\n",
              "      background-color: #3B4455;\n",
              "      fill: #D2E3FC;\n",
              "    }\n",
              "\n",
              "    [theme=dark] .colab-df-convert:hover {\n",
              "      background-color: #434B5C;\n",
              "      box-shadow: 0px 1px 3px 1px rgba(0, 0, 0, 0.15);\n",
              "      filter: drop-shadow(0px 1px 2px rgba(0, 0, 0, 0.3));\n",
              "      fill: #FFFFFF;\n",
              "    }\n",
              "  </style>\n",
              "\n",
              "      <script>\n",
              "        const buttonEl =\n",
              "          document.querySelector('#df-dd6a59fa-ce55-4570-91aa-84c38fdc65ba button.colab-df-convert');\n",
              "        buttonEl.style.display =\n",
              "          google.colab.kernel.accessAllowed ? 'block' : 'none';\n",
              "\n",
              "        async function convertToInteractive(key) {\n",
              "          const element = document.querySelector('#df-dd6a59fa-ce55-4570-91aa-84c38fdc65ba');\n",
              "          const dataTable =\n",
              "            await google.colab.kernel.invokeFunction('convertToInteractive',\n",
              "                                                     [key], {});\n",
              "          if (!dataTable) return;\n",
              "\n",
              "          const docLinkHtml = 'Like what you see? Visit the ' +\n",
              "            '<a target=\"_blank\" href=https://colab.research.google.com/notebooks/data_table.ipynb>data table notebook</a>'\n",
              "            + ' to learn more about interactive tables.';\n",
              "          element.innerHTML = '';\n",
              "          dataTable['output_type'] = 'display_data';\n",
              "          await google.colab.output.renderOutput(dataTable, element);\n",
              "          const docLink = document.createElement('div');\n",
              "          docLink.innerHTML = docLinkHtml;\n",
              "          element.appendChild(docLink);\n",
              "        }\n",
              "      </script>\n",
              "    </div>\n",
              "  </div>\n",
              "  "
            ],
            "text/plain": [
              "Indicator Name  Educational attainment, at least completed lower secondary, population 25+, total (%) (cumulative)  \\\n",
              "Year                                                                                                                 \n",
              "1971                                                    69.800003                                                    \n",
              "2004                                                    89.737602                                                    \n",
              "2005                                                    90.854301                                                    \n",
              "2006                                                    91.140671                                                    \n",
              "2007                                                    91.724640                                                    \n",
              "2008                                                    92.334351                                                    \n",
              "2009                                                    92.238670                                                    \n",
              "2010                                                    93.199532                                                    \n",
              "2011                                                    93.608101                                                    \n",
              "2012                                                    94.448936                                                    \n",
              "2013                                                    91.081413                                                    \n",
              "2014                                                    91.827667                                                    \n",
              "2015                                                    92.648857                                                    \n",
              "2016                                                    92.763992                                                    \n",
              "2017                                                    93.005707                                                    \n",
              "2018                                                    93.439072                                                    \n",
              "2019                                                    93.945503                                                    \n",
              "2020                                                    94.506531                                                    \n",
              "\n",
              "Indicator Name  Educational attainment, at least completed primary, population 25+ years, total (%) (cumulative)  \\\n",
              "Year                                                                                                               \n",
              "1971                                                          NaN                                                  \n",
              "2004                                                          NaN                                                  \n",
              "2005                                                          NaN                                                  \n",
              "2006                                                          NaN                                                  \n",
              "2007                                                          NaN                                                  \n",
              "2008                                                          NaN                                                  \n",
              "2009                                                          NaN                                                  \n",
              "2010                                                    99.868134                                                  \n",
              "2011                                                          NaN                                                  \n",
              "2012                                                    99.902817                                                  \n",
              "2013                                                          NaN                                                  \n",
              "2014                                                          NaN                                                  \n",
              "2015                                                          NaN                                                  \n",
              "2016                                                          NaN                                                  \n",
              "2017                                                          NaN                                                  \n",
              "2018                                                          NaN                                                  \n",
              "2019                                                          NaN                                                  \n",
              "2020                                                          NaN                                                  \n",
              "\n",
              "Indicator Name  Educational attainment, at least completed upper secondary, population 25+, total (%) (cumulative)  \n",
              "Year                                                                                                                \n",
              "1971                                                    21.500000                                                   \n",
              "2004                                                    64.121002                                                   \n",
              "2005                                                    65.033852                                                   \n",
              "2006                                                    66.713837                                                   \n",
              "2007                                                    68.189781                                                   \n",
              "2008                                                    70.088959                                                   \n",
              "2009                                                    70.855743                                                   \n",
              "2010                                                    72.798973                                                   \n",
              "2011                                                    74.061668                                                   \n",
              "2012                                                    76.483017                                                   \n",
              "2013                                                    72.037354                                                   \n",
              "2014                                                    73.595963                                                   \n",
              "2015                                                    75.547577                                                   \n",
              "2016                                                    76.418037                                                   \n",
              "2017                                                    77.261360                                                   \n",
              "2018                                                    78.325760                                                   \n",
              "2019                                                    79.047928                                                   \n",
              "2020                                                    80.053032                                                   "
            ]
          },
          "execution_count": 18,
          "metadata": {},
          "output_type": "execute_result"
        }
      ],
      "source": [
        "# Filter with sub-indicators for 4.1.2\n",
        "aus_sub2 = aus[aus['Indicator Name'].isin(sub_1_2)]\n",
        "# Reshape dataframe from ling format to wide format and each sub-indicator become a column\n",
        "aus1_2 = aus_sub2.pivot(index='Year', columns='Indicator Name', values='Value')\n",
        "aus1_2"
      ]
    },
    {
      "cell_type": "code",
      "execution_count": 19,
      "metadata": {
        "colab": {
          "base_uri": "https://localhost:8080/",
          "height": 630
        },
        "id": "WW8Weq7By7MF",
        "outputId": "8ca0f2cf-7ef5-47dc-fd48-deba9b6d949e"
      },
      "outputs": [
        {
          "data": {
            "text/html": [
              "\n",
              "  <div id=\"df-3e83e62f-8273-42d1-b252-4c2f23705622\">\n",
              "    <div class=\"colab-df-container\">\n",
              "      <div>\n",
              "<style scoped>\n",
              "    .dataframe tbody tr th:only-of-type {\n",
              "        vertical-align: middle;\n",
              "    }\n",
              "\n",
              "    .dataframe tbody tr th {\n",
              "        vertical-align: top;\n",
              "    }\n",
              "\n",
              "    .dataframe thead th {\n",
              "        text-align: right;\n",
              "    }\n",
              "</style>\n",
              "<table border=\"1\" class=\"dataframe\">\n",
              "  <thead>\n",
              "    <tr style=\"text-align: right;\">\n",
              "      <th>Indicator Name</th>\n",
              "      <th>Educational attainment, at least completed lower secondary, population 25+, total (%) (cumulative)</th>\n",
              "      <th>Educational attainment, at least completed primary, population 25+ years, total (%) (cumulative)</th>\n",
              "      <th>Educational attainment, at least completed upper secondary, population 25+, total (%) (cumulative)</th>\n",
              "    </tr>\n",
              "    <tr>\n",
              "      <th>Year</th>\n",
              "      <th></th>\n",
              "      <th></th>\n",
              "      <th></th>\n",
              "    </tr>\n",
              "  </thead>\n",
              "  <tbody>\n",
              "    <tr>\n",
              "      <th>1990</th>\n",
              "      <td>48.354111</td>\n",
              "      <td>NaN</td>\n",
              "      <td>NaN</td>\n",
              "    </tr>\n",
              "    <tr>\n",
              "      <th>2004</th>\n",
              "      <td>74.140228</td>\n",
              "      <td>98.343582</td>\n",
              "      <td>55.697578</td>\n",
              "    </tr>\n",
              "    <tr>\n",
              "      <th>2005</th>\n",
              "      <td>74.701683</td>\n",
              "      <td>98.607590</td>\n",
              "      <td>56.590611</td>\n",
              "    </tr>\n",
              "    <tr>\n",
              "      <th>2007</th>\n",
              "      <td>76.934830</td>\n",
              "      <td>99.164742</td>\n",
              "      <td>59.422951</td>\n",
              "    </tr>\n",
              "    <tr>\n",
              "      <th>2008</th>\n",
              "      <td>77.944908</td>\n",
              "      <td>99.279449</td>\n",
              "      <td>60.349560</td>\n",
              "    </tr>\n",
              "    <tr>\n",
              "      <th>2009</th>\n",
              "      <td>77.973923</td>\n",
              "      <td>98.865562</td>\n",
              "      <td>60.420872</td>\n",
              "    </tr>\n",
              "    <tr>\n",
              "      <th>2010</th>\n",
              "      <td>79.216499</td>\n",
              "      <td>98.435738</td>\n",
              "      <td>61.898880</td>\n",
              "    </tr>\n",
              "    <tr>\n",
              "      <th>2011</th>\n",
              "      <td>79.813728</td>\n",
              "      <td>98.445580</td>\n",
              "      <td>62.771568</td>\n",
              "    </tr>\n",
              "    <tr>\n",
              "      <th>2012</th>\n",
              "      <td>80.487663</td>\n",
              "      <td>98.450920</td>\n",
              "      <td>63.749722</td>\n",
              "    </tr>\n",
              "    <tr>\n",
              "      <th>2013</th>\n",
              "      <td>81.500999</td>\n",
              "      <td>97.896049</td>\n",
              "      <td>66.335159</td>\n",
              "    </tr>\n",
              "    <tr>\n",
              "      <th>2014</th>\n",
              "      <td>82.633163</td>\n",
              "      <td>97.544617</td>\n",
              "      <td>68.530220</td>\n",
              "    </tr>\n",
              "    <tr>\n",
              "      <th>2015</th>\n",
              "      <td>83.203430</td>\n",
              "      <td>97.522423</td>\n",
              "      <td>69.437431</td>\n",
              "    </tr>\n",
              "    <tr>\n",
              "      <th>2016</th>\n",
              "      <td>83.685829</td>\n",
              "      <td>97.626472</td>\n",
              "      <td>69.665627</td>\n",
              "    </tr>\n",
              "    <tr>\n",
              "      <th>2017</th>\n",
              "      <td>84.214798</td>\n",
              "      <td>97.568466</td>\n",
              "      <td>70.075493</td>\n",
              "    </tr>\n",
              "    <tr>\n",
              "      <th>2019</th>\n",
              "      <td>85.595657</td>\n",
              "      <td>97.672287</td>\n",
              "      <td>72.187347</td>\n",
              "    </tr>\n",
              "  </tbody>\n",
              "</table>\n",
              "</div>\n",
              "      <button class=\"colab-df-convert\" onclick=\"convertToInteractive('df-3e83e62f-8273-42d1-b252-4c2f23705622')\"\n",
              "              title=\"Convert this dataframe to an interactive table.\"\n",
              "              style=\"display:none;\">\n",
              "        \n",
              "  <svg xmlns=\"http://www.w3.org/2000/svg\" height=\"24px\"viewBox=\"0 0 24 24\"\n",
              "       width=\"24px\">\n",
              "    <path d=\"M0 0h24v24H0V0z\" fill=\"none\"/>\n",
              "    <path d=\"M18.56 5.44l.94 2.06.94-2.06 2.06-.94-2.06-.94-.94-2.06-.94 2.06-2.06.94zm-11 1L8.5 8.5l.94-2.06 2.06-.94-2.06-.94L8.5 2.5l-.94 2.06-2.06.94zm10 10l.94 2.06.94-2.06 2.06-.94-2.06-.94-.94-2.06-.94 2.06-2.06.94z\"/><path d=\"M17.41 7.96l-1.37-1.37c-.4-.4-.92-.59-1.43-.59-.52 0-1.04.2-1.43.59L10.3 9.45l-7.72 7.72c-.78.78-.78 2.05 0 2.83L4 21.41c.39.39.9.59 1.41.59.51 0 1.02-.2 1.41-.59l7.78-7.78 2.81-2.81c.8-.78.8-2.07 0-2.86zM5.41 20L4 18.59l7.72-7.72 1.47 1.35L5.41 20z\"/>\n",
              "  </svg>\n",
              "      </button>\n",
              "      \n",
              "  <style>\n",
              "    .colab-df-container {\n",
              "      display:flex;\n",
              "      flex-wrap:wrap;\n",
              "      gap: 12px;\n",
              "    }\n",
              "\n",
              "    .colab-df-convert {\n",
              "      background-color: #E8F0FE;\n",
              "      border: none;\n",
              "      border-radius: 50%;\n",
              "      cursor: pointer;\n",
              "      display: none;\n",
              "      fill: #1967D2;\n",
              "      height: 32px;\n",
              "      padding: 0 0 0 0;\n",
              "      width: 32px;\n",
              "    }\n",
              "\n",
              "    .colab-df-convert:hover {\n",
              "      background-color: #E2EBFA;\n",
              "      box-shadow: 0px 1px 2px rgba(60, 64, 67, 0.3), 0px 1px 3px 1px rgba(60, 64, 67, 0.15);\n",
              "      fill: #174EA6;\n",
              "    }\n",
              "\n",
              "    [theme=dark] .colab-df-convert {\n",
              "      background-color: #3B4455;\n",
              "      fill: #D2E3FC;\n",
              "    }\n",
              "\n",
              "    [theme=dark] .colab-df-convert:hover {\n",
              "      background-color: #434B5C;\n",
              "      box-shadow: 0px 1px 3px 1px rgba(0, 0, 0, 0.15);\n",
              "      filter: drop-shadow(0px 1px 2px rgba(0, 0, 0, 0.3));\n",
              "      fill: #FFFFFF;\n",
              "    }\n",
              "  </style>\n",
              "\n",
              "      <script>\n",
              "        const buttonEl =\n",
              "          document.querySelector('#df-3e83e62f-8273-42d1-b252-4c2f23705622 button.colab-df-convert');\n",
              "        buttonEl.style.display =\n",
              "          google.colab.kernel.accessAllowed ? 'block' : 'none';\n",
              "\n",
              "        async function convertToInteractive(key) {\n",
              "          const element = document.querySelector('#df-3e83e62f-8273-42d1-b252-4c2f23705622');\n",
              "          const dataTable =\n",
              "            await google.colab.kernel.invokeFunction('convertToInteractive',\n",
              "                                                     [key], {});\n",
              "          if (!dataTable) return;\n",
              "\n",
              "          const docLinkHtml = 'Like what you see? Visit the ' +\n",
              "            '<a target=\"_blank\" href=https://colab.research.google.com/notebooks/data_table.ipynb>data table notebook</a>'\n",
              "            + ' to learn more about interactive tables.';\n",
              "          element.innerHTML = '';\n",
              "          dataTable['output_type'] = 'display_data';\n",
              "          await google.colab.output.renderOutput(dataTable, element);\n",
              "          const docLink = document.createElement('div');\n",
              "          docLink.innerHTML = docLinkHtml;\n",
              "          element.appendChild(docLink);\n",
              "        }\n",
              "      </script>\n",
              "    </div>\n",
              "  </div>\n",
              "  "
            ],
            "text/plain": [
              "Indicator Name  Educational attainment, at least completed lower secondary, population 25+, total (%) (cumulative)  \\\n",
              "Year                                                                                                                 \n",
              "1990                                                    48.354111                                                    \n",
              "2004                                                    74.140228                                                    \n",
              "2005                                                    74.701683                                                    \n",
              "2007                                                    76.934830                                                    \n",
              "2008                                                    77.944908                                                    \n",
              "2009                                                    77.973923                                                    \n",
              "2010                                                    79.216499                                                    \n",
              "2011                                                    79.813728                                                    \n",
              "2012                                                    80.487663                                                    \n",
              "2013                                                    81.500999                                                    \n",
              "2014                                                    82.633163                                                    \n",
              "2015                                                    83.203430                                                    \n",
              "2016                                                    83.685829                                                    \n",
              "2017                                                    84.214798                                                    \n",
              "2019                                                    85.595657                                                    \n",
              "\n",
              "Indicator Name  Educational attainment, at least completed primary, population 25+ years, total (%) (cumulative)  \\\n",
              "Year                                                                                                               \n",
              "1990                                                          NaN                                                  \n",
              "2004                                                    98.343582                                                  \n",
              "2005                                                    98.607590                                                  \n",
              "2007                                                    99.164742                                                  \n",
              "2008                                                    99.279449                                                  \n",
              "2009                                                    98.865562                                                  \n",
              "2010                                                    98.435738                                                  \n",
              "2011                                                    98.445580                                                  \n",
              "2012                                                    98.450920                                                  \n",
              "2013                                                    97.896049                                                  \n",
              "2014                                                    97.544617                                                  \n",
              "2015                                                    97.522423                                                  \n",
              "2016                                                    97.626472                                                  \n",
              "2017                                                    97.568466                                                  \n",
              "2019                                                    97.672287                                                  \n",
              "\n",
              "Indicator Name  Educational attainment, at least completed upper secondary, population 25+, total (%) (cumulative)  \n",
              "Year                                                                                                                \n",
              "1990                                                          NaN                                                   \n",
              "2004                                                    55.697578                                                   \n",
              "2005                                                    56.590611                                                   \n",
              "2007                                                    59.422951                                                   \n",
              "2008                                                    60.349560                                                   \n",
              "2009                                                    60.420872                                                   \n",
              "2010                                                    61.898880                                                   \n",
              "2011                                                    62.771568                                                   \n",
              "2012                                                    63.749722                                                   \n",
              "2013                                                    66.335159                                                   \n",
              "2014                                                    68.530220                                                   \n",
              "2015                                                    69.437431                                                   \n",
              "2016                                                    69.665627                                                   \n",
              "2017                                                    70.075493                                                   \n",
              "2019                                                    72.187347                                                   "
            ]
          },
          "execution_count": 19,
          "metadata": {},
          "output_type": "execute_result"
        }
      ],
      "source": [
        "# Repeat for fra and usa\n",
        "fra_sub2 = fra[fra['Indicator Name'].isin(sub_1_2)] # filter\n",
        "fra1_2 = fra_sub2.pivot(index='Year', columns='Indicator Name', values='Value') # reshape\n",
        "fra1_2"
      ]
    },
    {
      "cell_type": "code",
      "execution_count": 20,
      "metadata": {
        "colab": {
          "base_uri": "https://localhost:8080/",
          "height": 818
        },
        "id": "chFiLSUjzAEf",
        "outputId": "0350a262-9663-4ad2-abca-44ec2814ab20"
      },
      "outputs": [
        {
          "data": {
            "text/html": [
              "\n",
              "  <div id=\"df-0618f926-b5ad-4112-857c-a37d35fccb3c\">\n",
              "    <div class=\"colab-df-container\">\n",
              "      <div>\n",
              "<style scoped>\n",
              "    .dataframe tbody tr th:only-of-type {\n",
              "        vertical-align: middle;\n",
              "    }\n",
              "\n",
              "    .dataframe tbody tr th {\n",
              "        vertical-align: top;\n",
              "    }\n",
              "\n",
              "    .dataframe thead th {\n",
              "        text-align: right;\n",
              "    }\n",
              "</style>\n",
              "<table border=\"1\" class=\"dataframe\">\n",
              "  <thead>\n",
              "    <tr style=\"text-align: right;\">\n",
              "      <th>Indicator Name</th>\n",
              "      <th>Educational attainment, at least completed lower secondary, population 25+, total (%) (cumulative)</th>\n",
              "      <th>Educational attainment, at least completed primary, population 25+ years, total (%) (cumulative)</th>\n",
              "      <th>Educational attainment, at least completed upper secondary, population 25+, total (%) (cumulative)</th>\n",
              "    </tr>\n",
              "    <tr>\n",
              "      <th>Year</th>\n",
              "      <th></th>\n",
              "      <th></th>\n",
              "      <th></th>\n",
              "    </tr>\n",
              "  </thead>\n",
              "  <tbody>\n",
              "    <tr>\n",
              "      <th>1970</th>\n",
              "      <td>65.680931</td>\n",
              "      <td>94.491379</td>\n",
              "      <td>NaN</td>\n",
              "    </tr>\n",
              "    <tr>\n",
              "      <th>1975</th>\n",
              "      <td>91.785240</td>\n",
              "      <td>NaN</td>\n",
              "      <td>NaN</td>\n",
              "    </tr>\n",
              "    <tr>\n",
              "      <th>1979</th>\n",
              "      <td>92.723824</td>\n",
              "      <td>NaN</td>\n",
              "      <td>NaN</td>\n",
              "    </tr>\n",
              "    <tr>\n",
              "      <th>1980</th>\n",
              "      <td>92.701988</td>\n",
              "      <td>96.430161</td>\n",
              "      <td>NaN</td>\n",
              "    </tr>\n",
              "    <tr>\n",
              "      <th>1981</th>\n",
              "      <td>92.993767</td>\n",
              "      <td>NaN</td>\n",
              "      <td>NaN</td>\n",
              "    </tr>\n",
              "    <tr>\n",
              "      <th>1990</th>\n",
              "      <td>89.620453</td>\n",
              "      <td>NaN</td>\n",
              "      <td>NaN</td>\n",
              "    </tr>\n",
              "    <tr>\n",
              "      <th>1994</th>\n",
              "      <td>91.179024</td>\n",
              "      <td>NaN</td>\n",
              "      <td>NaN</td>\n",
              "    </tr>\n",
              "    <tr>\n",
              "      <th>2004</th>\n",
              "      <td>93.714241</td>\n",
              "      <td>98.470551</td>\n",
              "      <td>85.153152</td>\n",
              "    </tr>\n",
              "    <tr>\n",
              "      <th>2005</th>\n",
              "      <td>93.695877</td>\n",
              "      <td>98.422958</td>\n",
              "      <td>85.191780</td>\n",
              "    </tr>\n",
              "    <tr>\n",
              "      <th>2006</th>\n",
              "      <td>94.189163</td>\n",
              "      <td>98.543770</td>\n",
              "      <td>85.723228</td>\n",
              "    </tr>\n",
              "    <tr>\n",
              "      <th>2008</th>\n",
              "      <td>94.485550</td>\n",
              "      <td>98.676727</td>\n",
              "      <td>86.614128</td>\n",
              "    </tr>\n",
              "    <tr>\n",
              "      <th>2009</th>\n",
              "      <td>94.535217</td>\n",
              "      <td>98.594177</td>\n",
              "      <td>86.709084</td>\n",
              "    </tr>\n",
              "    <tr>\n",
              "      <th>2010</th>\n",
              "      <td>94.769501</td>\n",
              "      <td>98.688431</td>\n",
              "      <td>87.149406</td>\n",
              "    </tr>\n",
              "    <tr>\n",
              "      <th>2011</th>\n",
              "      <td>94.902733</td>\n",
              "      <td>98.717300</td>\n",
              "      <td>87.590889</td>\n",
              "    </tr>\n",
              "    <tr>\n",
              "      <th>2012</th>\n",
              "      <td>94.984489</td>\n",
              "      <td>98.790482</td>\n",
              "      <td>87.679100</td>\n",
              "    </tr>\n",
              "    <tr>\n",
              "      <th>2013</th>\n",
              "      <td>95.204529</td>\n",
              "      <td>98.867020</td>\n",
              "      <td>88.150307</td>\n",
              "    </tr>\n",
              "    <tr>\n",
              "      <th>2014</th>\n",
              "      <td>95.263474</td>\n",
              "      <td>98.793411</td>\n",
              "      <td>88.313583</td>\n",
              "    </tr>\n",
              "    <tr>\n",
              "      <th>2015</th>\n",
              "      <td>95.334969</td>\n",
              "      <td>98.773880</td>\n",
              "      <td>88.411972</td>\n",
              "    </tr>\n",
              "    <tr>\n",
              "      <th>2016</th>\n",
              "      <td>95.585243</td>\n",
              "      <td>98.877113</td>\n",
              "      <td>89.092361</td>\n",
              "    </tr>\n",
              "    <tr>\n",
              "      <th>2018</th>\n",
              "      <td>96.029373</td>\n",
              "      <td>99.031532</td>\n",
              "      <td>89.805359</td>\n",
              "    </tr>\n",
              "    <tr>\n",
              "      <th>2020</th>\n",
              "      <td>96.460770</td>\n",
              "      <td>99.055779</td>\n",
              "      <td>90.940521</td>\n",
              "    </tr>\n",
              "  </tbody>\n",
              "</table>\n",
              "</div>\n",
              "      <button class=\"colab-df-convert\" onclick=\"convertToInteractive('df-0618f926-b5ad-4112-857c-a37d35fccb3c')\"\n",
              "              title=\"Convert this dataframe to an interactive table.\"\n",
              "              style=\"display:none;\">\n",
              "        \n",
              "  <svg xmlns=\"http://www.w3.org/2000/svg\" height=\"24px\"viewBox=\"0 0 24 24\"\n",
              "       width=\"24px\">\n",
              "    <path d=\"M0 0h24v24H0V0z\" fill=\"none\"/>\n",
              "    <path d=\"M18.56 5.44l.94 2.06.94-2.06 2.06-.94-2.06-.94-.94-2.06-.94 2.06-2.06.94zm-11 1L8.5 8.5l.94-2.06 2.06-.94-2.06-.94L8.5 2.5l-.94 2.06-2.06.94zm10 10l.94 2.06.94-2.06 2.06-.94-2.06-.94-.94-2.06-.94 2.06-2.06.94z\"/><path d=\"M17.41 7.96l-1.37-1.37c-.4-.4-.92-.59-1.43-.59-.52 0-1.04.2-1.43.59L10.3 9.45l-7.72 7.72c-.78.78-.78 2.05 0 2.83L4 21.41c.39.39.9.59 1.41.59.51 0 1.02-.2 1.41-.59l7.78-7.78 2.81-2.81c.8-.78.8-2.07 0-2.86zM5.41 20L4 18.59l7.72-7.72 1.47 1.35L5.41 20z\"/>\n",
              "  </svg>\n",
              "      </button>\n",
              "      \n",
              "  <style>\n",
              "    .colab-df-container {\n",
              "      display:flex;\n",
              "      flex-wrap:wrap;\n",
              "      gap: 12px;\n",
              "    }\n",
              "\n",
              "    .colab-df-convert {\n",
              "      background-color: #E8F0FE;\n",
              "      border: none;\n",
              "      border-radius: 50%;\n",
              "      cursor: pointer;\n",
              "      display: none;\n",
              "      fill: #1967D2;\n",
              "      height: 32px;\n",
              "      padding: 0 0 0 0;\n",
              "      width: 32px;\n",
              "    }\n",
              "\n",
              "    .colab-df-convert:hover {\n",
              "      background-color: #E2EBFA;\n",
              "      box-shadow: 0px 1px 2px rgba(60, 64, 67, 0.3), 0px 1px 3px 1px rgba(60, 64, 67, 0.15);\n",
              "      fill: #174EA6;\n",
              "    }\n",
              "\n",
              "    [theme=dark] .colab-df-convert {\n",
              "      background-color: #3B4455;\n",
              "      fill: #D2E3FC;\n",
              "    }\n",
              "\n",
              "    [theme=dark] .colab-df-convert:hover {\n",
              "      background-color: #434B5C;\n",
              "      box-shadow: 0px 1px 3px 1px rgba(0, 0, 0, 0.15);\n",
              "      filter: drop-shadow(0px 1px 2px rgba(0, 0, 0, 0.3));\n",
              "      fill: #FFFFFF;\n",
              "    }\n",
              "  </style>\n",
              "\n",
              "      <script>\n",
              "        const buttonEl =\n",
              "          document.querySelector('#df-0618f926-b5ad-4112-857c-a37d35fccb3c button.colab-df-convert');\n",
              "        buttonEl.style.display =\n",
              "          google.colab.kernel.accessAllowed ? 'block' : 'none';\n",
              "\n",
              "        async function convertToInteractive(key) {\n",
              "          const element = document.querySelector('#df-0618f926-b5ad-4112-857c-a37d35fccb3c');\n",
              "          const dataTable =\n",
              "            await google.colab.kernel.invokeFunction('convertToInteractive',\n",
              "                                                     [key], {});\n",
              "          if (!dataTable) return;\n",
              "\n",
              "          const docLinkHtml = 'Like what you see? Visit the ' +\n",
              "            '<a target=\"_blank\" href=https://colab.research.google.com/notebooks/data_table.ipynb>data table notebook</a>'\n",
              "            + ' to learn more about interactive tables.';\n",
              "          element.innerHTML = '';\n",
              "          dataTable['output_type'] = 'display_data';\n",
              "          await google.colab.output.renderOutput(dataTable, element);\n",
              "          const docLink = document.createElement('div');\n",
              "          docLink.innerHTML = docLinkHtml;\n",
              "          element.appendChild(docLink);\n",
              "        }\n",
              "      </script>\n",
              "    </div>\n",
              "  </div>\n",
              "  "
            ],
            "text/plain": [
              "Indicator Name  Educational attainment, at least completed lower secondary, population 25+, total (%) (cumulative)  \\\n",
              "Year                                                                                                                 \n",
              "1970                                                    65.680931                                                    \n",
              "1975                                                    91.785240                                                    \n",
              "1979                                                    92.723824                                                    \n",
              "1980                                                    92.701988                                                    \n",
              "1981                                                    92.993767                                                    \n",
              "1990                                                    89.620453                                                    \n",
              "1994                                                    91.179024                                                    \n",
              "2004                                                    93.714241                                                    \n",
              "2005                                                    93.695877                                                    \n",
              "2006                                                    94.189163                                                    \n",
              "2008                                                    94.485550                                                    \n",
              "2009                                                    94.535217                                                    \n",
              "2010                                                    94.769501                                                    \n",
              "2011                                                    94.902733                                                    \n",
              "2012                                                    94.984489                                                    \n",
              "2013                                                    95.204529                                                    \n",
              "2014                                                    95.263474                                                    \n",
              "2015                                                    95.334969                                                    \n",
              "2016                                                    95.585243                                                    \n",
              "2018                                                    96.029373                                                    \n",
              "2020                                                    96.460770                                                    \n",
              "\n",
              "Indicator Name  Educational attainment, at least completed primary, population 25+ years, total (%) (cumulative)  \\\n",
              "Year                                                                                                               \n",
              "1970                                                    94.491379                                                  \n",
              "1975                                                          NaN                                                  \n",
              "1979                                                          NaN                                                  \n",
              "1980                                                    96.430161                                                  \n",
              "1981                                                          NaN                                                  \n",
              "1990                                                          NaN                                                  \n",
              "1994                                                          NaN                                                  \n",
              "2004                                                    98.470551                                                  \n",
              "2005                                                    98.422958                                                  \n",
              "2006                                                    98.543770                                                  \n",
              "2008                                                    98.676727                                                  \n",
              "2009                                                    98.594177                                                  \n",
              "2010                                                    98.688431                                                  \n",
              "2011                                                    98.717300                                                  \n",
              "2012                                                    98.790482                                                  \n",
              "2013                                                    98.867020                                                  \n",
              "2014                                                    98.793411                                                  \n",
              "2015                                                    98.773880                                                  \n",
              "2016                                                    98.877113                                                  \n",
              "2018                                                    99.031532                                                  \n",
              "2020                                                    99.055779                                                  \n",
              "\n",
              "Indicator Name  Educational attainment, at least completed upper secondary, population 25+, total (%) (cumulative)  \n",
              "Year                                                                                                                \n",
              "1970                                                          NaN                                                   \n",
              "1975                                                          NaN                                                   \n",
              "1979                                                          NaN                                                   \n",
              "1980                                                          NaN                                                   \n",
              "1981                                                          NaN                                                   \n",
              "1990                                                          NaN                                                   \n",
              "1994                                                          NaN                                                   \n",
              "2004                                                    85.153152                                                   \n",
              "2005                                                    85.191780                                                   \n",
              "2006                                                    85.723228                                                   \n",
              "2008                                                    86.614128                                                   \n",
              "2009                                                    86.709084                                                   \n",
              "2010                                                    87.149406                                                   \n",
              "2011                                                    87.590889                                                   \n",
              "2012                                                    87.679100                                                   \n",
              "2013                                                    88.150307                                                   \n",
              "2014                                                    88.313583                                                   \n",
              "2015                                                    88.411972                                                   \n",
              "2016                                                    89.092361                                                   \n",
              "2018                                                    89.805359                                                   \n",
              "2020                                                    90.940521                                                   "
            ]
          },
          "execution_count": 20,
          "metadata": {},
          "output_type": "execute_result"
        }
      ],
      "source": [
        "usa_sub2 = usa[usa['Indicator Name'].isin(sub_1_2)] # filter\n",
        "usa1_2 = usa_sub2.pivot(index='Year', columns='Indicator Name', values='Value') # reshape\n",
        "usa1_2"
      ]
    },
    {
      "cell_type": "markdown",
      "metadata": {
        "id": "t1qfCvvEzMAC"
      },
      "source": [
        "From three results above, there are many missing values before 2007 and a few missing for the year 2018, 2019 and 2020, so the year range is chosen as 2007 to 2017."
      ]
    },
    {
      "cell_type": "code",
      "execution_count": 21,
      "metadata": {
        "colab": {
          "base_uri": "https://localhost:8080/"
        },
        "id": "8imEVfN20J8M",
        "outputId": "2a04df8a-3592-4795-ff27-8d8809e6fc56"
      },
      "outputs": [
        {
          "data": {
            "text/plain": [
              "Indicator Name\n",
              "Educational attainment, at least completed lower secondary, population 25+, total (%) (cumulative)    0\n",
              "Educational attainment, at least completed primary, population 25+ years, total (%) (cumulative)      9\n",
              "Educational attainment, at least completed upper secondary, population 25+, total (%) (cumulative)    0\n",
              "dtype: int64"
            ]
          },
          "execution_count": 21,
          "metadata": {},
          "output_type": "execute_result"
        }
      ],
      "source": [
        "aus1_2 = aus_sub2[(aus_sub2['Year']>=2007) & (aus_sub2['Year']<=2017)].pivot(index='Year', columns='Indicator Name', values='Value')\n",
        "aus1_2.isnull().sum()"
      ]
    },
    {
      "cell_type": "markdown",
      "metadata": {
        "id": "saqqjzOu2DiX"
      },
      "source": [
        "It can be observed that there are only two values for column \"Educational attainment, at least completed primary, population 25+ years, total (%) (cumulative)\", therefore ignore this sub-indicator for Australia."
      ]
    },
    {
      "cell_type": "code",
      "execution_count": 22,
      "metadata": {
        "colab": {
          "base_uri": "https://localhost:8080/"
        },
        "id": "3Y4-yZCz2IlP",
        "outputId": "7a5a84a4-e08a-4869-ff7e-98c2f4675907"
      },
      "outputs": [
        {
          "data": {
            "text/plain": [
              "Indicator Name\n",
              "Educational attainment, at least completed lower secondary, population 25+, total (%) (cumulative)    0\n",
              "Educational attainment, at least completed upper secondary, population 25+, total (%) (cumulative)    0\n",
              "dtype: int64"
            ]
          },
          "execution_count": 22,
          "metadata": {},
          "output_type": "execute_result"
        }
      ],
      "source": [
        "aus1_2.drop('Educational attainment, at least completed primary, population 25+ years, total (%) (cumulative)',inplace=True, axis=1)\n",
        "aus1_2.isnull().sum()"
      ]
    },
    {
      "cell_type": "code",
      "execution_count": 23,
      "metadata": {
        "colab": {
          "base_uri": "https://localhost:8080/"
        },
        "id": "-pc7nteMWsJw",
        "outputId": "c2137d8d-b682-41bc-99b4-dbc579bd1d8d"
      },
      "outputs": [
        {
          "data": {
            "text/plain": [
              "Indicator Name\n",
              "Educational attainment, at least completed lower secondary, population 25+, total (%) (cumulative)    0\n",
              "Educational attainment, at least completed primary, population 25+ years, total (%) (cumulative)      0\n",
              "Educational attainment, at least completed upper secondary, population 25+, total (%) (cumulative)    0\n",
              "dtype: int64"
            ]
          },
          "execution_count": 23,
          "metadata": {},
          "output_type": "execute_result"
        }
      ],
      "source": [
        "fra1_2 = fra_sub2[(fra_sub2['Year']>=2007) & (fra_sub2['Year']<=2017)].pivot(index='Year', columns='Indicator Name', values='Value')\n",
        "fra1_2.isnull().sum()"
      ]
    },
    {
      "cell_type": "code",
      "execution_count": 24,
      "metadata": {
        "colab": {
          "base_uri": "https://localhost:8080/"
        },
        "id": "lR39suxx6E3j",
        "outputId": "93e37b06-90d6-4f6b-ad19-fdbcfdd76f0c"
      },
      "outputs": [
        {
          "data": {
            "text/plain": [
              "Indicator Name\n",
              "Educational attainment, at least completed lower secondary, population 25+, total (%) (cumulative)    0\n",
              "Educational attainment, at least completed primary, population 25+ years, total (%) (cumulative)      0\n",
              "Educational attainment, at least completed upper secondary, population 25+, total (%) (cumulative)    0\n",
              "dtype: int64"
            ]
          },
          "execution_count": 24,
          "metadata": {},
          "output_type": "execute_result"
        }
      ],
      "source": [
        "usa1_2 = usa_sub2[(usa_sub2['Year']>=2007) & (usa_sub2['Year']<=2017)].pivot(index='Year', columns='Indicator Name', values='Value')\n",
        "usa1_2.isnull().sum()"
      ]
    },
    {
      "cell_type": "markdown",
      "metadata": {
        "id": "2yBruZd57b6z"
      },
      "source": [
        "Check outliers"
      ]
    },
    {
      "cell_type": "code",
      "execution_count": 25,
      "metadata": {
        "colab": {
          "base_uri": "https://localhost:8080/",
          "height": 761
        },
        "id": "FvSDjwaR7i38",
        "outputId": "57d3a434-19e5-4a6e-faee-dd8eb901c1f7"
      },
      "outputs": [
        {
          "data": {
            "image/png": "[encoded data removed]",
            "text/plain": [
              "<Figure size 432x288 with 1 Axes>"
            ]
          },
          "metadata": {
            "needs_background": "light"
          },
          "output_type": "display_data"
        },
        {
          "data": {
            "image/png": "[encoded data removed]",
            "text/plain": [
              "<Figure size 432x288 with 1 Axes>"
            ]
          },
          "metadata": {
            "needs_background": "light"
          },
          "output_type": "display_data"
        },
        {
          "data": {
            "image/png": "[encoded data removed]",
            "text/plain": [
              "<Figure size 432x288 with 1 Axes>"
            ]
          },
          "metadata": {
            "needs_background": "light"
          },
          "output_type": "display_data"
        }
      ],
      "source": [
        "# use boxplot to check whether there are outliers\n",
        "boxplot_aus = aus1_2.boxplot();\n",
        "plt.show()\n",
        "boxplot_fra = fra1_2.boxplot();\n",
        "plt.show()\n",
        "boxplot_usa = usa1_2.boxplot();\n",
        "plt.show()"
      ]
    },
    {
      "cell_type": "markdown",
      "metadata": {
        "id": "Cquta3dk7ilc"
      },
      "source": [
        "No outliers found in the dataset.\n",
        "\n",
        "##### **Exploratory Data Analysis**"
      ]
    },
    {
      "cell_type": "code",
      "execution_count": 26,
      "metadata": {
        "colab": {
          "base_uri": "https://localhost:8080/"
        },
        "id": "_hMaMonX_4Qs",
        "outputId": "151eae1e-59d1-43f8-9ab2-e08f97a85c8c"
      },
      "outputs": [
        {
          "name": "stdout",
          "output_type": "stream",
          "text": [
            "Describe aus1_2\n",
            " Indicator Name  Educational attainment, at least completed lower secondary, population 25+, total (%) (cumulative)  \\\n",
            "count                                                   11.000000                                                    \n",
            "mean                                                    92.625624                                                    \n",
            "std                                                      0.940793                                                    \n",
            "min                                                     91.081413                                                    \n",
            "25%                                                     92.033169                                                    \n",
            "50%                                                     92.648857                                                    \n",
            "75%                                                     93.102619                                                    \n",
            "max                                                     94.448936                                                    \n",
            "\n",
            "Indicator Name  Educational attainment, at least completed upper secondary, population 25+, total (%) (cumulative)  \n",
            "count                                                   11.000000                                                   \n",
            "mean                                                    73.394403                                                   \n",
            "std                                                      2.922537                                                   \n",
            "min                                                     68.189781                                                   \n",
            "25%                                                     71.446548                                                   \n",
            "50%                                                     73.595963                                                   \n",
            "75%                                                     75.982807                                                   \n",
            "max                                                     77.261360                                                   \n",
            "\n",
            "Describe fra1_2\n",
            " Indicator Name  Educational attainment, at least completed lower secondary, population 25+, total (%) (cumulative)  \\\n",
            "count                                                   11.000000                                                    \n",
            "mean                                                    80.691797                                                    \n",
            "std                                                      2.532667                                                    \n",
            "min                                                     76.934830                                                    \n",
            "25%                                                     78.595211                                                    \n",
            "50%                                                     80.487663                                                    \n",
            "75%                                                     82.918297                                                    \n",
            "max                                                     84.214798                                                    \n",
            "\n",
            "Indicator Name  Educational attainment, at least completed primary, population 25+ years, total (%) (cumulative)  \\\n",
            "count                                                   11.000000                                                  \n",
            "mean                                                    98.254547                                                  \n",
            "std                                                      0.662859                                                  \n",
            "min                                                     97.522423                                                  \n",
            "25%                                                     97.597469                                                  \n",
            "50%                                                     98.435738                                                  \n",
            "75%                                                     98.658241                                                  \n",
            "max                                                     99.279449                                                  \n",
            "\n",
            "Indicator Name  Educational attainment, at least completed upper secondary, population 25+, total (%) (cumulative)  \n",
            "count                                                   11.000000                                                   \n",
            "mean                                                    64.787044                                                   \n",
            "std                                                      4.132920                                                   \n",
            "min                                                     59.422951                                                   \n",
            "25%                                                     61.159876                                                   \n",
            "50%                                                     63.749722                                                   \n",
            "75%                                                     68.983826                                                   \n",
            "max                                                     70.075493                                                   \n",
            "\n",
            "Describe usa1_2\n",
            " Indicator Name  Educational attainment, at least completed lower secondary, population 25+, total (%) (cumulative)  \\\n",
            "count                                                    9.000000                                                    \n",
            "mean                                                    95.007300                                                    \n",
            "std                                                      0.372323                                                    \n",
            "min                                                     94.485550                                                    \n",
            "25%                                                     94.769501                                                    \n",
            "50%                                                     94.984489                                                    \n",
            "75%                                                     95.263474                                                    \n",
            "max                                                     95.585243                                                    \n",
            "\n",
            "Indicator Name  Educational attainment, at least completed primary, population 25+ years, total (%) (cumulative)  \\\n",
            "count                                                    9.000000                                                  \n",
            "mean                                                    98.753171                                                  \n",
            "std                                                      0.092442                                                  \n",
            "min                                                     98.594177                                                  \n",
            "25%                                                     98.688431                                                  \n",
            "50%                                                     98.773880                                                  \n",
            "75%                                                     98.793411                                                  \n",
            "max                                                     98.877113                                                  \n",
            "\n",
            "Indicator Name  Educational attainment, at least completed upper secondary, population 25+, total (%) (cumulative)  \n",
            "count                                                    9.000000                                                   \n",
            "mean                                                    87.745648                                                   \n",
            "std                                                      0.827844                                                   \n",
            "min                                                     86.614128                                                   \n",
            "25%                                                     87.149406                                                   \n",
            "50%                                                     87.679100                                                   \n",
            "75%                                                     88.313583                                                   \n",
            "max                                                     89.092361                                                   \n"
          ]
        }
      ],
      "source": [
        "print('Describe aus1_2\\n', aus1_2.describe())\n",
        "print('\\nDescribe fra1_2\\n', fra1_2.describe())\n",
        "print('\\nDescribe usa1_2\\n', usa1_2.describe())"
      ]
    },
    {
      "cell_type": "code",
      "execution_count": 27,
      "metadata": {
        "colab": {
          "base_uri": "https://localhost:8080/",
          "height": 803
        },
        "id": "EFfJUIAP9rA8",
        "outputId": "f5d75674-9943-429a-bcf5-d998f821104c"
      },
      "outputs": [
        {
          "data": {
            "image/png": "[encoded data removed]",
            "text/plain": [
              "<Figure size 432x288 with 1 Axes>"
            ]
          },
          "metadata": {
            "needs_background": "light"
          },
          "output_type": "display_data"
        },
        {
          "data": {
            "image/png": "[encoded data removed]",
            "text/plain": [
              "<Figure size 432x288 with 1 Axes>"
            ]
          },
          "metadata": {
            "needs_background": "light"
          },
          "output_type": "display_data"
        },
        {
          "data": {
            "image/png": "[encoded data removed]",
            "text/plain": [
              "<Figure size 432x288 with 1 Axes>"
            ]
          },
          "metadata": {
            "needs_background": "light"
          },
          "output_type": "display_data"
        }
      ],
      "source": [
        "year = list(range(2004, 2019+1)) # create a list of year range\n",
        "# plot a line plot for aus, fra, usa\n",
        "aus_12 = aus1_2.plot(kind='line')\n",
        "fra_12 = fra1_2.plot(kind='line') \n",
        "usa_12 = usa1_2.plot(kind='line')"
      ]
    },
    {
      "cell_type": "markdown",
      "metadata": {
        "id": "aVnPgSHjBpjk"
      },
      "source": [
        "**Question 1.2.1** Are completion rate of primary education, lower secondary education, upper secondary education all increase over time?\n",
        "\n",
        "**Australia**\n",
        "\n",
        "From the describe() outputs and line plots, the sub-indicators for Australia has a significant increase with a fluctuation around 2013. Both sub-indicators decreased around 3% in 2013, but did not reach the minimum values. Since the primary education completion rate must be higher than lower secondary education, it can be concluded that oveall the completion rates has significant increase from 2007 to 2017.\n",
        "\n",
        "**France**\n",
        "\n",
        "It can be found that the primary completion rate for France has a slight decrease from 2007 to 2017, with minimum of 97.52% in 2015 and maximum of 99.27% in 2008. The lower and upper secondary completion rate are both increase about 4% and 5%. Therefore, the completion rate in France is increased.\n",
        "\n",
        "**United States**\n",
        "\n",
        "The primary completion rate for United States is almost a horizontal line with a standard deviation of 0.09, with minimum of 98.59% and maximum of 98.87%. There is a slight increase in lower secondary completion rate and a significant increase in upper secondary rate. The completion for United States increases from 2007 to 2017.\n",
        "\n",
        "**Compare three countries**\n",
        "\n",
        "**Question 1.2.2** Which country has the highest completion rate?\n",
        "\n",
        "In these three countries, United States have relatively higher completion rate compared with Australia and France, especially the upper secondary completion rate.\n",
        "\n",
        "Australia and United States both have higher lower secondary completion rate with a mean value of 92.03% and 95.01%, while France has a mean value of 80.69%."
      ]
    },
    {
      "cell_type": "markdown",
      "metadata": {
        "id": "ttJ9M4UXnJVR"
      },
      "source": [
        "### Target 4.2\n",
        "\n",
        "#### Indicator 4.2.2"
      ]
    },
    {
      "cell_type": "code",
      "execution_count": 28,
      "metadata": {
        "colab": {
          "base_uri": "https://localhost:8080/"
        },
        "id": "_eAf6atBnUwQ",
        "outputId": "960fc02a-6447-41ff-d0f8-efc7db8f75b9"
      },
      "outputs": [
        {
          "name": "stdout",
          "output_type": "stream",
          "text": [
            "             Year       Value\n",
            "count    49.00000   49.000000\n",
            "mean   1995.00000  106.833267\n",
            "std      14.28869    6.135731\n",
            "min    1971.00000   85.972107\n",
            "25%    1983.00000  104.600754\n",
            "50%    1995.00000  107.354248\n",
            "75%    2007.00000  109.940559\n",
            "max    2019.00000  119.663177\n",
            "             Year       Value\n",
            "count    49.00000   49.000000\n",
            "mean   1995.00000  106.542232\n",
            "std      14.28869    6.205848\n",
            "min    1971.00000   86.021408\n",
            "25%    1983.00000  104.723503\n",
            "50%    1995.00000  107.049667\n",
            "75%    2007.00000  109.971710\n",
            "max    2019.00000  118.743813\n",
            "              Year       Value\n",
            "count    40.000000   40.000000\n",
            "mean   1995.550000   91.019692\n",
            "std      15.021267   32.437043\n",
            "min    1971.000000   64.906693\n",
            "25%    1982.750000   71.110769\n",
            "50%    1992.500000   78.078007\n",
            "75%    2008.250000   89.861885\n",
            "max    2020.000000  170.458588\n",
            "              Year       Value\n",
            "count    40.000000   40.000000\n",
            "mean   1995.550000   89.651423\n",
            "std      15.021267   30.379538\n",
            "min    1971.000000   64.174591\n",
            "25%    1982.750000   71.110807\n",
            "50%    1992.500000   76.687313\n",
            "75%    2008.250000   90.773148\n",
            "max    2020.000000  163.338913\n",
            "              Year      Value\n",
            "count    19.000000  19.000000\n",
            "mean   1999.210526  65.817511\n",
            "std      14.257859   6.906628\n",
            "min    1981.000000  53.637589\n",
            "25%    1987.500000  61.451550\n",
            "50%    1995.000000  66.003807\n",
            "75%    2014.500000  71.632446\n",
            "max    2019.000000  73.044998\n",
            "              Year      Value\n",
            "count    19.000000  19.000000\n",
            "mean   1999.210526  64.679901\n",
            "std      14.257859   7.212380\n",
            "min    1981.000000  51.183929\n",
            "25%    1987.500000  59.959650\n",
            "50%    1995.000000  65.399292\n",
            "75%    2014.500000  71.342762\n",
            "max    2019.000000  73.150970\n"
          ]
        }
      ],
      "source": [
        "import numpy as np\n",
        "from sklearn.linear_model import LinearRegression\n",
        "from sklearn.metrics import mean_squared_error\n",
        "from sklearn.model_selection import train_test_split\n",
        "from sklearn.preprocessing import MinMaxScaler\n",
        "\n",
        "#filter the data and leave \"pre-primary\" related\n",
        "df_fra_m = fra[fra['Indicator Name'] == 'School enrollment, preprimary, male (% gross)'];\n",
        "df_fra_f = fra[fra['Indicator Name'] == 'School enrollment, preprimary, female (% gross)'];\n",
        "\n",
        "df_aus_m = aus[aus['Indicator Name'] == 'School enrollment, preprimary, male (% gross)'];\n",
        "df_aus_f = aus[aus['Indicator Name'] == 'School enrollment, preprimary, female (% gross)'];\n",
        "\n",
        "df_usa_m = usa[usa['Indicator Name'] == 'School enrollment, preprimary, male (% gross)'];\n",
        "df_usa_f = usa[usa['Indicator Name'] == 'School enrollment, preprimary, female (% gross)'];\n",
        "\n",
        "print(df_fra_m.describe());\n",
        "print(df_fra_f.describe());\n",
        "print(df_aus_m.describe());\n",
        "print(df_aus_f.describe());\n",
        "print(df_usa_m.describe());\n",
        "print(df_usa_f.describe());"
      ]
    },
    {
      "cell_type": "markdown",
      "metadata": {
        "id": "nUEPiXiJnv5w"
      },
      "source": [
        "According to the definition of percentage, noisy data would be data whose value is greater than 100 or smaller than 0. Some data from Australia and France is greater than 100, and they kept growing greater. However, simply replacing them with any value is not a good choice. In this case, we decide to normalize the data to min - 100, in order to better visualize their tendency without dropping any values."
      ]
    },
    {
      "cell_type": "code",
      "execution_count": 29,
      "metadata": {
        "colab": {
          "base_uri": "https://localhost:8080/"
        },
        "id": "XZLhSUGynwGw",
        "outputId": "d3497d1a-00e1-48ac-8076-3db863924508"
      },
      "outputs": [
        {
          "name": "stderr",
          "output_type": "stream",
          "text": [
            "/usr/local/lib/python3.7/dist-packages/ipykernel_launcher.py:2: SettingWithCopyWarning: \n",
            "A value is trying to be set on a copy of a slice from a DataFrame.\n",
            "Try using .loc[row_indexer,col_indexer] = value instead\n",
            "\n",
            "See the caveats in the documentation: https://pandas.pydata.org/pandas-docs/stable/user_guide/indexing.html#returning-a-view-versus-a-copy\n",
            "  \n",
            "/usr/local/lib/python3.7/dist-packages/ipykernel_launcher.py:4: SettingWithCopyWarning: \n",
            "A value is trying to be set on a copy of a slice from a DataFrame.\n",
            "Try using .loc[row_indexer,col_indexer] = value instead\n",
            "\n",
            "See the caveats in the documentation: https://pandas.pydata.org/pandas-docs/stable/user_guide/indexing.html#returning-a-view-versus-a-copy\n",
            "  after removing the cwd from sys.path.\n",
            "/usr/local/lib/python3.7/dist-packages/ipykernel_launcher.py:7: SettingWithCopyWarning: \n",
            "A value is trying to be set on a copy of a slice from a DataFrame.\n",
            "Try using .loc[row_indexer,col_indexer] = value instead\n",
            "\n",
            "See the caveats in the documentation: https://pandas.pydata.org/pandas-docs/stable/user_guide/indexing.html#returning-a-view-versus-a-copy\n",
            "  import sys\n",
            "/usr/local/lib/python3.7/dist-packages/ipykernel_launcher.py:9: SettingWithCopyWarning: \n",
            "A value is trying to be set on a copy of a slice from a DataFrame.\n",
            "Try using .loc[row_indexer,col_indexer] = value instead\n",
            "\n",
            "See the caveats in the documentation: https://pandas.pydata.org/pandas-docs/stable/user_guide/indexing.html#returning-a-view-versus-a-copy\n",
            "  if __name__ == '__main__':\n"
          ]
        }
      ],
      "source": [
        "scaler_fra_m = MinMaxScaler(feature_range=(df_fra_m['Value'].min(),100));\n",
        "df_fra_m['Value'] = scaler_fra_m.fit_transform(np.array(df_fra_m['Value']).reshape(-1,1));\n",
        "scaler_fra_f = MinMaxScaler(feature_range=(df_fra_f['Value'].min(),100));\n",
        "df_fra_f['Value'] = scaler_fra_f.fit_transform(np.array(df_fra_f['Value']).reshape(-1,1));\n",
        "\n",
        "scaler_aus_m = MinMaxScaler(feature_range=(df_aus_m['Value'].min(),100));\n",
        "df_aus_m['Value'] = scaler_aus_m.fit_transform(np.array(df_aus_m['Value']).reshape(-1,1));\n",
        "scaler_aus_f = MinMaxScaler(feature_range=(df_aus_f['Value'].min(),100));\n",
        "df_aus_f['Value'] = scaler_aus_f.fit_transform(np.array(df_aus_f['Value']).reshape(-1,1));\n",
        "\n",
        "#df_usa_m['Value'] = scaler.fit_transform(np.array(df_usa_m['Value']).reshape(-1,1));\n",
        "#df_usa_f['Value'] = scaler.fit_transform(np.array(df_usa_f['Value']).reshape(-1,1));"
      ]
    },
    {
      "cell_type": "markdown",
      "metadata": {
        "id": "aWLsXJ6enwNA"
      },
      "source": [
        "As we can see from the information above, the count of value in each dataset is not equal. Normally, the number of rows should be 50 in total (2020 minus 1970).That is to say, no matter in the dataset of primary enrollment, secondary enrollment and tertiary enrollment, there is data missing, which is the \"years\" column.\n",
        "\n",
        "Thus, in order to eliminate the impact of missing data to our prediction and analysis on the dataset, it is better to preprocess the data first.\n",
        "\n",
        "After consideration, it is not appropriate to simply replace the missing value with either average or median. In this case, we decide to use the interpolate() function to fill the missing values, which can calculate and select the most suitable value according to the linear interpolation."
      ]
    },
    {
      "cell_type": "code",
      "execution_count": 30,
      "metadata": {
        "id": "RJzjnEh5nwTL"
      },
      "outputs": [],
      "source": [
        "#first, we need a new dataframe containing the years from 1970 to 2020.\n",
        "df_years = pd.DataFrame({\"Year\": list(range(1970, 2021))});\n",
        "df_fra_m = df_fra_m[[\"Year\", \"Value\"]];\n",
        "df_fra_f = df_fra_f[[\"Year\", \"Value\"]];\n",
        "#then, merge these two datasets\n",
        "df_fra_m_full = pd.merge(df_years, df_fra_m, how=\"left\", on=\"Year\");\n",
        "df_fra_m_full = df_fra_m_full.interpolate(limit_direction=\"both\", method=\"linear\");\n",
        "df_fra_f_full = pd.merge(df_years, df_fra_f, how=\"left\", on=\"Year\");\n",
        "df_fra_f_full = df_fra_f_full.interpolate(limit_direction=\"both\", method=\"linear\");\n",
        "\n",
        "df_years = pd.DataFrame({\"Year\": list(range(1970, 2021))});\n",
        "df_aus_m = df_aus_m[[\"Year\", \"Value\"]];\n",
        "df_aus_f = df_aus_f[[\"Year\", \"Value\"]];\n",
        "#then, merge these two datasets\n",
        "df_aus_m_full = pd.merge(df_years, df_aus_m, how=\"left\", on=\"Year\");\n",
        "df_aus_m_full = df_aus_m_full.interpolate(limit_direction=\"both\", method=\"linear\");\n",
        "df_aus_f_full = pd.merge(df_years, df_aus_f, how=\"left\", on=\"Year\");\n",
        "df_aus_f_full = df_aus_f_full.interpolate(limit_direction=\"both\", method=\"linear\");\n",
        "\n",
        "df_years = pd.DataFrame({\"Year\": list(range(1970, 2021))});\n",
        "df_usa_m = df_usa_m[[\"Year\", \"Value\"]];\n",
        "df_usa_f = df_usa_f[[\"Year\", \"Value\"]];\n",
        "#then, merge these two datasets\n",
        "df_usa_m_full = pd.merge(df_years, df_usa_m, how=\"left\", on=\"Year\");\n",
        "df_usa_m_full = df_usa_m_full.interpolate(limit_direction=\"both\", method=\"linear\");\n",
        "df_usa_f_full = pd.merge(df_years, df_usa_f, how=\"left\", on=\"Year\");\n",
        "df_usa_f_full = df_usa_f_full.interpolate(limit_direction=\"both\", method=\"linear\");"
      ]
    },
    {
      "cell_type": "markdown",
      "metadata": {
        "id": "6zDsOow5n5ny"
      },
      "source": [
        "**Question 2.1** By 2020, what is the trend of the participation rate that all boys and girls have access to pre-primary education in France, Australia, and the United States(USA)? Which country has the higher participation rate overall?\n",
        "\n",
        "\n",
        "After these data pre-processing and data cleaning, now, all the dataset are clean and ready to do the data processing.\n",
        "\n",
        "In the following graph, we will use EDA to display the tertiary school enrolment proportion before 2020.\n",
        "\n",
        "Let's start with France."
      ]
    },
    {
      "cell_type": "code",
      "execution_count": 31,
      "metadata": {
        "colab": {
          "base_uri": "https://localhost:8080/",
          "height": 281
        },
        "id": "8Mw9RTNNn5ul",
        "outputId": "6305c179-9493-4add-f9dd-b10935f04eac"
      },
      "outputs": [
        {
          "data": {
            "image/png": "[encoded data removed]",
            "text/plain": [
              "<Figure size 432x288 with 1 Axes>"
            ]
          },
          "metadata": {
            "needs_background": "light"
          },
          "output_type": "display_data"
        }
      ],
      "source": [
        "plt.plot(df_fra_m_full['Year'], df_fra_m_full['Value'], 'red', label='Male');\n",
        "plt.plot(df_fra_f_full['Year'], df_fra_f_full['Value'], 'blue', label='Female');\n",
        "plt.xlabel='Year';\n",
        "plt.title('Pre-primary School enrolment proportion by sex in France');\n",
        "plt.legend();\n",
        "plt.show();"
      ]
    },
    {
      "cell_type": "markdown",
      "metadata": {
        "id": "o5H5icBIn50Y"
      },
      "source": [
        "As we can see from the graph that, both Male and female pre-primary school enrolment proportion in France is always almost the same, they were around 86% at the beginning, and increased dramatically in the next 50 years. They all reached nearly 100% in 2020."
      ]
    },
    {
      "cell_type": "code",
      "execution_count": 32,
      "metadata": {
        "colab": {
          "base_uri": "https://localhost:8080/",
          "height": 281
        },
        "id": "pZWsXdC3n56p",
        "outputId": "9da7d1fc-0ede-4434-d801-3c5d7135e3fb"
      },
      "outputs": [
        {
          "data": {
            "image/png": "[encoded data removed]",
            "text/plain": [
              "<Figure size 432x288 with 1 Axes>"
            ]
          },
          "metadata": {
            "needs_background": "light"
          },
          "output_type": "display_data"
        }
      ],
      "source": [
        "plt.plot(df_aus_m_full['Year'], df_aus_m_full['Value'], 'red', label='Male');\n",
        "plt.plot(df_aus_f_full['Year'], df_aus_f_full['Value'], 'blue', label='Female');\n",
        "plt.xlabel='Year';\n",
        "plt.title('Pre-primary School enrolment proportion by sex in Australia');\n",
        "plt.legend();\n",
        "plt.show();"
      ]
    },
    {
      "cell_type": "markdown",
      "metadata": {
        "id": "FWbcyWPxoTQr"
      },
      "source": [
        "According to the graph, it can be seen that both male and female pre-primary enrolment proportion increased in these 50 years. At the beginning of 1970, both females and males were around 67%, and they all reached the highest point at 100% in 2015."
      ]
    },
    {
      "cell_type": "code",
      "execution_count": 33,
      "metadata": {
        "colab": {
          "base_uri": "https://localhost:8080/",
          "height": 281
        },
        "id": "NSbrAUC7oTWq",
        "outputId": "1d680559-03d2-4b20-984e-4a9be0f37ff1"
      },
      "outputs": [
        {
          "data": {
            "image/png": "[encoded data removed]",
            "text/plain": [
              "<Figure size 432x288 with 1 Axes>"
            ]
          },
          "metadata": {
            "needs_background": "light"
          },
          "output_type": "display_data"
        }
      ],
      "source": [
        "plt.plot(df_usa_m_full['Year'], df_usa_m_full['Value'], 'red', label='Male');\n",
        "plt.plot(df_usa_f_full['Year'], df_usa_f_full['Value'], 'blue', label='Female');\n",
        "plt.xlabel='Year';\n",
        "plt.title('Pre-primary School enrolment proportion by sex in USA');\n",
        "plt.legend();\n",
        "plt.show();"
      ]
    },
    {
      "cell_type": "markdown",
      "metadata": {
        "id": "PbXSRVB5oTcq"
      },
      "source": [
        "Based on the above graph, it can be seen that both male and female pre-primary school enrolment rate grew rapidly between 1970 and 2020.\n",
        "\n",
        "In addition, both female and male rate reached the maximum point which was around 73%. Before 1982, the percentage of male was higher than the percentage of female, which were around 53% and 51% respectively. Also, it can be seen that the percentage difference between male and female were getiing smaller since 2011."
      ]
    },
    {
      "cell_type": "markdown",
      "metadata": {
        "id": "xSJKfHv9oZ7Y"
      },
      "source": [
        "### Target 4.3\n",
        "\n",
        "#### Indicator 4.3.1"
      ]
    },
    {
      "cell_type": "code",
      "execution_count": 34,
      "metadata": {
        "colab": {
          "base_uri": "https://localhost:8080/"
        },
        "id": "WiMMjmpfoTjT",
        "outputId": "8c55b6b9-1088-464c-a6b2-c429a8600c24"
      },
      "outputs": [
        {
          "name": "stdout",
          "output_type": "stream",
          "text": [
            "              Year      Value\n",
            "count    39.000000  39.000000\n",
            "mean   1999.846154  43.638352\n",
            "std      11.656348  10.232584\n",
            "min    1979.000000  24.785139\n",
            "25%    1990.500000  35.514109\n",
            "50%    2000.000000  46.399212\n",
            "75%    2009.500000  48.471445\n",
            "max    2019.000000  60.872089\n",
            "              Year      Value\n",
            "count    39.000000  39.000000\n",
            "mean   1999.846154  52.617875\n",
            "std      11.656348  15.355789\n",
            "min    1979.000000  23.482210\n",
            "25%    1990.500000  40.906839\n",
            "50%    2000.000000  57.947250\n",
            "75%    2009.500000  60.754675\n",
            "max    2019.000000  76.194908\n",
            "              Year       Value\n",
            "count    34.000000   34.000000\n",
            "mean   1989.500000   46.368222\n",
            "std      15.132245   28.113390\n",
            "min    1970.000000   20.908260\n",
            "25%    1978.250000   27.304852\n",
            "50%    1986.500000   29.409585\n",
            "75%    1994.750000   68.534945\n",
            "max    2020.000000  100.036491\n",
            "              Year       Value\n",
            "count    34.000000   34.000000\n",
            "mean   1989.500000   51.357854\n",
            "std      15.132245   43.542400\n",
            "min    1970.000000   10.537780\n",
            "25%    1978.250000   22.266846\n",
            "50%    1986.500000   29.796650\n",
            "75%    1994.750000   71.036558\n",
            "max    2020.000000  143.023529\n",
            "              Year      Value\n",
            "count    35.000000  35.000000\n",
            "mean   1991.228571  62.006400\n",
            "std      14.984474   8.486043\n",
            "min    1971.000000  51.725109\n",
            "25%    1979.500000  54.661400\n",
            "50%    1988.000000  59.375500\n",
            "75%    1998.500000  69.318184\n",
            "max    2019.000000  76.062271\n",
            "              Year       Value\n",
            "count    35.000000   35.000000\n",
            "mean   1991.228571   73.079966\n",
            "std      14.984474   21.442024\n",
            "min    1971.000000   38.703758\n",
            "25%    1979.500000   54.483610\n",
            "50%    1988.000000   71.972137\n",
            "75%    1998.500000   89.546589\n",
            "max    2019.000000  103.112610\n"
          ]
        }
      ],
      "source": [
        "df_fra_m = fra[fra['Indicator Name'] == 'School enrollment, tertiary, male (% gross)'];\n",
        "df_fra_f = fra[fra['Indicator Name'] == 'School enrollment, tertiary, female (% gross)'];\n",
        "df_aus_m = aus[aus['Indicator Name'] == 'School enrollment, tertiary, male (% gross)'];\n",
        "df_aus_f = aus[aus['Indicator Name'] == 'School enrollment, tertiary, female (% gross)'];\n",
        "df_usa_m = usa[usa['Indicator Name'] == 'School enrollment, tertiary, male (% gross)'];\n",
        "df_usa_f = usa[usa['Indicator Name'] == 'School enrollment, tertiary, female (% gross)'];\n",
        "\n",
        "#check the count of each dataset, in order to check if there is missing value.\n",
        "print(df_fra_m.describe())\n",
        "print(df_fra_f.describe())\n",
        "print(df_aus_m.describe())\n",
        "print(df_aus_f.describe())\n",
        "print(df_usa_m.describe())\n",
        "print(df_usa_f.describe())"
      ]
    },
    {
      "cell_type": "markdown",
      "metadata": {
        "id": "JUDeKqcrowBk"
      },
      "source": [
        "According to the definition of percentage, noisy data would be data whose value is greater than 100 or smaller than 0. Some data from Australia and USA is greater than 100, and they kept growing greater. However, simply replacing them with any value is not a good choice. In this case, it is betetr to normalize the data to min - 100, in order to better visualize their tendency without dropping any values."
      ]
    },
    {
      "cell_type": "code",
      "execution_count": 35,
      "metadata": {
        "colab": {
          "base_uri": "https://localhost:8080/"
        },
        "id": "RNHzGtGOowH9",
        "outputId": "08659b51-0cc4-47be-e63d-9486ccbbac9b"
      },
      "outputs": [
        {
          "name": "stderr",
          "output_type": "stream",
          "text": [
            "/usr/local/lib/python3.7/dist-packages/ipykernel_launcher.py:2: SettingWithCopyWarning: \n",
            "A value is trying to be set on a copy of a slice from a DataFrame.\n",
            "Try using .loc[row_indexer,col_indexer] = value instead\n",
            "\n",
            "See the caveats in the documentation: https://pandas.pydata.org/pandas-docs/stable/user_guide/indexing.html#returning-a-view-versus-a-copy\n",
            "  \n",
            "/usr/local/lib/python3.7/dist-packages/ipykernel_launcher.py:4: SettingWithCopyWarning: \n",
            "A value is trying to be set on a copy of a slice from a DataFrame.\n",
            "Try using .loc[row_indexer,col_indexer] = value instead\n",
            "\n",
            "See the caveats in the documentation: https://pandas.pydata.org/pandas-docs/stable/user_guide/indexing.html#returning-a-view-versus-a-copy\n",
            "  after removing the cwd from sys.path.\n",
            "/usr/local/lib/python3.7/dist-packages/ipykernel_launcher.py:7: SettingWithCopyWarning: \n",
            "A value is trying to be set on a copy of a slice from a DataFrame.\n",
            "Try using .loc[row_indexer,col_indexer] = value instead\n",
            "\n",
            "See the caveats in the documentation: https://pandas.pydata.org/pandas-docs/stable/user_guide/indexing.html#returning-a-view-versus-a-copy\n",
            "  import sys\n"
          ]
        }
      ],
      "source": [
        "scaler_aus_m = MinMaxScaler(feature_range=(df_aus_m['Value'].min(),100));\n",
        "df_aus_m['Value'] = scaler_aus_m.fit_transform(np.array(df_aus_m['Value']).reshape(-1,1));\n",
        "scaler_aus_f = MinMaxScaler(feature_range=(df_aus_f['Value'].min(),100));\n",
        "df_aus_f['Value'] = scaler_aus_f.fit_transform(np.array(df_aus_f['Value']).reshape(-1,1));\n",
        "\n",
        "scaler_usa_f = MinMaxScaler(feature_range=(df_usa_f['Value'].min(),100));\n",
        "df_usa_f['Value'] = scaler_usa_f.fit_transform(np.array(df_usa_f['Value']).reshape(-1,1));"
      ]
    },
    {
      "cell_type": "markdown",
      "metadata": {
        "id": "bXK3yeeuowN5"
      },
      "source": [
        "As we can see from the information above, the count of value in each dataset is not equal. Normally, the number of rows should be 50 in total (2020 minus 1970). That is to say, no matter in the dataset of Australia, France and the USA, there is data missing, which is the \"years\" column.\n",
        "\n",
        "Thus, in order to eliminate the impact of missing data on our prediction and analysis of the dataset, it is better to preprocess the data first.\n",
        "\n",
        "After consideration, it is not appropriate to simply replace the missing value with either average or median. In this case, we decide to use the interpolate() function to fill the missing values, which can calculate and select the most suitable value according to the linear interpolation."
      ]
    },
    {
      "cell_type": "code",
      "execution_count": 36,
      "metadata": {
        "id": "KRqZXt8aowT6"
      },
      "outputs": [],
      "source": [
        "#first, we need a new dataframe containing the years from 1970 to 2020.\n",
        "df_years = pd.DataFrame({\"Year\": list(range(1970, 2021))});\n",
        "df_fra_m = df_fra_m[[\"Year\", \"Value\"]];\n",
        "df_fra_f = df_fra_f[[\"Year\", \"Value\"]];\n",
        "#then, merge these two datasets\n",
        "df_fra_m_full = pd.merge(df_years, df_fra_m, how=\"left\", on=\"Year\");\n",
        "df_fra_m_full = df_fra_m_full.interpolate(limit_direction=\"both\", method=\"linear\");\n",
        "df_fra_f_full = pd.merge(df_years, df_fra_f, how=\"left\", on=\"Year\");\n",
        "df_fra_f_full = df_fra_f_full.interpolate(limit_direction=\"both\", method=\"linear\");\n",
        "\n",
        "df_years = pd.DataFrame({\"Year\": list(range(1970, 2021))});\n",
        "df_aus_m = df_aus_m[[\"Year\", \"Value\"]];\n",
        "df_aus_f = df_aus_f[[\"Year\", \"Value\"]];\n",
        "#then, merge these two datasets\n",
        "df_aus_m_full = pd.merge(df_years, df_aus_m, how=\"left\", on=\"Year\");\n",
        "df_aus_m_full = df_aus_m_full.interpolate(limit_direction=\"both\", method=\"linear\");\n",
        "df_aus_f_full = pd.merge(df_years, df_aus_f, how=\"left\", on=\"Year\");\n",
        "df_aus_f_full = df_aus_f_full.interpolate(limit_direction=\"both\", method=\"linear\");\n",
        "\n",
        "df_years = pd.DataFrame({\"Year\": list(range(1970, 2021))});\n",
        "df_usa_m = df_usa_m[[\"Year\", \"Value\"]];\n",
        "df_usa_f = df_usa_f[[\"Year\", \"Value\"]];\n",
        "#then, merge these two datasets\n",
        "df_usa_m_full = pd.merge(df_years, df_usa_m, how=\"left\", on=\"Year\");\n",
        "df_usa_m_full = df_usa_m_full.interpolate(limit_direction=\"both\", method=\"linear\");\n",
        "df_usa_f_full = pd.merge(df_years, df_usa_f, how=\"left\", on=\"Year\");\n",
        "df_usa_f_full = df_usa_f_full.interpolate(limit_direction=\"both\", method=\"linear\");"
      ]
    },
    {
      "cell_type": "markdown",
      "metadata": {
        "id": "F2VEAhSEoTo9"
      },
      "source": [
        "**Question 3.1** Have France, Australia, and the USA ensured equal access for all women and men in terms of tertiary education before 2020?\n",
        "\n",
        "All the datasets are cleaned now after doing data pre-processing and data cleaning. The next step is to do the data processing.\n",
        "\n",
        "In the following graph, we use EDA to display the tertiary school enrolment proportion before 2020.\n",
        "\n",
        "Let's start with France."
      ]
    },
    {
      "cell_type": "code",
      "execution_count": 37,
      "metadata": {
        "colab": {
          "base_uri": "https://localhost:8080/",
          "height": 281
        },
        "id": "2yVmyOUGoTuv",
        "outputId": "5bce9a5a-2195-45f6-8979-b4dcd5810c8d"
      },
      "outputs": [
        {
          "data": {
            "image/png": "[encoded data removed]",
            "text/plain": [
              "<Figure size 432x288 with 1 Axes>"
            ]
          },
          "metadata": {
            "needs_background": "light"
          },
          "output_type": "display_data"
        }
      ],
      "source": [
        "plt.plot(df_fra_m_full['Year'], df_fra_m_full['Value'], 'red', label='Male');\n",
        "plt.plot(df_fra_f_full['Year'], df_fra_f_full['Value'], 'blue', label='Female');\n",
        "plt.xlabel='Year';\n",
        "plt.title('Tertiary School enrolment proportion by sex in France');\n",
        "plt.legend();\n",
        "plt.show();"
      ]
    },
    {
      "cell_type": "markdown",
      "metadata": {
        "id": "F7DzIIqPpR1c"
      },
      "source": [
        "Based on the above graph, it can be found that both male and female tertiary school enrollment proportion grew rapidly from 1970 till 2020. And both female and male reached their highest point around 76% and 60% respectively. At the beginning of 1970, there were more male enrolled in tertiary school than female. However, after around 1984, the proportion of female enrolment in tertiary school was greater than male, thus the disparity between them was getting greater.\n",
        "\n",
        "Now, let's look at the Australia dataset."
      ]
    },
    {
      "cell_type": "code",
      "execution_count": 38,
      "metadata": {
        "colab": {
          "base_uri": "https://localhost:8080/",
          "height": 281
        },
        "id": "vihMn8B1pR7t",
        "outputId": "8399989e-1a86-4eb3-a8a7-aa8160d233df"
      },
      "outputs": [
        {
          "data": {
            "image/png": "[encoded data removed]",
            "text/plain": [
              "<Figure size 432x288 with 1 Axes>"
            ]
          },
          "metadata": {
            "needs_background": "light"
          },
          "output_type": "display_data"
        }
      ],
      "source": [
        "plt.plot(df_aus_m_full['Year'], df_aus_m_full['Value'], 'red', label='Male');\n",
        "plt.plot(df_aus_f_full['Year'], df_aus_f_full['Value'], 'blue', label='Female');\n",
        "plt.xlabel='Year';\n",
        "plt.title('Tertiary School enrolment proportion by sex in Australia');\n",
        "plt.legend();\n",
        "plt.show();"
      ]
    },
    {
      "cell_type": "markdown",
      "metadata": {
        "id": "FtF1CbLRpSAs"
      },
      "source": [
        "Based on the above graph, it can be seen that the situation happened in Australia was similar to what happened in France, both of them grew rapidly between 1970 and 2020. At the beginning of 1970, male has more enrolment proportion than female. After around 1988, the proportion of female enrolment in tertiary school was greater than male. However, the difference between them was not significant in Australia, compared with France.\n",
        "\n",
        "Now, let's look at the USA."
      ]
    },
    {
      "cell_type": "code",
      "execution_count": 39,
      "metadata": {
        "colab": {
          "base_uri": "https://localhost:8080/",
          "height": 281
        },
        "id": "m-qpj7rEpSHD",
        "outputId": "a8b5e68d-0980-4641-e521-abc914d66407"
      },
      "outputs": [
        {
          "data": {
            "image/png": "[encoded data removed]",
            "text/plain": [
              "<Figure size 432x288 with 1 Axes>"
            ]
          },
          "metadata": {
            "needs_background": "light"
          },
          "output_type": "display_data"
        }
      ],
      "source": [
        "plt.plot(df_usa_m_full['Year'], df_usa_m_full['Value'], 'red', label='Male');\n",
        "plt.plot(df_usa_f_full['Year'], df_usa_f_full['Value'], 'blue', label='Female');\n",
        "plt.xlabel='Year';\n",
        "plt.title('Tertiary School enrolment proportion by sex in USA');\n",
        "plt.legend();\n",
        "plt.show();"
      ]
    },
    {
      "cell_type": "markdown",
      "metadata": {
        "id": "5-LwR99ApSN0"
      },
      "source": [
        "Accrording to the graph, the situation that happened in the USA was similar to others as well. The only difference is that the disparity between male and female was much greater than other countries, which reached around 20%."
      ]
    },
    {
      "cell_type": "markdown",
      "metadata": {
        "id": "U_4r5NDBoT0y"
      },
      "source": [
        "### Target 4.4\n",
        "\n",
        "#### Indicator 4.4.1"
      ]
    },
    {
      "cell_type": "code",
      "execution_count": 40,
      "metadata": {
        "colab": {
          "base_uri": "https://localhost:8080/"
        },
        "id": "sPC8ELMloT7K",
        "outputId": "ff169a51-b513-4728-fc32-48fb9e80ee23"
      },
      "outputs": [
        {
          "name": "stderr",
          "output_type": "stream",
          "text": [
            "/usr/local/lib/python3.7/dist-packages/ipykernel_launcher.py:2: UserWarning: Boolean Series key will be reindexed to match DataFrame index.\n",
            "  \n",
            "/usr/local/lib/python3.7/dist-packages/ipykernel_launcher.py:3: UserWarning: Boolean Series key will be reindexed to match DataFrame index.\n",
            "  This is separate from the ipykernel package so we can avoid doing imports until\n",
            "/usr/local/lib/python3.7/dist-packages/ipykernel_launcher.py:5: UserWarning: Boolean Series key will be reindexed to match DataFrame index.\n",
            "  \"\"\"\n",
            "/usr/local/lib/python3.7/dist-packages/ipykernel_launcher.py:6: UserWarning: Boolean Series key will be reindexed to match DataFrame index.\n",
            "  \n",
            "/usr/local/lib/python3.7/dist-packages/ipykernel_launcher.py:8: UserWarning: Boolean Series key will be reindexed to match DataFrame index.\n",
            "  \n",
            "/usr/local/lib/python3.7/dist-packages/ipykernel_launcher.py:9: UserWarning: Boolean Series key will be reindexed to match DataFrame index.\n",
            "  if __name__ == '__main__':\n"
          ]
        },
        {
          "name": "stdout",
          "output_type": "stream",
          "text": [
            "              Year      Value\n",
            "count    14.000000  14.000000\n",
            "mean   2009.071429   7.598266\n",
            "std       5.690265   1.839399\n",
            "min    2000.000000   5.773750\n",
            "25%    2004.500000   6.386265\n",
            "50%    2008.500000   7.147215\n",
            "75%    2013.750000   7.980612\n",
            "max    2018.000000  12.371050\n",
            "              Year      Value\n",
            "count    14.000000  14.000000\n",
            "mean   2009.071429   8.127274\n",
            "std       5.690265   0.653739\n",
            "min    2000.000000   7.379630\n",
            "25%    2004.500000   7.629340\n",
            "50%    2008.500000   7.915305\n",
            "75%    2013.750000   8.617503\n",
            "max    2018.000000   9.407510\n",
            "              Year      Value\n",
            "count    15.000000  15.000000\n",
            "mean   2008.466667   5.233149\n",
            "std       6.081197   0.885365\n",
            "min    1999.000000   4.242660\n",
            "25%    2004.000000   4.661720\n",
            "50%    2008.000000   4.964640\n",
            "75%    2013.500000   5.560380\n",
            "max    2018.000000   7.251980\n",
            "              Year      Value\n",
            "count    15.000000  15.000000\n",
            "mean   2008.466667   6.427329\n",
            "std       6.081197   0.520842\n",
            "min    1999.000000   5.618860\n",
            "25%    2004.000000   6.000990\n",
            "50%    2008.000000   6.370840\n",
            "75%    2013.500000   6.790500\n",
            "max    2018.000000   7.388500\n",
            "             Year      Value\n",
            "count    16.00000  16.000000\n",
            "mean   2008.00000   5.611412\n",
            "std       5.46504   0.618691\n",
            "min    1999.00000   5.079110\n",
            "25%    2004.25000   5.300693\n",
            "50%    2008.50000   5.411360\n",
            "75%    2012.25000   5.525060\n",
            "max    2016.00000   7.209200\n",
            "             Year      Value\n",
            "count    16.00000  16.000000\n",
            "mean   2008.00000  13.499482\n",
            "std       5.46504   0.931608\n",
            "min    1999.00000  12.017570\n",
            "25%    2004.25000  12.888290\n",
            "50%    2008.50000  13.703940\n",
            "75%    2012.25000  14.108773\n",
            "max    2016.00000  14.729150\n"
          ]
        }
      ],
      "source": [
        "#filter the data and leave \"pre-primary\" related\n",
        "df_fra_m = fra[df_fra['Indicator Name'] == 'Percentage of graduates from tertiary education graduating from Natural Sciences, Mathematics and Statistics programmes, both sexes (%)'];\n",
        "df_fra_i = fra[df_fra['Indicator Name'] == 'Percentage of graduates from tertiary education graduating from Social Sciences, Journalism and Information programmes, both sexes (%)'];\n",
        "\n",
        "df_aus_m = aus[df_aus['Indicator Name'] == 'Percentage of graduates from tertiary education graduating from Natural Sciences, Mathematics and Statistics programmes, both sexes (%)'];\n",
        "df_aus_i = aus[df_aus['Indicator Name'] == 'Percentage of graduates from tertiary education graduating from Social Sciences, Journalism and Information programmes, both sexes (%)'];\n",
        "\n",
        "df_usa_m = usa[df_usa['Indicator Name'] == 'Percentage of graduates from tertiary education graduating from Natural Sciences, Mathematics and Statistics programmes, both sexes (%)'];\n",
        "df_usa_i = usa[df_usa['Indicator Name'] == 'Percentage of graduates from tertiary education graduating from Social Sciences, Journalism and Information programmes, both sexes (%)'];\n",
        "\n",
        "print(df_fra_m.describe());\n",
        "print(df_fra_i.describe());\n",
        "print(df_aus_m.describe());\n",
        "print(df_aus_i.describe());\n",
        "print(df_usa_m.describe());\n",
        "print(df_usa_i.describe());"
      ]
    },
    {
      "cell_type": "markdown",
      "metadata": {
        "id": "cilbWaM1pc8f"
      },
      "source": [
        "As we can see from the tables above, France started having the percentage of graduates from information and science fields from 2000, but it shows that there are only 14 rows in the dataset, that is to say, there are some years missing in the dataset. Australia started having that percentage from 1999, but there are only 15 rows in the dataset, so, same situation happens on Australia dataset. And so does USA dataset.\n",
        "\n",
        "Therefore, in order to get rid of the impact of missing data to our prediction and analysis on the dataset, we should preprocess the data first.\n",
        "\n",
        "After consideration, it is not suitable simply replace the missing value with either average or median. We decide to use the interpolate() function to fill the missing values, which can calculate and select the most suitable value according to the linear interpolation."
      ]
    },
    {
      "cell_type": "code",
      "execution_count": 41,
      "metadata": {
        "colab": {
          "base_uri": "https://localhost:8080/"
        },
        "id": "9KZxmHQcpdBa",
        "outputId": "db1bf946-18c6-4bf6-b740-3779a395578f"
      },
      "outputs": [
        {
          "name": "stdout",
          "output_type": "stream",
          "text": [
            "    Year     Value\n",
            "0   1999  7.251980\n",
            "1   2000  6.726540\n",
            "2   2001  5.734630\n",
            "3   2002  4.742720\n",
            "4   2003  4.964640\n",
            "5   2004  5.028810\n",
            "6   2005  5.092980\n",
            "7   2006  5.034710\n",
            "8   2007  4.929410\n",
            "9   2008  4.805470\n",
            "10  2009  4.484360\n",
            "11  2010  4.363510\n",
            "12  2011  4.242660\n",
            "13  2012  4.363735\n",
            "14  2013  4.484810\n",
            "15  2014  4.580720\n",
            "16  2015  6.131410\n",
            "17  2016  6.079595\n",
            "18  2017  6.027780\n",
            "19  2018  4.997040\n"
          ]
        }
      ],
      "source": [
        "#first, we need a new dataframe containing the years from 1970 to 2020.\n",
        "df_years_fra = pd.DataFrame({\"Year\": list(range(2000, 2019))});\n",
        "df_fra_m = df_fra_m[[\"Year\", \"Value\"]];\n",
        "df_fra_i = df_fra_i[[\"Year\", \"Value\"]];\n",
        "#then, merge these two datasets\n",
        "df_fra_m_full = pd.merge(df_years_fra, df_fra_m, how=\"left\", on=\"Year\");\n",
        "df_fra_m_full = df_fra_m_full.interpolate(limit_direction=\"both\", method=\"linear\");\n",
        "df_fra_i_full = pd.merge(df_years_fra, df_fra_i, how=\"left\", on=\"Year\");\n",
        "df_fra_i_full = df_fra_i_full.interpolate(limit_direction=\"both\", method=\"linear\");\n",
        "\n",
        "df_years_aus = pd.DataFrame({\"Year\": list(range(1999, 2019))});\n",
        "df_aus_m = df_aus_m[[\"Year\", \"Value\"]];\n",
        "df_aus_i = df_aus_i[[\"Year\", \"Value\"]];\n",
        "\n",
        "#then, merge these two datasets\n",
        "df_aus_m_full = pd.merge(df_years_aus, df_aus_m, how=\"left\", on=\"Year\");\n",
        "\n",
        "df_aus_m_full = df_aus_m_full.interpolate(limit_direction=\"both\", method=\"linear\");\n",
        "df_aus_i_full = pd.merge(df_years_aus, df_aus_i, how=\"left\", on=\"Year\");\n",
        "df_aus_i_full = df_aus_i_full.interpolate(limit_direction=\"both\", method=\"linear\");\n",
        "print(df_aus_m_full);\n",
        "\n",
        "df_years_usa = pd.DataFrame({\"Year\": list(range(1999, 2017))});\n",
        "df_usa_m = df_usa_m[[\"Year\", \"Value\"]];\n",
        "df_usa_i = df_usa_i[[\"Year\", \"Value\"]];\n",
        "#then, merge these two datasets\n",
        "df_usa_m_full = pd.merge(df_years_usa, df_usa_m, how=\"left\", on=\"Year\");\n",
        "df_usa_m_full = df_usa_m_full.interpolate(limit_direction=\"both\", method=\"linear\");\n",
        "df_usa_i_full = pd.merge(df_years_usa, df_usa_i, how=\"left\", on=\"Year\");\n",
        "df_usa_i_full = df_usa_i_full.interpolate(limit_direction=\"both\", method=\"linear\");"
      ]
    },
    {
      "cell_type": "markdown",
      "metadata": {
        "id": "ejiXvFG5pdOp"
      },
      "source": [
        "**Question 4.1** Is there an increase in the number of people who have technical skills in France, Australia and United States(USA)?\n",
        "\n",
        "All the datasets are cleaned now after finishing data pre-processing and data cleaning. The next step is to do the data processing.\n",
        "\n",
        "In the following graph, we will use EDA to display the percentage of graduates in the information or statistics field in France, Australia, and USA.\n",
        "\n",
        "Let's start with France."
      ]
    },
    {
      "cell_type": "code",
      "execution_count": 42,
      "metadata": {
        "colab": {
          "base_uri": "https://localhost:8080/",
          "height": 281
        },
        "id": "SkqLfjpEpdJ-",
        "outputId": "5cd27cd2-f9ef-4813-e40b-fc88dccd2795"
      },
      "outputs": [
        {
          "data": {
            "image/png": "[encoded data removed]",
            "text/plain": [
              "<Figure size 432x288 with 1 Axes>"
            ]
          },
          "metadata": {
            "needs_background": "light"
          },
          "output_type": "display_data"
        }
      ],
      "source": [
        "plt.plot(df_fra_m_full['Year'], df_fra_m_full['Value'], 'red', label='Statistics Programme');\n",
        "plt.plot(df_fra_i_full['Year'], df_fra_i_full['Value'], 'blue', label='Information Programme');\n",
        "plt.xlabel='Year';\n",
        "plt.title('Percentage of graduates from Statistics and Information Programme in France');\n",
        "plt.legend();\n",
        "plt.show();"
      ]
    },
    {
      "cell_type": "markdown",
      "metadata": {
        "id": "O-yYaUzApdGA"
      },
      "source": [
        "Based on the above graph, it can be seen that the percentage of graduates for both statistics programme and information programme were decreased from 2000 till 2018 in France. The highest points for two programmes were shown as around 12% and 9% respectively."
      ]
    },
    {
      "cell_type": "code",
      "execution_count": 43,
      "metadata": {
        "colab": {
          "base_uri": "https://localhost:8080/",
          "height": 281
        },
        "id": "xmn04gFPpdTs",
        "outputId": "82913e38-1a64-4d0f-f329-e926a27e811a"
      },
      "outputs": [
        {
          "data": {
            "image/png": "[encoded data removed]",
            "text/plain": [
              "<Figure size 432x288 with 1 Axes>"
            ]
          },
          "metadata": {
            "needs_background": "light"
          },
          "output_type": "display_data"
        }
      ],
      "source": [
        "plt.plot(df_aus_m_full['Year'], df_aus_m_full['Value'], 'red', label='Statistics Programme');\n",
        "plt.plot(df_aus_i_full['Year'], df_aus_i_full['Value'], 'blue', label='Information Programme');\n",
        "plt.xlabel='Year';\n",
        "plt.title('Percentage of graduates from Statistics and Information Programme in Australia');\n",
        "plt.legend();\n",
        "plt.show();"
      ]
    },
    {
      "cell_type": "markdown",
      "metadata": {
        "id": "bosiRyqOr67o"
      },
      "source": [
        "Based on the above graph, it can be seen that both percentages of graduates from statistics and information programmes have decreased from 2000 till 2018, which means that there is no increase in the percentage of graduates with ICT skills in Australia."
      ]
    },
    {
      "cell_type": "code",
      "execution_count": 44,
      "metadata": {
        "colab": {
          "base_uri": "https://localhost:8080/",
          "height": 281
        },
        "id": "ORtLifRrr7DH",
        "outputId": "12d9b8f8-1fff-4ed7-a6d8-67b4cead611f"
      },
      "outputs": [
        {
          "data": {
            "image/png": "[encoded data removed]",
            "text/plain": [
              "<Figure size 432x288 with 1 Axes>"
            ]
          },
          "metadata": {
            "needs_background": "light"
          },
          "output_type": "display_data"
        }
      ],
      "source": [
        "plt.plot(df_usa_m_full['Year'], df_usa_m_full['Value'], 'red', label='Statistics Programme');\n",
        "plt.plot(df_usa_i_full['Year'], df_usa_i_full['Value'], 'blue', label='Information Programme');\n",
        "plt.xlabel='Year';\n",
        "plt.title('Percentage of graduates from Statistics and Information Programme in USA');\n",
        "plt.legend();\n",
        "plt.show();"
      ]
    },
    {
      "cell_type": "markdown",
      "metadata": {
        "id": "8Qytv6SGr7Ii"
      },
      "source": [
        "According to the above graph, it can be found that the percentage of graduates from information programme decreased around 2% between 2000 and 2016. In addition, the percentage of graduates from statistics programme has slightly increased 2% from 2000 till 2016 in the USA."
      ]
    },
    {
      "cell_type": "markdown",
      "metadata": {
        "id": "_Xw5bFp5pda3"
      },
      "source": [
        "### Target 4.5\n",
        "\n",
        "#### Indicator 4.5.1"
      ]
    },
    {
      "cell_type": "code",
      "execution_count": 45,
      "metadata": {
        "colab": {
          "base_uri": "https://localhost:8080/"
        },
        "id": "BdPhHkXCsDZQ",
        "outputId": "29600700-3734-4662-e64d-e0ea4bcfc8af"
      },
      "outputs": [
        {
          "name": "stdout",
          "output_type": "stream",
          "text": [
            "              Year      Value\n",
            "count    48.000000  48.000000\n",
            "mean   1995.229167   0.993533\n",
            "std      14.348607   0.018937\n",
            "min    1971.000000   0.979230\n",
            "25%    1982.750000   0.986198\n",
            "50%    1995.500000   0.989995\n",
            "75%    2007.250000   0.994367\n",
            "max    2019.000000   1.082440\n",
            "              Year      Value\n",
            "count    47.000000  47.000000\n",
            "mean   1995.638298   1.037261\n",
            "std      14.217909   0.046074\n",
            "min    1971.000000   0.985980\n",
            "25%    1984.000000   1.003555\n",
            "50%    1996.000000   1.009950\n",
            "75%    2007.500000   1.073710\n",
            "max    2019.000000   1.195300\n",
            "              Year      Value\n",
            "count    39.000000  39.000000\n",
            "mean   1999.846154   1.149193\n",
            "std      11.656348   0.085811\n",
            "min    1979.000000   0.876480\n",
            "25%    1990.500000   1.132795\n",
            "50%    2000.000000   1.191970\n",
            "75%    2009.500000   1.200880\n",
            "max    2019.000000   1.212840\n"
          ]
        }
      ],
      "source": [
        "df_fra_pri = fra[fra['Indicator Name'] == 'School enrollment, primary (gross), gender parity index (GPI)'];\n",
        "df_fra_sec = fra[fra['Indicator Name'] == 'School enrollment, secondary (gross), gender parity index (GPI)'];\n",
        "df_fra_ter = fra[fra['Indicator Name'] == 'School enrollment, tertiary (gross), gender parity index (GPI)'];\n",
        "\n",
        "#check the count of each dataset, in order to check if there is missing value.\n",
        "print(df_fra_pri.describe())\n",
        "print(df_fra_sec.describe())\n",
        "print(df_fra_ter.describe())"
      ]
    },
    {
      "cell_type": "markdown",
      "metadata": {
        "id": "tczAHY3gsCtg"
      },
      "source": [
        "As we can see from the information above, the count of value in each dataset is not equal. Normally, the number of rows should be 50 in total (2020 minus 1970).That is to say, no matter in the dataset of primary enrollment, secondary enrollment and tertiary enrollment, there is data missing, which is the \"years\" column.\n",
        "\n",
        "Thus, in order to eliminate the impact of missing data to our prediction and analysis on the dataset, it is better to preprocess the data first.\n",
        "\n",
        "After consideration, it is not appropriate to simply replace the missing value with either average or median. In this case, we decide to use the interpolate() function to fill the missing values, which can calculate and select the most suitable value according to the linear interpolation."
      ]
    },
    {
      "cell_type": "code",
      "execution_count": 46,
      "metadata": {
        "id": "vjL8I8z7sEHw"
      },
      "outputs": [],
      "source": [
        "#first, we need a new dataframe containing the years from 1970 to 2020.\n",
        "df_years = pd.DataFrame({\"Year\": list(range(1970, 2021))});\n",
        "df_fra_pri = df_fra_pri[[\"Year\", \"Value\"]];\n",
        "#then, merge these two datasets\n",
        "df_fra_pri_full = pd.merge(df_years, df_fra_pri, how=\"left\", on=\"Year\");\n",
        "#print(df_fra_pri_full);\n",
        "df_fra_pri_full = df_fra_pri_full.interpolate(limit_direction=\"both\", method=\"linear\");\n",
        "#print(df_fra_pri_full);\n",
        "\n",
        "#same operations on df_fra_sec and df_fra_ter\n",
        "df_fra_sec = df_fra_sec[[\"Year\", \"Value\"]];\n",
        "df_fra_sec_full = pd.merge(df_years, df_fra_sec, how=\"left\", on=\"Year\");\n",
        "df_fra_sec_full = df_fra_sec_full.interpolate(limit_direction=\"both\", method=\"linear\");\n",
        "\n",
        "df_fra_ter = df_fra_ter[[\"Year\", \"Value\"]];\n",
        "df_fra_ter_full = pd.merge(df_years, df_fra_ter, how=\"left\", on=\"Year\");\n",
        "df_fra_ter_full = df_fra_ter_full.interpolate(limit_direction=\"both\", method=\"linear\");"
      ]
    },
    {
      "cell_type": "markdown",
      "metadata": {
        "id": "iPBfC2rZsEMB"
      },
      "source": [
        "As GPI is the proportion of males and females, if the value is greater or equal to 0, then it is reasonable data."
      ]
    },
    {
      "cell_type": "code",
      "execution_count": 47,
      "metadata": {
        "colab": {
          "base_uri": "https://localhost:8080/"
        },
        "id": "aRUuct4wsEQX",
        "outputId": "90d6b82e-339d-400e-c87e-2d36432bcc11"
      },
      "outputs": [
        {
          "name": "stdout",
          "output_type": "stream",
          "text": [
            "             Year      Value\n",
            "count    50.00000  50.000000\n",
            "mean   1995.50000   1.000331\n",
            "std      14.57738   0.010070\n",
            "min    1971.00000   0.984790\n",
            "25%    1983.25000   0.995585\n",
            "50%    1995.50000   0.998020\n",
            "75%    2007.75000   1.001905\n",
            "max    2020.00000   1.024440\n",
            "              Year      Value\n",
            "count    11.000000  11.000000\n",
            "mean   2007.272727   0.953354\n",
            "std      11.866684   0.058098\n",
            "min    1993.000000   0.867440\n",
            "25%    1995.500000   0.910780\n",
            "50%    2015.000000   0.962330\n",
            "75%    2017.500000   0.996620\n",
            "max    2020.000000   1.031800\n",
            "              Year      Value\n",
            "count    34.000000  34.000000\n",
            "mean   1989.500000   0.958085\n",
            "std      15.132245   0.234204\n",
            "min    1970.000000   0.504000\n",
            "25%    1978.250000   0.815010\n",
            "50%    1986.500000   0.987460\n",
            "75%    1994.750000   1.127895\n",
            "max    2020.000000   1.307700\n"
          ]
        }
      ],
      "source": [
        "df_aus_pri = aus[aus['Indicator Name'] == 'School enrollment, primary (gross), gender parity index (GPI)'];\n",
        "df_aus_sec = aus[aus['Indicator Name'] == 'School enrollment, secondary (gross), gender parity index (GPI)'];\n",
        "df_aus_ter = aus[aus['Indicator Name'] == 'School enrollment, tertiary (gross), gender parity index (GPI)'];\n",
        "\n",
        "#check the count of each dataset, in order to check if there is missing value.\n",
        "print(df_aus_pri.describe())\n",
        "print(df_aus_sec.describe())\n",
        "print(df_aus_ter.describe())"
      ]
    },
    {
      "cell_type": "markdown",
      "metadata": {
        "id": "iMOQoR6xso2z"
      },
      "source": [
        "As we can see from the information above, the count of value in each dataset is not equal. Normally, the number of rows should be 50 in total (2020 minus 1970).That is to say, no matter in the dataset of primary enrollment, secondary enrollment and tertiary enrollment, there is data missing, which is the \"years\" column.\n",
        "\n",
        "Thus, in order to eliminate the impact of missing data to our prediction and analysis on the dataset, it is better to preprocess the data first.\n",
        "\n",
        "The method we used for analysing the France dataset also applies to analyse Australia and USA dataset."
      ]
    },
    {
      "cell_type": "code",
      "execution_count": 48,
      "metadata": {
        "id": "poX0nyO0so7h"
      },
      "outputs": [],
      "source": [
        "#first, we need a new dataframe containing the years from 1970 to 2020.\n",
        "df_years = pd.DataFrame({\"Year\": list(range(1970, 2021))});\n",
        "df_aus_pri = df_aus_pri[[\"Year\", \"Value\"]];\n",
        "#then, merge these two datasets\n",
        "df_aus_pri_full = pd.merge(df_years, df_aus_pri, how=\"left\", on=\"Year\");\n",
        "df_aus_pri_full = df_aus_pri_full.interpolate(limit_direction=\"both\", method=\"linear\");\n",
        "\n",
        "#same operations on df_aus_sec and df_aus_ter\n",
        "df_aus_sec = df_aus_sec[[\"Year\", \"Value\"]];\n",
        "df_aus_sec_full = pd.merge(df_years, df_aus_sec, how=\"left\", on=\"Year\");\n",
        "df_aus_sec_full = df_aus_sec_full.interpolate(limit_direction=\"both\", method=\"linear\");\n",
        "\n",
        "df_aus_ter = df_aus_ter[[\"Year\", \"Value\"]];\n",
        "df_aus_ter_full = pd.merge(df_years, df_aus_ter, how=\"left\", on=\"Year\");\n",
        "df_aus_ter_full = df_aus_ter_full.interpolate(limit_direction=\"both\", method=\"linear\");"
      ]
    },
    {
      "cell_type": "code",
      "execution_count": 49,
      "metadata": {
        "colab": {
          "base_uri": "https://localhost:8080/"
        },
        "id": "yuKiwNgwsy7E",
        "outputId": "26b7d4b6-0713-4ff1-ccc1-a6d0ddd9a0c3"
      },
      "outputs": [
        {
          "name": "stdout",
          "output_type": "stream",
          "text": [
            "              Year      Value\n",
            "count    23.000000  23.000000\n",
            "mean   1998.304348   1.000663\n",
            "std      13.332922   0.013487\n",
            "min    1981.000000   0.980450\n",
            "25%    1986.500000   0.991015\n",
            "50%    1995.000000   0.996640\n",
            "75%    2013.500000   1.010950\n",
            "max    2019.000000   1.027560\n",
            "              Year      Value\n",
            "count    24.000000  24.000000\n",
            "mean   1996.333333   0.996766\n",
            "std      14.627748   0.094787\n",
            "min    1972.000000   0.561650\n",
            "25%    1984.750000   0.997502\n",
            "50%    1993.500000   1.013260\n",
            "75%    2013.250000   1.028862\n",
            "max    2019.000000   1.054540\n",
            "              Year      Value\n",
            "count    35.000000  35.000000\n",
            "mean   1991.228571   1.113163\n",
            "std      14.984474   0.177556\n",
            "min    1971.000000   0.690080\n",
            "25%    1979.500000   1.048350\n",
            "50%    1988.000000   1.192180\n",
            "75%    1998.500000   1.238390\n",
            "max    2019.000000   1.296860\n"
          ]
        }
      ],
      "source": [
        "df_usa_pri = usa[usa['Indicator Name'] == 'School enrollment, primary (gross), gender parity index (GPI)'];\n",
        "df_usa_sec = usa[usa['Indicator Name'] == 'School enrollment, secondary (gross), gender parity index (GPI)'];\n",
        "df_usa_ter = usa[usa['Indicator Name'] == 'School enrollment, tertiary (gross), gender parity index (GPI)'];\n",
        "\n",
        "#check the count of each dataset, in order to check if there is missing value.\n",
        "print(df_usa_pri.describe())\n",
        "print(df_usa_sec.describe())\n",
        "print(df_usa_ter.describe())"
      ]
    },
    {
      "cell_type": "markdown",
      "metadata": {
        "id": "K-vv62FBso_6"
      },
      "source": [
        "Same, there are years missing, so we need to impute the missing values by using the linear interpolation method."
      ]
    },
    {
      "cell_type": "code",
      "execution_count": 50,
      "metadata": {
        "id": "C44AA7VmspD5"
      },
      "outputs": [],
      "source": [
        "#first, we need a new dataframe containing the years from 1970 to 2020.\n",
        "df_years = pd.DataFrame({\"Year\": list(range(1970, 2021))});\n",
        "df_usa_pri = df_usa_pri[[\"Year\", \"Value\"]];\n",
        "#then, merge these two datasets\n",
        "df_usa_pri_full = pd.merge(df_years, df_usa_pri, how=\"left\", on=\"Year\");\n",
        "df_usa_pri_full = df_usa_pri_full.interpolate(limit_direction=\"both\", method=\"linear\");\n",
        "\n",
        "#same operations on df_usa_sec and df_usa_ter\n",
        "df_usa_sec = df_usa_sec[[\"Year\", \"Value\"]];\n",
        "df_usa_sec_full = pd.merge(df_years, df_usa_sec, how=\"left\", on=\"Year\");\n",
        "df_usa_sec_full = df_usa_sec_full.interpolate(limit_direction=\"both\", method=\"linear\");\n",
        "\n",
        "df_usa_ter = df_usa_ter[[\"Year\", \"Value\"]];\n",
        "df_usa_ter_full = pd.merge(df_years, df_usa_ter, how=\"left\", on=\"Year\");\n",
        "df_usa_ter_full = df_usa_ter_full.interpolate(limit_direction=\"both\", method=\"linear\");"
      ]
    },
    {
      "cell_type": "markdown",
      "metadata": {
        "id": "aCXSXaOHsEUQ"
      },
      "source": [
        "**Question 5.1** How is the gender disparities in all level of education these years in France, Australia and United States(USA)?\n",
        "\n",
        "All the datasets are cleaned now after finishing data pre-processing and data cleaning. The next step is to do the data processing.\n",
        "\n",
        "Firstly, we will analyze the data from France.\n",
        "\n",
        "In the following graph, we use EDA to display the trend of GPI in primary school, secondary school and tertiary school from 1970 to 2020."
      ]
    },
    {
      "cell_type": "code",
      "execution_count": 51,
      "metadata": {
        "colab": {
          "base_uri": "https://localhost:8080/",
          "height": 281
        },
        "id": "c-tyVUEysEYf",
        "outputId": "428db55e-e898-4346-8e65-9df9d171c601"
      },
      "outputs": [
        {
          "data": {
            "image/png": "[encoded data removed]",
            "text/plain": [
              "<Figure size 432x288 with 1 Axes>"
            ]
          },
          "metadata": {
            "needs_background": "light"
          },
          "output_type": "display_data"
        }
      ],
      "source": [
        "plt.plot(df_fra_pri_full['Year'], df_fra_pri_full['Value'], 'red', label='Primary');\n",
        "plt.plot(df_fra_sec_full['Year'], df_fra_sec_full['Value'], 'blue', label='Secondary');\n",
        "plt.plot(df_fra_ter_full['Year'], df_fra_ter_full['Value'], 'green', label='Tertiary');\n",
        "plt.xlabel='Year';\n",
        "plt.title('GPI of primary, secondary and tertiary school enrollment in France');\n",
        "plt.legend();\n",
        "plt.show();"
      ]
    },
    {
      "cell_type": "markdown",
      "metadata": {
        "id": "7j5RXdjzsEcj"
      },
      "source": [
        "According to the definition on Wikipedia, a GPI equal to one signifies equality between males and females. A GPI less than one is an indication that gender parity favors males while a GPI greater than one indicates gender parity that favors females. The closer a GPI is to one, the closer a country is to achieving equality of access between males and females.\n",
        "\n",
        "According to the graph above, it can be seen that the GPI of tertiary school enrollment in France are increasing.\n",
        "\n",
        "Before 2000, the GPI of primary enrollment, secondary enrollment and tertiary enrollment is less than 1, that is to say, males is more than females. Around 2000, the GPI was around 1 in primary and secondary education levels, and tertiary education level was higher than 1. That is to say, in 2000, the gender disparity was almost eliminated. After 2000, both GPI of primary and secondary enrollment were around 1, without obvious increasement or decreasement, but the GPI of tertiary enrollment grew up to 1.20. This trend might caused by several reasons, rather than blaming the fault of policy or government."
      ]
    },
    {
      "cell_type": "markdown",
      "metadata": {
        "id": "dwZ2IVzutdwA"
      },
      "source": [
        "EDA on Australia data"
      ]
    },
    {
      "cell_type": "code",
      "execution_count": 52,
      "metadata": {
        "colab": {
          "base_uri": "https://localhost:8080/",
          "height": 281
        },
        "id": "QPYTasPysEhn",
        "outputId": "9a8ebeb1-1fc7-425c-ece2-e3308ef57621"
      },
      "outputs": [
        {
          "data": {
            "image/png": "[encoded data removed]",
            "text/plain": [
              "<Figure size 432x288 with 1 Axes>"
            ]
          },
          "metadata": {
            "needs_background": "light"
          },
          "output_type": "display_data"
        }
      ],
      "source": [
        "plt.plot(df_aus_pri_full['Year'], df_aus_pri_full['Value'], 'red', label='Primary');\n",
        "plt.plot(df_aus_sec_full['Year'], df_aus_sec_full['Value'], 'blue', label='Secondary');\n",
        "plt.plot(df_aus_ter_full['Year'], df_aus_ter_full['Value'], 'green', label='Tertiary');\n",
        "plt.xlabel='Year';\n",
        "plt.title('GPI of primary, secondary and tertiary school enrollment in Australia');\n",
        "plt.legend();\n",
        "plt.show();"
      ]
    },
    {
      "cell_type": "markdown",
      "metadata": {
        "id": "s8ikIghPsElv"
      },
      "source": [
        "As we can see from the graph above, in Australia, only the GPI of primary school enrollment kept steadily around 1.0 within these 50 years. In terms of secondary school enrollment, there was a slight decrease from 1997 to 2015, and it increased to reach 1.0 in 2020. Thus, it can be seen that there was nearly no gender disparity in primary and secondary school enrollment. However, the GPI of tertiary school enrollment dramatically changed within these years. At the year of 1970, the GPI of tertiary school enrollment was around 0.5, which means there were more males than females in terms of tertiary enrollment. This situation changed a lot afterwards. The above graph shows that the female enrollment kept growing in the next 50 years. Since 1993, the proportion of female enrollment in tertiary was greater than males. Thus, it can be concluded that there are more and more girls willing to enrol into tertiary school."
      ]
    },
    {
      "cell_type": "markdown",
      "metadata": {
        "id": "spvdJZ0rtiW6"
      },
      "source": [
        "EDA on United States"
      ]
    },
    {
      "cell_type": "code",
      "execution_count": 53,
      "metadata": {
        "colab": {
          "base_uri": "https://localhost:8080/",
          "height": 281
        },
        "id": "MRz40DIftid0",
        "outputId": "5b08f357-e413-425e-eff2-d51c376d8e14"
      },
      "outputs": [
        {
          "data": {
            "image/png": "[encoded data removed]",
            "text/plain": [
              "<Figure size 432x288 with 1 Axes>"
            ]
          },
          "metadata": {
            "needs_background": "light"
          },
          "output_type": "display_data"
        }
      ],
      "source": [
        "plt.plot(df_usa_pri_full['Year'], df_usa_pri_full['Value'], 'red', label='Primary');\n",
        "plt.plot(df_usa_sec_full['Year'], df_usa_sec_full['Value'], 'blue', label='Secondary');\n",
        "plt.plot(df_usa_ter_full['Year'], df_usa_ter_full['Value'], 'green', label='Tertiary');\n",
        "plt.xlabel='Year';\n",
        "plt.title('GPI of primary, secondary and tertiary school enrollment in USA');\n",
        "plt.legend();\n",
        "plt.show();"
      ]
    },
    {
      "cell_type": "markdown",
      "metadata": {
        "id": "SqxG-ZQOtinJ"
      },
      "source": [
        "According to the graph above, it can be seen that the GPI of primary school and secondary school enrollment kept steadily over these years which is around 1.0. This number illustrates that there is no gender disparity in primary school and secondary school enrollment.\n",
        "\n",
        "Additionally, based on the above graph, the GPI of secondary school enrollment and tertiary school enrollment were relatively low at the beginning of 1970. However, the GPI increased rapidly from 1973. The GPI of secondary school enrollment reached around 1 and keep growing till 2020, while the GPI of tertiary school enrollment reached the highest point around 1.3 in 2005."
      ]
    },
    {
      "cell_type": "markdown",
      "metadata": {
        "id": "DVFBZhfmjhz1"
      },
      "source": [
        "# Individual Task Division and Contribution"
      ]
    },
    {
      "cell_type": "markdown",
      "metadata": {
        "id": "dyozVoA7j369"
      },
      "source": [
        "## Yexin Li | ID: 593295\n",
        "\n",
        "### Data Preparation:\n",
        "\n",
        "Target 4.1\n",
        "\n",
        "Indicator 4.1.1 and Indicator 4.1.2\n",
        "\n",
        "\n",
        "### EDA:\n",
        "\n",
        "EDA for Target **4.1** with Indicator **4.1.1** and **4.1.2** in countries **Australia (aus), France (fra) and United States (usa)**."
      ]
    },
    {
      "cell_type": "markdown",
      "metadata": {
        "id": "oi83aGh7k8Ti"
      },
      "source": [
        "## Xiaotao Pang | ID: 572683\n",
        "\n",
        "### Data Preparation:\n",
        "\n",
        "Target 4.2\n",
        "\n",
        "Indicator 4.2.2\n",
        "\n",
        "Target 4.3\n",
        "\n",
        "Indicator 4.3.1\n",
        "\n",
        "\n",
        "### EDA:\n",
        "\n",
        "EDA for Target **4.2** with Indicator **4.2.2** and Target **4.3** with Indicator **4.3.1** in countries **Australia (aus), France (fra) and United States (usa)**."
      ]
    },
    {
      "cell_type": "markdown",
      "metadata": {
        "id": "nKwQG2T-liBE"
      },
      "source": [
        "## Junyuan Tang | ID: 553287\n",
        "\n",
        "### Data Preparation:\n",
        "\n",
        "Target 4.4\n",
        "\n",
        "Indicator 4.4.1\n",
        "\n",
        "Target 4.5\n",
        "\n",
        "Indicator 4.5.1\n",
        "\n",
        "\n",
        "### EDA:\n",
        "\n",
        "EDA for Target **4.4** with Indicator **4.4.1** and Target **4.5** with Indicator **4.5.1** in countries **Australia (aus), France (fra) and United States (usa)**."
      ]
    }
  ],
  "metadata": {
    "colab": {
      "collapsed_sections": [],
      "provenance": []
    },
    "kernelspec": {
      "display_name": "Python 3.9.12 64-bit",
      "language": "python",
      "name": "python3"
    },
    "language_info": {
      "name": "python",
      "version": "3.9.12"
    },
    "vscode": {
      "interpreter": {
        "hash": "b0fa6594d8f4cbf19f97940f81e996739fb7646882a419484c72d19e05852a7e"
      }
    }
  },
  "nbformat": 4,
  "nbformat_minor": 0
}

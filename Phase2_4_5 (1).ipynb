{
  "nbformat": 4,
  "nbformat_minor": 0,
  "metadata": {
    "colab": {
      "provenance": [],
      "collapsed_sections": []
    },
    "kernelspec": {
      "name": "python3",
      "display_name": "Python 3"
    },
    "language_info": {
      "name": "python"
    }
  },
  "cells": [
    {
      "cell_type": "markdown",
      "source": [
        "Target 4.5"
      ],
      "metadata": {
        "id": "29yjiO6FvnYw"
      }
    },
    {
      "cell_type": "code",
      "execution_count": 16,
      "metadata": {
        "id": "BBtBG0T_sOPQ"
      },
      "outputs": [],
      "source": [
        "import pandas as pd;\n",
        "import numpy as np;\n",
        "\n",
        "#read the file and remove countries with less than 3 values.\n",
        "df_45 = pd.read_excel(\"Target4.5.xlsx\", sheet_name=\"Data\").copy();\n",
        "df_45 = df_45[df_45['Series Name'] == 'School enrollment, primary (gross), gender parity index (GPI)'];\n",
        "temp = df_45.isnull().sum(axis=1);\n",
        "row_to_delete = temp[temp > 15].index;\n",
        "df_45_data = df_45.drop(labels=row_to_delete);\n",
        "\n",
        "df_meta = pd.read_excel(\"Target4.5.xlsx\", sheet_name=\"Country - Metadata\")[['Code', \"Income Group\"]].copy();\n",
        "df_meta[\"Income Group\"] = df_meta[\"Income Group\"].fillna(\"Unknown income\");\n",
        "#print(df_meta);\n",
        "df_meta.rename(columns={\"Code\":\"Country Code\"}, inplace=True);\n",
        "df_45_new = pd.merge(df_45_data, df_meta, how=\"left\", on=\"Country Code\");\n",
        "#print(df_45_new);"
      ]
    },
    {
      "cell_type": "markdown",
      "source": [
        "Impute Method: \n",
        "\n",
        "1.Constant value (median)"
      ],
      "metadata": {
        "id": "hG2mTKdnvptg"
      }
    },
    {
      "cell_type": "code",
      "source": [
        "#manipulate the dataframe before imputation\n",
        "temp = df_45_new.copy();\n",
        "countryNames = temp['Country Code'].values.tolist();\n",
        "\n",
        "temp = temp.drop(['Series Name', 'Series Code', 'Country Name', 'Country Code'], axis=1);\n",
        "\n",
        "temp_T = temp.T;\n",
        "temp_T.columns = countryNames;\n",
        "temp_T.index = list(range(2004,2023));\n",
        "temp_T.rename(index={2022:\"Income Group\"}, inplace=True);\n",
        "#print(temp_T);"
      ],
      "metadata": {
        "id": "tglNoBsOZfBP"
      },
      "execution_count": 17,
      "outputs": []
    },
    {
      "cell_type": "code",
      "source": [
        "#method to calculate median\n",
        "temp_median = temp_T.copy();\n",
        "\n",
        "for x in temp_median.columns:\n",
        "  #remove the last row temporary\n",
        "  res = temp_median[x][:-1];\n",
        "  temp_median[x] = temp_median[x].fillna(res.median());\n",
        "print(temp_median.T);\n",
        "\n",
        "temp_median.T.to_csv(\"Target4.5_median.csv\");"
      ],
      "metadata": {
        "colab": {
          "base_uri": "https://localhost:8080/"
        },
        "id": "rDJQAdddvslz",
        "outputId": "6b068548-8de6-402c-9b83-f87a805a04ad"
      },
      "execution_count": 18,
      "outputs": [
        {
          "output_type": "stream",
          "name": "stdout",
          "text": [
            "         2004      2005      2006      2007      2008      2009      2010  \\\n",
            "AFG   0.43282   0.58334   0.62357   0.61379   0.63642    0.6575   0.67981   \n",
            "ALB    1.0135   1.00536   1.00844   1.00776   1.00249   0.99718   1.00642   \n",
            "DZA   0.92588   0.92509   0.92651   0.93389   0.93659    0.9359   0.93749   \n",
            "AGO   0.83605   0.83605   0.83605   0.83605   0.84569   0.83605   0.79943   \n",
            "ATG  0.951245  0.951245  0.951245   0.96462   0.94677   0.95038   0.91542   \n",
            "..        ...       ...       ...       ...       ...       ...       ...   \n",
            "PSE   1.00159    0.9944   1.00519    1.0018   0.99614   0.99604    0.9801   \n",
            "WLD   0.95182   0.95436   0.95855   0.96113   0.96772   0.97242   0.97481   \n",
            "YEM   0.70437   0.73882   0.81481   0.81481    0.8036   0.81481   0.81527   \n",
            "ZMB   0.94278    0.9433    0.9695   0.95952   0.96877    0.9813   1.00627   \n",
            "ZWE  0.987815  0.987815  0.987815  0.987815  0.987815  0.987815  0.987815   \n",
            "\n",
            "         2011     2012      2013      2014     2015      2016     2017  \\\n",
            "AFG   0.71258  0.72026   0.70286   0.69825  0.68081   0.67937  0.67617   \n",
            "ALB   1.01557  1.01601   1.02221   1.03682   1.0313   1.03555  1.03224   \n",
            "DZA    0.9384  0.94445   0.94841   0.95096   0.9523   0.94972  0.95093   \n",
            "AGO   0.62922  0.83605   0.83605   0.83605  0.87413   0.83605  0.83605   \n",
            "ATG   0.92814  0.95211  0.951245   0.94992  0.96619  0.951245  0.98406   \n",
            "..        ...      ...       ...       ...      ...       ...      ...   \n",
            "PSE   0.98853  0.98242   1.00465   0.99323  0.99987   1.00168  0.99789   \n",
            "WLD   0.97659  0.98092   0.99778   0.99776  0.99941   1.00749  1.00471   \n",
            "YEM   0.81435  0.82601   0.83883   0.81481  0.81481   0.87172  0.81481   \n",
            "ZMB   0.98924  1.00451   1.00346    1.0035  1.00302   1.02007   1.0242   \n",
            "ZWE  0.987815  0.98006   0.97872  0.987815  0.97974   0.98341  0.99222   \n",
            "\n",
            "        2018      2019      2020      2021         Income Group  \n",
            "AFG  0.66691   0.67169   0.67393   0.67393           Low income  \n",
            "ALB  1.03765   1.02963   1.02746   1.01601  Upper middle income  \n",
            "DZA  0.95499   0.95809    0.9692   0.94445  Lower middle income  \n",
            "AGO  0.83605   0.83605   0.83605   0.83605  Lower middle income  \n",
            "ATG  0.99208  0.951245  0.951245  0.951245          High income  \n",
            "..       ...       ...       ...       ...                  ...  \n",
            "PSE  1.00261   0.99934   0.99572   0.99789  Lower middle income  \n",
            "WLD  0.98211   0.98303     0.983   0.98092       Unknown income  \n",
            "YEM  0.81481   0.81481   0.81481   0.81481           Low income  \n",
            "ZMB  0.99613   0.99613   0.99613   0.99613           Low income  \n",
            "ZWE  0.99664   0.99917   1.00511  0.987815  Lower middle income  \n",
            "\n",
            "[236 rows x 19 columns]\n"
          ]
        }
      ]
    },
    {
      "cell_type": "markdown",
      "source": [
        "2.Constant value (mean)"
      ],
      "metadata": {
        "id": "T31tVPwAv7Pz"
      }
    },
    {
      "cell_type": "code",
      "source": [
        "#method to calculate mean\n",
        "temp_mean = temp_T.copy();\n",
        "\n",
        "for x in temp_mean.columns:\n",
        "  #remove the last row temporary\n",
        "  res = temp_mean[x][:-1];\n",
        "  temp_mean[x] = temp_mean[x].fillna(res.mean());\n",
        "print(temp_mean.T);\n",
        "\n",
        "temp_mean.T.to_csv(\"Target4.5_mean.csv\");"
      ],
      "metadata": {
        "colab": {
          "base_uri": "https://localhost:8080/"
        },
        "id": "GDnTHAQTv_Bc",
        "outputId": "89d024fc-4563-4f01-83e3-932bf3f4858f"
      },
      "execution_count": 19,
      "outputs": [
        {
          "output_type": "stream",
          "name": "stdout",
          "text": [
            "         2004      2005      2006      2007      2008      2009      2010  \\\n",
            "AFG   0.43282   0.58334   0.62357   0.61379   0.63642    0.6575   0.67981   \n",
            "ALB    1.0135   1.00536   1.00844   1.00776   1.00249   0.99718   1.00642   \n",
            "DZA   0.92588   0.92509   0.92651   0.93389   0.93659    0.9359   0.93749   \n",
            "AGO  0.796904  0.796904  0.796904  0.796904   0.84569   0.83605   0.79943   \n",
            "ATG  0.954969  0.954969  0.954969   0.96462   0.94677   0.95038   0.91542   \n",
            "..        ...       ...       ...       ...       ...       ...       ...   \n",
            "PSE   1.00159    0.9944   1.00519    1.0018   0.99614   0.99604    0.9801   \n",
            "WLD   0.95182   0.95436   0.95855   0.96113   0.96772   0.97242   0.97481   \n",
            "YEM   0.70437   0.73882  0.801621  0.801621    0.8036  0.801621   0.81527   \n",
            "ZMB   0.94278    0.9433    0.9695   0.95952   0.96877    0.9813   1.00627   \n",
            "ZWE  0.989384  0.989384  0.989384  0.989384  0.989384  0.989384  0.989384   \n",
            "\n",
            "         2011      2012      2013      2014      2015      2016      2017  \\\n",
            "AFG   0.71258   0.72026   0.70286   0.69825   0.68081   0.67937   0.67617   \n",
            "ALB   1.01557   1.01601   1.02221   1.03682    1.0313   1.03555   1.03224   \n",
            "DZA    0.9384   0.94445   0.94841   0.95096    0.9523   0.94972   0.95093   \n",
            "AGO   0.62922  0.796904  0.796904  0.796904   0.87413  0.796904  0.796904   \n",
            "ATG   0.92814   0.95211  0.954969   0.94992   0.96619  0.954969   0.98406   \n",
            "..        ...       ...       ...       ...       ...       ...       ...   \n",
            "PSE   0.98853   0.98242   1.00465   0.99323   0.99987   1.00168   0.99789   \n",
            "WLD   0.97659   0.98092   0.99778   0.99776   0.99941   1.00749   1.00471   \n",
            "YEM   0.81435   0.82601   0.83883  0.801621  0.801621   0.87172  0.801621   \n",
            "ZMB   0.98924   1.00451   1.00346    1.0035   1.00302   1.02007    1.0242   \n",
            "ZWE  0.989384   0.98006   0.97872  0.989384   0.97974   0.98341   0.99222   \n",
            "\n",
            "         2018      2019      2020      2021         Income Group  \n",
            "AFG   0.66691   0.67169  0.652259  0.652259           Low income  \n",
            "ALB   1.03765   1.02963   1.02746  1.019152  Upper middle income  \n",
            "DZA   0.95499   0.95809    0.9692  0.943459  Lower middle income  \n",
            "AGO  0.796904  0.796904  0.796904  0.796904  Lower middle income  \n",
            "ATG   0.99208  0.954969  0.954969  0.954969          High income  \n",
            "..        ...       ...       ...       ...                  ...  \n",
            "PSE   1.00261   0.99934   0.99572  0.996541  Lower middle income  \n",
            "WLD   0.98211   0.98303     0.983  0.979624       Unknown income  \n",
            "YEM  0.801621  0.801621  0.801621  0.801621           Low income  \n",
            "ZMB  0.987103  0.987103  0.987103  0.987103           Low income  \n",
            "ZWE   0.99664   0.99917   1.00511  0.989384  Lower middle income  \n",
            "\n",
            "[236 rows x 19 columns]\n"
          ]
        }
      ]
    },
    {
      "cell_type": "markdown",
      "source": [
        "3.Time series based (forward fill)"
      ],
      "metadata": {
        "id": "ltXGd3mrwDgI"
      }
    },
    {
      "cell_type": "code",
      "source": [
        "temp_ffill = temp_T.copy();\n",
        "\n",
        "for x in temp_ffill.columns:\n",
        "  temp_ffill[x] = temp_ffill[x].fillna(method=\"ffill\");\n",
        "\n",
        "temp_ffill = temp_ffill.fillna(0);\n",
        "print(temp_ffill.T);\n",
        "temp_ffill.T.to_csv(\"Target4.5_ffill.csv\");"
      ],
      "metadata": {
        "colab": {
          "base_uri": "https://localhost:8080/"
        },
        "id": "mJ9pjMK6wGMy",
        "outputId": "a1be5488-862e-4d26-a86f-a3d569388330"
      },
      "execution_count": 20,
      "outputs": [
        {
          "output_type": "stream",
          "name": "stdout",
          "text": [
            "        2004     2005     2006     2007     2008     2009     2010     2011  \\\n",
            "AFG  0.43282  0.58334  0.62357  0.61379  0.63642   0.6575  0.67981  0.71258   \n",
            "ALB   1.0135  1.00536  1.00844  1.00776  1.00249  0.99718  1.00642  1.01557   \n",
            "DZA  0.92588  0.92509  0.92651  0.93389  0.93659   0.9359  0.93749   0.9384   \n",
            "AGO        0        0        0        0  0.84569  0.83605  0.79943  0.62922   \n",
            "ATG        0        0        0  0.96462  0.94677  0.95038  0.91542  0.92814   \n",
            "..       ...      ...      ...      ...      ...      ...      ...      ...   \n",
            "PSE  1.00159   0.9944  1.00519   1.0018  0.99614  0.99604   0.9801  0.98853   \n",
            "WLD  0.95182  0.95436  0.95855  0.96113  0.96772  0.97242  0.97481  0.97659   \n",
            "YEM  0.70437  0.73882  0.73882  0.73882   0.8036   0.8036  0.81527  0.81435   \n",
            "ZMB  0.94278   0.9433   0.9695  0.95952  0.96877   0.9813  1.00627  0.98924   \n",
            "ZWE        0        0        0        0        0        0        0        0   \n",
            "\n",
            "        2012     2013     2014     2015     2016     2017     2018     2019  \\\n",
            "AFG  0.72026  0.70286  0.69825  0.68081  0.67937  0.67617  0.66691  0.67169   \n",
            "ALB  1.01601  1.02221  1.03682   1.0313  1.03555  1.03224  1.03765  1.02963   \n",
            "DZA  0.94445  0.94841  0.95096   0.9523  0.94972  0.95093  0.95499  0.95809   \n",
            "AGO  0.62922  0.62922  0.62922  0.87413  0.87413  0.87413  0.87413  0.87413   \n",
            "ATG  0.95211  0.95211  0.94992  0.96619  0.96619  0.98406  0.99208  0.99208   \n",
            "..       ...      ...      ...      ...      ...      ...      ...      ...   \n",
            "PSE  0.98242  1.00465  0.99323  0.99987  1.00168  0.99789  1.00261  0.99934   \n",
            "WLD  0.98092  0.99778  0.99776  0.99941  1.00749  1.00471  0.98211  0.98303   \n",
            "YEM  0.82601  0.83883  0.83883  0.83883  0.87172  0.87172  0.87172  0.87172   \n",
            "ZMB  1.00451  1.00346   1.0035  1.00302  1.02007   1.0242   1.0242   1.0242   \n",
            "ZWE  0.98006  0.97872  0.97872  0.97974  0.98341  0.99222  0.99664  0.99917   \n",
            "\n",
            "        2020     2021         Income Group  \n",
            "AFG  0.67169  0.67169           Low income  \n",
            "ALB  1.02746  1.02746  Upper middle income  \n",
            "DZA   0.9692   0.9692  Lower middle income  \n",
            "AGO  0.87413  0.87413  Lower middle income  \n",
            "ATG  0.99208  0.99208          High income  \n",
            "..       ...      ...                  ...  \n",
            "PSE  0.99572  0.99572  Lower middle income  \n",
            "WLD    0.983    0.983       Unknown income  \n",
            "YEM  0.87172  0.87172           Low income  \n",
            "ZMB   1.0242   1.0242           Low income  \n",
            "ZWE  1.00511  1.00511  Lower middle income  \n",
            "\n",
            "[236 rows x 19 columns]\n"
          ]
        }
      ]
    },
    {
      "cell_type": "markdown",
      "source": [
        "4.Time series based (backward fill)"
      ],
      "metadata": {
        "id": "llbbOosuwKEt"
      }
    },
    {
      "cell_type": "code",
      "source": [
        "temp_bfill = temp_T.copy();\n",
        "lastRow = temp_bfill.copy().iloc[-1:];\n",
        "temp_bfill = temp_bfill[:-1];\n",
        "\n",
        "for x in temp_bfill.columns:\n",
        "  temp_bfill[x] = temp_bfill[x].fillna(method=\"bfill\");\n",
        "\n",
        "temp_bfill = temp_bfill.fillna(0);\n",
        "temp_bfill = temp_bfill.append(lastRow);\n",
        "print(temp_bfill.T);\n",
        "temp_bfill.T.to_csv(\"Target4.5_bfill.csv\");"
      ],
      "metadata": {
        "colab": {
          "base_uri": "https://localhost:8080/"
        },
        "id": "r5TIUmQBwNIA",
        "outputId": "49d094e4-a7a0-4eeb-a407-cd848a20d31c"
      },
      "execution_count": 21,
      "outputs": [
        {
          "output_type": "stream",
          "name": "stdout",
          "text": [
            "        2004     2005     2006     2007     2008     2009     2010     2011  \\\n",
            "AFG  0.43282  0.58334  0.62357  0.61379  0.63642   0.6575  0.67981  0.71258   \n",
            "ALB   1.0135  1.00536  1.00844  1.00776  1.00249  0.99718  1.00642  1.01557   \n",
            "DZA  0.92588  0.92509  0.92651  0.93389  0.93659   0.9359  0.93749   0.9384   \n",
            "AGO  0.84569  0.84569  0.84569  0.84569  0.84569  0.83605  0.79943  0.62922   \n",
            "ATG  0.96462  0.96462  0.96462  0.96462  0.94677  0.95038  0.91542  0.92814   \n",
            "..       ...      ...      ...      ...      ...      ...      ...      ...   \n",
            "PSE  1.00159   0.9944  1.00519   1.0018  0.99614  0.99604   0.9801  0.98853   \n",
            "WLD  0.95182  0.95436  0.95855  0.96113  0.96772  0.97242  0.97481  0.97659   \n",
            "YEM  0.70437  0.73882   0.8036   0.8036   0.8036  0.81527  0.81527  0.81435   \n",
            "ZMB  0.94278   0.9433   0.9695  0.95952  0.96877   0.9813  1.00627  0.98924   \n",
            "ZWE  0.98006  0.98006  0.98006  0.98006  0.98006  0.98006  0.98006  0.98006   \n",
            "\n",
            "        2012     2013     2014     2015     2016     2017     2018     2019  \\\n",
            "AFG  0.72026  0.70286  0.69825  0.68081  0.67937  0.67617  0.66691  0.67169   \n",
            "ALB  1.01601  1.02221  1.03682   1.0313  1.03555  1.03224  1.03765  1.02963   \n",
            "DZA  0.94445  0.94841  0.95096   0.9523  0.94972  0.95093  0.95499  0.95809   \n",
            "AGO  0.87413  0.87413  0.87413  0.87413      0.0      0.0      0.0      0.0   \n",
            "ATG  0.95211  0.94992  0.94992  0.96619  0.98406  0.98406  0.99208      0.0   \n",
            "..       ...      ...      ...      ...      ...      ...      ...      ...   \n",
            "PSE  0.98242  1.00465  0.99323  0.99987  1.00168  0.99789  1.00261  0.99934   \n",
            "WLD  0.98092  0.99778  0.99776  0.99941  1.00749  1.00471  0.98211  0.98303   \n",
            "YEM  0.82601  0.83883  0.87172  0.87172  0.87172      0.0      0.0      0.0   \n",
            "ZMB  1.00451  1.00346   1.0035  1.00302  1.02007   1.0242      0.0      0.0   \n",
            "ZWE  0.98006  0.97872  0.97974  0.97974  0.98341  0.99222  0.99664  0.99917   \n",
            "\n",
            "        2020 2021         Income Group  \n",
            "AFG      0.0  0.0           Low income  \n",
            "ALB  1.02746  0.0  Upper middle income  \n",
            "DZA   0.9692  0.0  Lower middle income  \n",
            "AGO      0.0  0.0  Lower middle income  \n",
            "ATG      0.0  0.0          High income  \n",
            "..       ...  ...                  ...  \n",
            "PSE  0.99572  0.0  Lower middle income  \n",
            "WLD    0.983  0.0       Unknown income  \n",
            "YEM      0.0  0.0           Low income  \n",
            "ZMB      0.0  0.0           Low income  \n",
            "ZWE  1.00511  0.0  Lower middle income  \n",
            "\n",
            "[236 rows x 19 columns]\n"
          ]
        }
      ]
    },
    {
      "cell_type": "markdown",
      "source": [
        "5.Advanced method (linear regression)"
      ],
      "metadata": {
        "id": "SKlelGACwRte"
      }
    },
    {
      "cell_type": "code",
      "source": [
        "from sklearn.linear_model import LinearRegression;\n",
        "regression = LinearRegression();\n",
        "\n",
        "temp_regr = temp_T.copy();\n",
        "lastRow = temp_regr.copy().iloc[-1:];\n",
        "temp_regr = temp_regr.iloc[:-1];\n",
        "\n",
        "for x in temp_regr.columns:\n",
        "  temp = temp_regr[x].copy();\n",
        "  X_test = temp[temp.isnull()==True];\n",
        "\n",
        "  if(len(X_test.index)>0):\n",
        "    train = temp[temp.isnull()==False];\n",
        "    regression.fit(np.array(train.index).reshape(-1,1), np.array(train.values).reshape(-1,1));\n",
        "    y_predict = regression.predict(np.array(X_test.index).reshape(-1,1));\n",
        "    temp[temp.isnull()==True] = y_predict;\n",
        "    temp_regr[x] = temp;\n",
        "\n",
        "temp_regr = temp_regr.append(lastRow);\n",
        "print(temp_regr.T)\n",
        "\n",
        "temp_regr.T.to_csv(\"Target4.5_regr.csv\");"
      ],
      "metadata": {
        "colab": {
          "base_uri": "https://localhost:8080/"
        },
        "id": "k083Nr-OwZuO",
        "outputId": "29f12bae-828a-4a24-c938-d7f2c982b935"
      },
      "execution_count": 22,
      "outputs": [
        {
          "output_type": "stream",
          "name": "stdout",
          "text": [
            "         2004      2005      2006      2007      2008      2009      2010  \\\n",
            "AFG   0.43282   0.58334   0.62357   0.61379   0.63642    0.6575   0.67981   \n",
            "ALB    1.0135   1.00536   1.00844   1.00776   1.00249   0.99718   1.00642   \n",
            "DZA   0.92588   0.92509   0.92651   0.93389   0.93659    0.9359   0.93749   \n",
            "AGO  0.778431   0.78123  0.784029  0.786828   0.84569   0.83605   0.79943   \n",
            "ATG  0.923806  0.927653    0.9315   0.96462   0.94677   0.95038   0.91542   \n",
            "..        ...       ...       ...       ...       ...       ...       ...   \n",
            "PSE   1.00159    0.9944   1.00519    1.0018   0.99614   0.99604    0.9801   \n",
            "WLD   0.95182   0.95436   0.95855   0.96113   0.96772   0.97242   0.97481   \n",
            "YEM   0.70437   0.73882  0.790293  0.855027    0.8036  0.893868   0.81527   \n",
            "ZMB   0.94278    0.9433    0.9695   0.95952   0.96877    0.9813   1.00627   \n",
            "ZWE  0.947768  0.951166  0.954563   0.95796  0.961357  0.964754  0.968151   \n",
            "\n",
            "         2011      2012      2013      2014      2015      2016      2017  \\\n",
            "AFG   0.71258   0.72026   0.70286   0.69825   0.68081   0.67937   0.67617   \n",
            "ALB   1.01557   1.01601   1.02221   1.03682    1.0313   1.03555   1.03224   \n",
            "DZA    0.9384   0.94445   0.94841   0.95096    0.9523   0.94972   0.95093   \n",
            "AGO   0.62922  0.814817  0.817616  0.820415   0.87413  0.826013  0.778431   \n",
            "ATG   0.92814   0.95211  0.927653   0.94992   0.96619  0.969974   0.98406   \n",
            "..        ...       ...       ...       ...       ...       ...       ...   \n",
            "PSE   0.98853   0.98242   1.00465   0.99323   0.99987   1.00168   0.99789   \n",
            "WLD   0.97659   0.98092   0.99778   0.99776   0.99941   1.00749   1.00471   \n",
            "YEM   0.81435   0.82601   0.83883  0.751452  0.764399   0.87172  0.855027   \n",
            "ZMB   0.98924   1.00451   1.00346    1.0035   1.00302   1.02007    1.0242   \n",
            "ZWE  0.971549   0.98006   0.97872  0.947768   0.97974   0.98341   0.99222   \n",
            "\n",
            "         2018      2019      2020      2021         Income Group  \n",
            "AFG   0.66691   0.67169  0.732629  0.742085           Low income  \n",
            "ALB   1.03765   1.02963   1.02746  1.038592  Upper middle income  \n",
            "DZA   0.95499   0.95809    0.9692  0.964907  Lower middle income  \n",
            "AGO   0.78123  0.784029  0.786828  0.800822  Lower middle income  \n",
            "ATG   0.99208   0.98921  0.923806  0.927653          High income  \n",
            "..        ...       ...       ...       ...                  ...  \n",
            "PSE   1.00261   0.99934   0.99572  0.997172  Lower middle income  \n",
            "WLD   0.98211   0.98303     0.983  1.004253       Unknown income  \n",
            "YEM  0.867974  0.893868  0.906815  0.919762           Low income  \n",
            "ZMB  1.044281  1.050299  1.032243  1.038262           Low income  \n",
            "ZWE   0.99664   0.99917   1.00511  0.971549  Lower middle income  \n",
            "\n",
            "[236 rows x 19 columns]\n"
          ]
        }
      ]
    },
    {
      "cell_type": "markdown",
      "source": [
        "Clustering:\n",
        "\n",
        "KMEAN:"
      ],
      "metadata": {
        "id": "DLhS4z6IaKTA"
      }
    },
    {
      "cell_type": "code",
      "source": [
        "from sklearn.cluster import KMeans;\n",
        "import matplotlib.pyplot as plt;\n",
        "\n",
        "%env OMP_NUM_THREADS = 1\n",
        "\n",
        "for filename in (\"Target4.5_mean.csv\", \"Target4.5_median.csv\", \"Target4.5_ffill.csv\", \"Target4.5_bfill.csv\", \"Target4.5_regr.csv\"):\n",
        "  df = pd.read_csv(filename);\n",
        "  #remove the country code and income group columns before doing elbow\n",
        "  df = df.iloc[:, :-1];\n",
        "  df = df.iloc[:, 1:];\n",
        "  #print(df);\n",
        "\n",
        "  inertia = [];\n",
        "  cluster_range = range(1, 11);\n",
        "\n",
        "  for num_cluster in cluster_range:\n",
        "    km = KMeans(num_cluster);\n",
        "    km.fit(df);\n",
        "    inertia.append(km.inertia_);\n",
        "  plt.xlabel(\"Number of Cluster\");\n",
        "  plt.ylabel(\"disortion/inertia\");\n",
        "  plt.title(filename);\n",
        "  plt.plot(cluster_range, inertia);\n",
        "  plt.scatter(cluster_range, inertia);\n",
        "  plt.show();"
      ],
      "metadata": {
        "colab": {
          "base_uri": "https://localhost:8080/",
          "height": 1000
        },
        "id": "FlYg7kaeaK8K",
        "outputId": "7e25279c-be25-48a1-f432-6ffeeeb82008"
      },
      "execution_count": 23,
      "outputs": [
        {
          "output_type": "stream",
          "name": "stdout",
          "text": [
            "env: OMP_NUM_THREADS=1\n"
          ]
        },
        {
          "output_type": "display_data",
          "data": {
            "text/plain": [
              "<Figure size 432x288 with 1 Axes>"
            ],
            "image/png": "[encoded data removed]"
          },
          "metadata": {
            "needs_background": "light"
          }
        },
        {
          "output_type": "display_data",
          "data": {
            "text/plain": [
              "<Figure size 432x288 with 1 Axes>"
            ],
            "image/png": "[encoded data removed]"
          },
          "metadata": {
            "needs_background": "light"
          }
        },
        {
          "output_type": "display_data",
          "data": {
            "text/plain": [
              "<Figure size 432x288 with 1 Axes>"
            ],
            "image/png": "[encoded data removed]"
          },
          "metadata": {
            "needs_background": "light"
          }
        },
        {
          "output_type": "display_data",
          "data": {
            "text/plain": [
              "<Figure size 432x288 with 1 Axes>"
            ],
            "image/png": "[encoded data removed]"
          },
          "metadata": {
            "needs_background": "light"
          }
        },
        {
          "output_type": "display_data",
          "data": {
            "text/plain": [
              "<Figure size 432x288 with 1 Axes>"
            ],
            "image/png": "[encoded data removed]"
          },
          "metadata": {
            "needs_background": "light"
          }
        }
      ]
    },
    {
      "cell_type": "markdown",
      "source": [
        "Therefore, for the best number of clusters:\n",
        "\n",
        "mean: 4\n",
        "\n",
        "median: 5\n",
        "\n",
        "ffill: 5\n",
        "\n",
        "bfill: 5\n",
        "\n",
        "regr: 4"
      ],
      "metadata": {
        "id": "L_cqDKZMd-0N"
      }
    },
    {
      "cell_type": "code",
      "source": [
        "#dictionary to store corresponding k values\n",
        "K_values = {\n",
        "    \"Target4.5_mean.csv\": 4,\n",
        "    \"Target4.5_median.csv\": 5,\n",
        "    \"Target4.5_ffill.csv\": 5,\n",
        "    \"Target4.5_bfill.csv\": 5,\n",
        "    \"Target4.5_regr.csv\": 4,\n",
        "};"
      ],
      "metadata": {
        "id": "bBvVkbatecVH"
      },
      "execution_count": 24,
      "outputs": []
    },
    {
      "cell_type": "code",
      "source": [
        "from sklearn import metrics;\n",
        "\n",
        "for key, value in K_values.items():\n",
        "  KMClustering = KMeans(n_clusters=value);\n",
        "  df_km = pd.read_csv(key);\n",
        "  km_data = df_km.copy().iloc[:, 1:-1];\n",
        "  #print(km_data);\n",
        "  km_target = df_km.copy().iloc[:, -1:];\n",
        "  target = km_target[\"Income Group\"].to_list();\n",
        "  #print(target);\n",
        "  KMClustering.fit(km_data);\n",
        "\n",
        "  #evaluation without labels ----- Silhouette Coefficient\n",
        "  print(\n",
        "    key,\n",
        "    \": Silhouette Coefficient for KMeans: %0.3f\"\n",
        "    % metrics.silhouette_score(km_data, KMClustering.labels_, metric='euclidean')\n",
        "  );\n",
        "\n",
        "  #evaluation with labels (country income group) ------ Adjusted Rand Index\n",
        "  #print(KMClustering.labels_);\n",
        "  print(\n",
        "      key,\n",
        "      \": Adjusted Rand Index for KMeans:\",\n",
        "      metrics.adjusted_rand_score(target, KMClustering.labels_)\n",
        "  )"
      ],
      "metadata": {
        "colab": {
          "base_uri": "https://localhost:8080/"
        },
        "id": "m8xiQlX4ekQa",
        "outputId": "5e7bed9e-9677-4edd-9bde-cf5eaeaf3828"
      },
      "execution_count": 25,
      "outputs": [
        {
          "output_type": "stream",
          "name": "stdout",
          "text": [
            "Target4.5_mean.csv : Silhouette Coefficient for KMeans: 0.306\n",
            "Target4.5_mean.csv : Adjusted Rand Index for KMeans: 0.06982970211193909\n",
            "Target4.5_median.csv : Silhouette Coefficient for KMeans: 0.415\n",
            "Target4.5_median.csv : Adjusted Rand Index for KMeans: 0.07206760504007094\n",
            "Target4.5_ffill.csv : Silhouette Coefficient for KMeans: 0.609\n",
            "Target4.5_ffill.csv : Adjusted Rand Index for KMeans: 0.04833707967750326\n",
            "Target4.5_bfill.csv : Silhouette Coefficient for KMeans: 0.701\n",
            "Target4.5_bfill.csv : Adjusted Rand Index for KMeans: 0.12055565371058113\n",
            "Target4.5_regr.csv : Silhouette Coefficient for KMeans: 0.534\n",
            "Target4.5_regr.csv : Adjusted Rand Index for KMeans: 0.06312194098009294\n"
          ]
        }
      ]
    },
    {
      "cell_type": "markdown",
      "source": [
        "Hierarchical Clustering"
      ],
      "metadata": {
        "id": "MsYINV8ye1T5"
      }
    },
    {
      "cell_type": "code",
      "source": [
        "from sklearn.cluster import AgglomerativeClustering;\n",
        "\n",
        "for key, value in K_values.items():\n",
        "  df_hc = pd.read_csv(key);\n",
        "  hc_data = df_hc.copy().iloc[:, 1:-1];\n",
        "  hc_target = df_hc.copy().iloc[:, -1:];\n",
        "  target = hc_target[\"Income Group\"].to_list();\n",
        "\n",
        "  for linkage in ( \"average\", \"complete\", \"single\"):\n",
        "    HClustering = AgglomerativeClustering(linkage=linkage, n_clusters=value);\n",
        "    HClustering.fit(hc_data);\n",
        "\n",
        "    #evaluation without labels ----- Silhouette Coefficient\n",
        "    print(\n",
        "      key,\n",
        "      \": Silhouette Coefficient for Hierarchical Clustering - \",\n",
        "      linkage,\n",
        "      \" : %0.3f\"\n",
        "      % metrics.silhouette_score(hc_data, HClustering.labels_, metric='euclidean')\n",
        "    );\n",
        "\n",
        "    #evaluation with labels (country income group) ------ Adjusted Rand Index\n",
        "    print(\n",
        "      key,\n",
        "      \": Adjusted Rand Index for Hierachical Clustering - \",\n",
        "      linkage,\n",
        "      \" : \",\n",
        "      metrics.adjusted_rand_score(target, KMClustering.labels_)\n",
        "    );"
      ],
      "metadata": {
        "colab": {
          "base_uri": "https://localhost:8080/"
        },
        "id": "TJrJ8XhMe1vu",
        "outputId": "2776fb5b-caf9-4fcc-eb51-e4490174cafc"
      },
      "execution_count": 26,
      "outputs": [
        {
          "output_type": "stream",
          "name": "stdout",
          "text": [
            "Target4.5_mean.csv : Silhouette Coefficient for Hierarchical Clustering -  average  : 0.669\n",
            "Target4.5_mean.csv : Adjusted Rand Index for Hierachical Clustering -  average  :  0.06312194098009294\n",
            "Target4.5_mean.csv : Silhouette Coefficient for Hierarchical Clustering -  complete  : 0.513\n",
            "Target4.5_mean.csv : Adjusted Rand Index for Hierachical Clustering -  complete  :  0.06312194098009294\n",
            "Target4.5_mean.csv : Silhouette Coefficient for Hierarchical Clustering -  single  : 0.357\n",
            "Target4.5_mean.csv : Adjusted Rand Index for Hierachical Clustering -  single  :  0.06312194098009294\n",
            "Target4.5_median.csv : Silhouette Coefficient for Hierarchical Clustering -  average  : 0.548\n",
            "Target4.5_median.csv : Adjusted Rand Index for Hierachical Clustering -  average  :  0.06312194098009294\n",
            "Target4.5_median.csv : Silhouette Coefficient for Hierarchical Clustering -  complete  : 0.408\n",
            "Target4.5_median.csv : Adjusted Rand Index for Hierachical Clustering -  complete  :  0.06312194098009294\n",
            "Target4.5_median.csv : Silhouette Coefficient for Hierarchical Clustering -  single  : 0.341\n",
            "Target4.5_median.csv : Adjusted Rand Index for Hierachical Clustering -  single  :  0.06312194098009294\n",
            "Target4.5_ffill.csv : Silhouette Coefficient for Hierarchical Clustering -  average  : 0.779\n",
            "Target4.5_ffill.csv : Adjusted Rand Index for Hierachical Clustering -  average  :  0.06312194098009294\n",
            "Target4.5_ffill.csv : Silhouette Coefficient for Hierarchical Clustering -  complete  : 0.779\n",
            "Target4.5_ffill.csv : Adjusted Rand Index for Hierachical Clustering -  complete  :  0.06312194098009294\n",
            "Target4.5_ffill.csv : Silhouette Coefficient for Hierarchical Clustering -  single  : 0.813\n",
            "Target4.5_ffill.csv : Adjusted Rand Index for Hierachical Clustering -  single  :  0.06312194098009294\n",
            "Target4.5_bfill.csv : Silhouette Coefficient for Hierarchical Clustering -  average  : 0.586\n",
            "Target4.5_bfill.csv : Adjusted Rand Index for Hierachical Clustering -  average  :  0.06312194098009294\n",
            "Target4.5_bfill.csv : Silhouette Coefficient for Hierarchical Clustering -  complete  : 0.641\n",
            "Target4.5_bfill.csv : Adjusted Rand Index for Hierachical Clustering -  complete  :  0.06312194098009294\n",
            "Target4.5_bfill.csv : Silhouette Coefficient for Hierarchical Clustering -  single  : 0.633\n",
            "Target4.5_bfill.csv : Adjusted Rand Index for Hierachical Clustering -  single  :  0.06312194098009294\n",
            "Target4.5_regr.csv : Silhouette Coefficient for Hierarchical Clustering -  average  : 0.676\n",
            "Target4.5_regr.csv : Adjusted Rand Index for Hierachical Clustering -  average  :  0.06312194098009294\n",
            "Target4.5_regr.csv : Silhouette Coefficient for Hierarchical Clustering -  complete  : 0.605\n",
            "Target4.5_regr.csv : Adjusted Rand Index for Hierachical Clustering -  complete  :  0.06312194098009294\n",
            "Target4.5_regr.csv : Silhouette Coefficient for Hierarchical Clustering -  single  : 0.733\n",
            "Target4.5_regr.csv : Adjusted Rand Index for Hierachical Clustering -  single  :  0.06312194098009294\n"
          ]
        }
      ]
    },
    {
      "cell_type": "markdown",
      "source": [
        "As we can learn from the performance metrics above, in terms of the performance of using Hierarchical Clustering, the best linkage for each of the imputation method are :\n",
        "\n",
        "Imputation Method:\n",
        "\n",
        "Mean: average ------ Silhouette Coefficient: 0.669\n",
        "\n",
        "Median: average ------ Silhouette Coefficient: 0.548\n",
        "\n",
        "Ffill: single ------ Silhouette Coefficient: 0.813\n",
        "\n",
        "Bfill: complete ------ Silhouette Coefficient: 0.641\n",
        "\n",
        "Regression: single ------ Silhouette Coefficient: 0.733"
      ],
      "metadata": {
        "id": "4U1ILIWHe_a_"
      }
    },
    {
      "cell_type": "markdown",
      "source": [
        "Birch Clustering"
      ],
      "metadata": {
        "id": "E6B_BlVlfa6f"
      }
    },
    {
      "cell_type": "code",
      "source": [
        "from sklearn.cluster import Birch;\n",
        "\n",
        "for key, value in K_values.items():\n",
        "  df_bir = pd.read_csv(key);\n",
        "  bir_data = df_bir.copy().iloc[:, 1:-1];\n",
        "  bir_target = df_bir.copy().iloc[:, -1:];\n",
        "  target = bir_target[\"Income Group\"].to_list();\n",
        "\n",
        "  BClustering = Birch(n_clusters=value);\n",
        "  BClustering.fit(bir_data);\n",
        "\n",
        "  #evaluation without labels ----- Silhouette Coefficient\n",
        "  print(\n",
        "    key,\n",
        "    \": Silhouette Coefficient for Birch: %0.3f\"\n",
        "    % metrics.silhouette_score(bir_data, BClustering.predict(bir_data), metric='euclidean')\n",
        "  );\n",
        "\n",
        "  #evaluation with labels (country income group) ------ Adjusted Rand Index\n",
        "  print(\n",
        "      key,\n",
        "      \": Adjusted Rand Index for Birch:\",\n",
        "      metrics.adjusted_rand_score(target, BClustering.predict(bir_data))\n",
        "  );"
      ],
      "metadata": {
        "colab": {
          "base_uri": "https://localhost:8080/"
        },
        "id": "R0gvT7I0fdHy",
        "outputId": "43c6ff2d-852f-4cef-e39a-9cfff621fee2"
      },
      "execution_count": 27,
      "outputs": [
        {
          "output_type": "stream",
          "name": "stdout",
          "text": [
            "Target4.5_mean.csv : Silhouette Coefficient for Birch: 0.723\n",
            "Target4.5_mean.csv : Adjusted Rand Index for Birch: 0.02474167742714914\n",
            "Target4.5_median.csv : Silhouette Coefficient for Birch: 0.715\n",
            "Target4.5_median.csv : Adjusted Rand Index for Birch: 0.02474167742714914\n",
            "Target4.5_ffill.csv : Silhouette Coefficient for Birch: 0.779\n",
            "Target4.5_ffill.csv : Adjusted Rand Index for Birch: -0.0011250201025410783\n",
            "Target4.5_bfill.csv : Silhouette Coefficient for Birch: 0.633\n",
            "Target4.5_bfill.csv : Adjusted Rand Index for Birch: 0.09981211919950057\n",
            "Target4.5_regr.csv : Silhouette Coefficient for Birch: 0.678\n",
            "Target4.5_regr.csv : Adjusted Rand Index for Birch: 0.028821616280055366\n"
          ]
        },
        {
          "output_type": "stream",
          "name": "stderr",
          "text": [
            "/usr/local/lib/python3.7/dist-packages/sklearn/cluster/_birch.py:721: ConvergenceWarning: Number of subclusters found (2) by BIRCH is less than (4). Decrease the threshold.\n",
            "  ConvergenceWarning,\n",
            "/usr/local/lib/python3.7/dist-packages/sklearn/cluster/_birch.py:721: ConvergenceWarning: Number of subclusters found (2) by BIRCH is less than (5). Decrease the threshold.\n",
            "  ConvergenceWarning,\n",
            "/usr/local/lib/python3.7/dist-packages/sklearn/cluster/_birch.py:721: ConvergenceWarning: Number of subclusters found (2) by BIRCH is less than (4). Decrease the threshold.\n",
            "  ConvergenceWarning,\n"
          ]
        }
      ]
    },
    {
      "cell_type": "markdown",
      "source": [
        "Because the bigger Silhouette Coefficient is, the better the clustering model is, and so does the Adjusted Rand Index, the closer it is to 1, the better the clustering model is.\n",
        "\n",
        "Therefore, according to the calculation above, we can learn that the best clustering methods for each of the imputation method are:\n",
        "\n",
        "Mean: Birch Clustering ------ Silhouette Coefficient: 0.723\n",
        "\n",
        "Median: Birch Clustering ------ Silhouette Coefficient: 0.715\n",
        "\n",
        "Ffill: Hierarchical Clustering ----- single linkage ----- Silhouette Coefficient: 0.813\n",
        "\n",
        "Bfill: KMeans Clustering ------ Silhouette Coefficient: 0.701\n",
        "\n",
        "Regression: Hierarchical Clustering ----- single linkage ---- Silhouette Coefficient: 0.733\n",
        "\n",
        "Because, 0.813 > 0.733 > 0.723 > 0.715 > 0.701, the best imputation method for clustering is Forward fill using Hierarchical Clustering with complete linkage."
      ],
      "metadata": {
        "id": "gGdk8tqwjMRj"
      }
    }
  ]
}